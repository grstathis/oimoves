{
 "cells": [
  {
   "cell_type": "code",
   "execution_count": 1,
   "metadata": {
    "slideshow": {
     "slide_type": "skip"
    }
   },
   "outputs": [],
   "source": [
    "import pandas as pd\n",
    "import numpy as np\n",
    "import matplotlib.pyplot as plt\n",
    "plt.rcParams['figure.figsize'] = [12, 8]\n",
    "plt.rcParams['figure.dpi'] = 100 # 200 e.g. is really fine, but slower"
   ]
  },
  {
   "cell_type": "code",
   "execution_count": 2,
   "metadata": {
    "slideshow": {
     "slide_type": "skip"
    }
   },
   "outputs": [],
   "source": [
    "iomoves_df = pd.read_csv(\"Dataset Paper A 500 OI Moves 7 Apr 2020 A_v4.csv\",encoding='latin1')"
   ]
  },
  {
   "cell_type": "markdown",
   "metadata": {
    "slideshow": {
     "slide_type": "slide"
    }
   },
   "source": [
    "### The dataset imported in python"
   ]
  },
  {
   "cell_type": "code",
   "execution_count": 3,
   "metadata": {
    "scrolled": true,
    "slideshow": {
     "slide_type": "slide"
    }
   },
   "outputs": [
    {
     "data": {
      "text/html": [
       "<div>\n",
       "<style scoped>\n",
       "    .dataframe tbody tr th:only-of-type {\n",
       "        vertical-align: middle;\n",
       "    }\n",
       "\n",
       "    .dataframe tbody tr th {\n",
       "        vertical-align: top;\n",
       "    }\n",
       "\n",
       "    .dataframe thead th {\n",
       "        text-align: right;\n",
       "    }\n",
       "</style>\n",
       "<table border=\"1\" class=\"dataframe\">\n",
       "  <thead>\n",
       "    <tr style=\"text-align: right;\">\n",
       "      <th></th>\n",
       "      <th>Num of CS</th>\n",
       "      <th>Name of Company</th>\n",
       "      <th>Website</th>\n",
       "      <th>INPIRE Code</th>\n",
       "      <th>Country</th>\n",
       "      <th>Region</th>\n",
       "      <th>Sector</th>\n",
       "      <th>Manufacturing/Service</th>\n",
       "      <th>Size</th>\n",
       "      <th>Tech Intensity</th>\n",
       "      <th>...</th>\n",
       "      <th>Author</th>\n",
       "      <th>Interview date</th>\n",
       "      <th>Reviewer</th>\n",
       "      <th>OI Journey number</th>\n",
       "      <th>Relevant text in the case study</th>\n",
       "      <th>Innovating with</th>\n",
       "      <th>leading to</th>\n",
       "      <th>No in typology</th>\n",
       "      <th>Management score</th>\n",
       "      <th>Success score</th>\n",
       "    </tr>\n",
       "  </thead>\n",
       "  <tbody>\n",
       "    <tr>\n",
       "      <th>0</th>\n",
       "      <td>1</td>\n",
       "      <td>Adamant Composites</td>\n",
       "      <td>www.adamant-composites.gr</td>\n",
       "      <td>SE24</td>\n",
       "      <td>Greece</td>\n",
       "      <td>Southern Europe</td>\n",
       "      <td>Nanotechnology</td>\n",
       "      <td>Manufacturing</td>\n",
       "      <td>Small</td>\n",
       "      <td>High-tech</td>\n",
       "      <td>...</td>\n",
       "      <td>Efi Bakogianni</td>\n",
       "      <td>11/2/2016</td>\n",
       "      <td>George Tsekouras</td>\n",
       "      <td>1.2</td>\n",
       "      <td>In close cooperation with the University of Pa...</td>\n",
       "      <td>R&amp;D service providers</td>\n",
       "      <td>Internal exploitation</td>\n",
       "      <td>1</td>\n",
       "      <td>7.Moderately well managed</td>\n",
       "      <td>8.Very Successful</td>\n",
       "    </tr>\n",
       "    <tr>\n",
       "      <th>1</th>\n",
       "      <td>1</td>\n",
       "      <td>Adamant Composites</td>\n",
       "      <td>www.adamant-composites.gr</td>\n",
       "      <td>SE24</td>\n",
       "      <td>Greece</td>\n",
       "      <td>Southern Europe</td>\n",
       "      <td>Nanotechnology</td>\n",
       "      <td>Manufacturing</td>\n",
       "      <td>Small</td>\n",
       "      <td>High-tech</td>\n",
       "      <td>...</td>\n",
       "      <td>Efi Bakogianni</td>\n",
       "      <td>11/2/2016</td>\n",
       "      <td>George Tsekouras</td>\n",
       "      <td>1.3</td>\n",
       "      <td>under technology development contracts in coll...</td>\n",
       "      <td>Complementary partners</td>\n",
       "      <td>Internal exploitation</td>\n",
       "      <td>4</td>\n",
       "      <td>8.Very well managed</td>\n",
       "      <td>8.Very Successful</td>\n",
       "    </tr>\n",
       "    <tr>\n",
       "      <th>2</th>\n",
       "      <td>1</td>\n",
       "      <td>Adamant Composites</td>\n",
       "      <td>www.adamant-composites.gr</td>\n",
       "      <td>SE24</td>\n",
       "      <td>Greece</td>\n",
       "      <td>Southern Europe</td>\n",
       "      <td>Nanotechnology</td>\n",
       "      <td>Manufacturing</td>\n",
       "      <td>Small</td>\n",
       "      <td>High-tech</td>\n",
       "      <td>...</td>\n",
       "      <td>Efi Bakogianni</td>\n",
       "      <td>11/2/2016</td>\n",
       "      <td>George Tsekouras</td>\n",
       "      <td>1.4</td>\n",
       "      <td>Thus, Adamant established strategic collaborat...</td>\n",
       "      <td>Customers</td>\n",
       "      <td>Internal exploitation</td>\n",
       "      <td>7</td>\n",
       "      <td>7.Moderately well managed</td>\n",
       "      <td>7.Moderately successful</td>\n",
       "    </tr>\n",
       "    <tr>\n",
       "      <th>3</th>\n",
       "      <td>1</td>\n",
       "      <td>Adamant Composites</td>\n",
       "      <td>www.adamant-composites.gr</td>\n",
       "      <td>SE24</td>\n",
       "      <td>Greece</td>\n",
       "      <td>Southern Europe</td>\n",
       "      <td>Nanotechnology</td>\n",
       "      <td>Manufacturing</td>\n",
       "      <td>Small</td>\n",
       "      <td>High-tech</td>\n",
       "      <td>...</td>\n",
       "      <td>Efi Bakogianni</td>\n",
       "      <td>11/2/2016</td>\n",
       "      <td>George Tsekouras</td>\n",
       "      <td>1.5</td>\n",
       "      <td>Thus, Adamant established strategic collaborat...</td>\n",
       "      <td>Customers</td>\n",
       "      <td>Internal exploitation</td>\n",
       "      <td>7</td>\n",
       "      <td>8.Very well managed</td>\n",
       "      <td>7.Moderately successful</td>\n",
       "    </tr>\n",
       "    <tr>\n",
       "      <th>4</th>\n",
       "      <td>1</td>\n",
       "      <td>Adamant Composites</td>\n",
       "      <td>www.adamant-composites.gr</td>\n",
       "      <td>SE24</td>\n",
       "      <td>Greece</td>\n",
       "      <td>Southern Europe</td>\n",
       "      <td>Nanotechnology</td>\n",
       "      <td>Manufacturing</td>\n",
       "      <td>Small</td>\n",
       "      <td>High-tech</td>\n",
       "      <td>...</td>\n",
       "      <td>Efi Bakogianni</td>\n",
       "      <td>11/2/2016</td>\n",
       "      <td>George Tsekouras</td>\n",
       "      <td>1.6</td>\n",
       "      <td>Adamants collaboration with Alchemy  a Greek...</td>\n",
       "      <td>Complementary partners</td>\n",
       "      <td>Internal exploitation</td>\n",
       "      <td>4</td>\n",
       "      <td>7.Moderately well managed</td>\n",
       "      <td>7.Moderately successful</td>\n",
       "    </tr>\n",
       "  </tbody>\n",
       "</table>\n",
       "<p>5 rows × 28 columns</p>\n",
       "</div>"
      ],
      "text/plain": [
       "   Num of CS     Name of Company                    Website INPIRE Code  \\\n",
       "0          1  Adamant Composites  www.adamant-composites.gr        SE24   \n",
       "1          1  Adamant Composites  www.adamant-composites.gr        SE24   \n",
       "2          1  Adamant Composites  www.adamant-composites.gr        SE24   \n",
       "3          1  Adamant Composites  www.adamant-composites.gr        SE24   \n",
       "4          1  Adamant Composites  www.adamant-composites.gr        SE24   \n",
       "\n",
       "  Country           Region          Sector Manufacturing/Service   Size  \\\n",
       "0  Greece  Southern Europe  Nanotechnology         Manufacturing  Small   \n",
       "1  Greece  Southern Europe  Nanotechnology         Manufacturing  Small   \n",
       "2  Greece  Southern Europe  Nanotechnology         Manufacturing  Small   \n",
       "3  Greece  Southern Europe  Nanotechnology         Manufacturing  Small   \n",
       "4  Greece  Southern Europe  Nanotechnology         Manufacturing  Small   \n",
       "\n",
       "  Tech Intensity  ...          Author Interview date          Reviewer  \\\n",
       "0      High-tech  ...  Efi Bakogianni      11/2/2016  George Tsekouras   \n",
       "1      High-tech  ...  Efi Bakogianni      11/2/2016  George Tsekouras   \n",
       "2      High-tech  ...  Efi Bakogianni      11/2/2016  George Tsekouras   \n",
       "3      High-tech  ...  Efi Bakogianni      11/2/2016  George Tsekouras   \n",
       "4      High-tech  ...  Efi Bakogianni      11/2/2016  George Tsekouras   \n",
       "\n",
       "  OI Journey number                    Relevant text in the case study  \\\n",
       "0               1.2  In close cooperation with the University of Pa...   \n",
       "1               1.3  under technology development contracts in coll...   \n",
       "2               1.4  Thus, Adamant established strategic collaborat...   \n",
       "3               1.5  Thus, Adamant established strategic collaborat...   \n",
       "4               1.6  Adamants collaboration with Alchemy  a Greek...   \n",
       "\n",
       "          Innovating with             leading to No in typology  \\\n",
       "0   R&D service providers  Internal exploitation              1   \n",
       "1  Complementary partners  Internal exploitation              4   \n",
       "2               Customers  Internal exploitation              7   \n",
       "3               Customers  Internal exploitation              7   \n",
       "4  Complementary partners  Internal exploitation              4   \n",
       "\n",
       "            Management score            Success score  \n",
       "0  7.Moderately well managed        8.Very Successful  \n",
       "1        8.Very well managed        8.Very Successful  \n",
       "2  7.Moderately well managed  7.Moderately successful  \n",
       "3        8.Very well managed  7.Moderately successful  \n",
       "4  7.Moderately well managed  7.Moderately successful  \n",
       "\n",
       "[5 rows x 28 columns]"
      ]
     },
     "execution_count": 3,
     "metadata": {},
     "output_type": "execute_result"
    }
   ],
   "source": [
    "iomoves_df.head()"
   ]
  },
  {
   "cell_type": "code",
   "execution_count": 4,
   "metadata": {
    "slideshow": {
     "slide_type": "skip"
    }
   },
   "outputs": [
    {
     "data": {
      "text/plain": [
       "Index(['Num of CS', 'Name of Company', 'Website', 'INPIRE Code', 'Country',\n",
       "       'Region', 'Sector', 'Manufacturing/Service', 'Size', 'Tech Intensity',\n",
       "       'Life-cycle stage', 'Strong/Not strong case', 'Product Innovation',\n",
       "       'Process Innovation', 'Service Innovation', 'Organizational Innovation',\n",
       "       'Customer and MKG Innovation', 'Distribution Channels', 'Author',\n",
       "       'Interview date', 'Reviewer', 'OI Journey number',\n",
       "       'Relevant text in the case study', 'Innovating with', 'leading to',\n",
       "       'No in typology', 'Management score', 'Success score'],\n",
       "      dtype='object')"
      ]
     },
     "execution_count": 4,
     "metadata": {},
     "output_type": "execute_result"
    }
   ],
   "source": [
    "iomoves_df.columns"
   ]
  },
  {
   "cell_type": "code",
   "execution_count": 5,
   "metadata": {
    "slideshow": {
     "slide_type": "skip"
    }
   },
   "outputs": [],
   "source": [
    "iomoves_df.loc[iomoves_df['Innovating with'] == 'Users (not paying the firm)','Innovating with'] = 'Users'"
   ]
  },
  {
   "cell_type": "code",
   "execution_count": 6,
   "metadata": {
    "slideshow": {
     "slide_type": "skip"
    }
   },
   "outputs": [],
   "source": [
    "iomoves_thin_df = iomoves_df[['Num of CS','OI Journey number','Innovating with', 'leading to','No in typology','Management score',\n",
    "       'Success score']].copy()"
   ]
  },
  {
   "cell_type": "markdown",
   "metadata": {
    "slideshow": {
     "slide_type": "slide"
    }
   },
   "source": [
    "### We care for these columns now"
   ]
  },
  {
   "cell_type": "code",
   "execution_count": 7,
   "metadata": {
    "slideshow": {
     "slide_type": "slide"
    }
   },
   "outputs": [
    {
     "data": {
      "text/html": [
       "<div>\n",
       "<style scoped>\n",
       "    .dataframe tbody tr th:only-of-type {\n",
       "        vertical-align: middle;\n",
       "    }\n",
       "\n",
       "    .dataframe tbody tr th {\n",
       "        vertical-align: top;\n",
       "    }\n",
       "\n",
       "    .dataframe thead th {\n",
       "        text-align: right;\n",
       "    }\n",
       "</style>\n",
       "<table border=\"1\" class=\"dataframe\">\n",
       "  <thead>\n",
       "    <tr style=\"text-align: right;\">\n",
       "      <th></th>\n",
       "      <th>Num of CS</th>\n",
       "      <th>OI Journey number</th>\n",
       "      <th>Innovating with</th>\n",
       "      <th>leading to</th>\n",
       "      <th>No in typology</th>\n",
       "      <th>Management score</th>\n",
       "      <th>Success score</th>\n",
       "    </tr>\n",
       "  </thead>\n",
       "  <tbody>\n",
       "    <tr>\n",
       "      <th>0</th>\n",
       "      <td>1</td>\n",
       "      <td>1.2</td>\n",
       "      <td>R&amp;D service providers</td>\n",
       "      <td>Internal exploitation</td>\n",
       "      <td>1</td>\n",
       "      <td>7.Moderately well managed</td>\n",
       "      <td>8.Very Successful</td>\n",
       "    </tr>\n",
       "    <tr>\n",
       "      <th>1</th>\n",
       "      <td>1</td>\n",
       "      <td>1.3</td>\n",
       "      <td>Complementary partners</td>\n",
       "      <td>Internal exploitation</td>\n",
       "      <td>4</td>\n",
       "      <td>8.Very well managed</td>\n",
       "      <td>8.Very Successful</td>\n",
       "    </tr>\n",
       "    <tr>\n",
       "      <th>2</th>\n",
       "      <td>1</td>\n",
       "      <td>1.4</td>\n",
       "      <td>Customers</td>\n",
       "      <td>Internal exploitation</td>\n",
       "      <td>7</td>\n",
       "      <td>7.Moderately well managed</td>\n",
       "      <td>7.Moderately successful</td>\n",
       "    </tr>\n",
       "    <tr>\n",
       "      <th>3</th>\n",
       "      <td>1</td>\n",
       "      <td>1.5</td>\n",
       "      <td>Customers</td>\n",
       "      <td>Internal exploitation</td>\n",
       "      <td>7</td>\n",
       "      <td>8.Very well managed</td>\n",
       "      <td>7.Moderately successful</td>\n",
       "    </tr>\n",
       "    <tr>\n",
       "      <th>4</th>\n",
       "      <td>1</td>\n",
       "      <td>1.6</td>\n",
       "      <td>Complementary partners</td>\n",
       "      <td>Internal exploitation</td>\n",
       "      <td>4</td>\n",
       "      <td>7.Moderately well managed</td>\n",
       "      <td>7.Moderately successful</td>\n",
       "    </tr>\n",
       "    <tr>\n",
       "      <th>...</th>\n",
       "      <td>...</td>\n",
       "      <td>...</td>\n",
       "      <td>...</td>\n",
       "      <td>...</td>\n",
       "      <td>...</td>\n",
       "      <td>...</td>\n",
       "      <td>...</td>\n",
       "    </tr>\n",
       "    <tr>\n",
       "      <th>495</th>\n",
       "      <td>105</td>\n",
       "      <td>118.5</td>\n",
       "      <td>R&amp;D service providers</td>\n",
       "      <td>Internal exploitation</td>\n",
       "      <td>1</td>\n",
       "      <td>8.Very well managed</td>\n",
       "      <td>8.Very Successful</td>\n",
       "    </tr>\n",
       "    <tr>\n",
       "      <th>496</th>\n",
       "      <td>105</td>\n",
       "      <td>118.6</td>\n",
       "      <td>R&amp;D service providers</td>\n",
       "      <td>Internal exploitation</td>\n",
       "      <td>1</td>\n",
       "      <td>8.Very well managed</td>\n",
       "      <td>8.Very Successful</td>\n",
       "    </tr>\n",
       "    <tr>\n",
       "      <th>497</th>\n",
       "      <td>105</td>\n",
       "      <td>118.7</td>\n",
       "      <td>Suppliers</td>\n",
       "      <td>Internal exploitation</td>\n",
       "      <td>10</td>\n",
       "      <td>9.Extremely well managed</td>\n",
       "      <td>8.Very Successful</td>\n",
       "    </tr>\n",
       "    <tr>\n",
       "      <th>498</th>\n",
       "      <td>105</td>\n",
       "      <td>118.8</td>\n",
       "      <td>Suppliers</td>\n",
       "      <td>Internal exploitation</td>\n",
       "      <td>10</td>\n",
       "      <td>9.Extremely well managed</td>\n",
       "      <td>8.Very Successful</td>\n",
       "    </tr>\n",
       "    <tr>\n",
       "      <th>499</th>\n",
       "      <td>106</td>\n",
       "      <td>120.1</td>\n",
       "      <td>Customers</td>\n",
       "      <td>Internal exploitation</td>\n",
       "      <td>7</td>\n",
       "      <td>7.Moderately well managed</td>\n",
       "      <td>7.Moderately successful</td>\n",
       "    </tr>\n",
       "  </tbody>\n",
       "</table>\n",
       "<p>500 rows × 7 columns</p>\n",
       "</div>"
      ],
      "text/plain": [
       "     Num of CS  OI Journey number         Innovating with  \\\n",
       "0            1                1.2   R&D service providers   \n",
       "1            1                1.3  Complementary partners   \n",
       "2            1                1.4               Customers   \n",
       "3            1                1.5               Customers   \n",
       "4            1                1.6  Complementary partners   \n",
       "..         ...                ...                     ...   \n",
       "495        105              118.5   R&D service providers   \n",
       "496        105              118.6   R&D service providers   \n",
       "497        105              118.7               Suppliers   \n",
       "498        105              118.8               Suppliers   \n",
       "499        106              120.1               Customers   \n",
       "\n",
       "                leading to  No in typology           Management score  \\\n",
       "0    Internal exploitation               1  7.Moderately well managed   \n",
       "1    Internal exploitation               4        8.Very well managed   \n",
       "2    Internal exploitation               7  7.Moderately well managed   \n",
       "3    Internal exploitation               7        8.Very well managed   \n",
       "4    Internal exploitation               4  7.Moderately well managed   \n",
       "..                     ...             ...                        ...   \n",
       "495  Internal exploitation               1        8.Very well managed   \n",
       "496  Internal exploitation               1        8.Very well managed   \n",
       "497  Internal exploitation              10   9.Extremely well managed   \n",
       "498  Internal exploitation              10   9.Extremely well managed   \n",
       "499  Internal exploitation               7  7.Moderately well managed   \n",
       "\n",
       "               Success score  \n",
       "0          8.Very Successful  \n",
       "1          8.Very Successful  \n",
       "2    7.Moderately successful  \n",
       "3    7.Moderately successful  \n",
       "4    7.Moderately successful  \n",
       "..                       ...  \n",
       "495        8.Very Successful  \n",
       "496        8.Very Successful  \n",
       "497        8.Very Successful  \n",
       "498        8.Very Successful  \n",
       "499  7.Moderately successful  \n",
       "\n",
       "[500 rows x 7 columns]"
      ]
     },
     "execution_count": 7,
     "metadata": {},
     "output_type": "execute_result"
    }
   ],
   "source": [
    "iomoves_thin_df"
   ]
  },
  {
   "cell_type": "code",
   "execution_count": 8,
   "metadata": {
    "slideshow": {
     "slide_type": "skip"
    }
   },
   "outputs": [
    {
     "data": {
      "text/plain": [
       "Num of CS              int64\n",
       "OI Journey number    float64\n",
       "dtype: object"
      ]
     },
     "execution_count": 8,
     "metadata": {},
     "output_type": "execute_result"
    }
   ],
   "source": [
    "iomoves_thin_df[['Num of CS','OI Journey number']].dtypes"
   ]
  },
  {
   "cell_type": "code",
   "execution_count": 9,
   "metadata": {
    "slideshow": {
     "slide_type": "skip"
    }
   },
   "outputs": [],
   "source": [
    "iomoves_thin_df.loc[:,'oi_journey_number'] = iomoves_thin_df.loc[:,'OI Journey number'].apply(lambda x: str(x).split('.')[1])\n",
    "iomoves_thin_df.loc[:,'oi_case_num'] = iomoves_thin_df.loc[:,'OI Journey number'].apply(lambda x: str(x).split('.')[0])"
   ]
  },
  {
   "cell_type": "code",
   "execution_count": 10,
   "metadata": {
    "slideshow": {
     "slide_type": "skip"
    }
   },
   "outputs": [
    {
     "data": {
      "text/html": [
       "<div>\n",
       "<style scoped>\n",
       "    .dataframe tbody tr th:only-of-type {\n",
       "        vertical-align: middle;\n",
       "    }\n",
       "\n",
       "    .dataframe tbody tr th {\n",
       "        vertical-align: top;\n",
       "    }\n",
       "\n",
       "    .dataframe thead th {\n",
       "        text-align: right;\n",
       "    }\n",
       "</style>\n",
       "<table border=\"1\" class=\"dataframe\">\n",
       "  <thead>\n",
       "    <tr style=\"text-align: right;\">\n",
       "      <th></th>\n",
       "      <th>Num of CS</th>\n",
       "      <th>OI Journey number</th>\n",
       "      <th>Innovating with</th>\n",
       "      <th>leading to</th>\n",
       "      <th>No in typology</th>\n",
       "      <th>Management score</th>\n",
       "      <th>Success score</th>\n",
       "      <th>oi_journey_number</th>\n",
       "      <th>oi_case_num</th>\n",
       "    </tr>\n",
       "  </thead>\n",
       "  <tbody>\n",
       "    <tr>\n",
       "      <th>0</th>\n",
       "      <td>1</td>\n",
       "      <td>1.2</td>\n",
       "      <td>R&amp;D service providers</td>\n",
       "      <td>Internal exploitation</td>\n",
       "      <td>1</td>\n",
       "      <td>7.Moderately well managed</td>\n",
       "      <td>8.Very Successful</td>\n",
       "      <td>2</td>\n",
       "      <td>1</td>\n",
       "    </tr>\n",
       "    <tr>\n",
       "      <th>1</th>\n",
       "      <td>1</td>\n",
       "      <td>1.3</td>\n",
       "      <td>Complementary partners</td>\n",
       "      <td>Internal exploitation</td>\n",
       "      <td>4</td>\n",
       "      <td>8.Very well managed</td>\n",
       "      <td>8.Very Successful</td>\n",
       "      <td>3</td>\n",
       "      <td>1</td>\n",
       "    </tr>\n",
       "    <tr>\n",
       "      <th>2</th>\n",
       "      <td>1</td>\n",
       "      <td>1.4</td>\n",
       "      <td>Customers</td>\n",
       "      <td>Internal exploitation</td>\n",
       "      <td>7</td>\n",
       "      <td>7.Moderately well managed</td>\n",
       "      <td>7.Moderately successful</td>\n",
       "      <td>4</td>\n",
       "      <td>1</td>\n",
       "    </tr>\n",
       "    <tr>\n",
       "      <th>3</th>\n",
       "      <td>1</td>\n",
       "      <td>1.5</td>\n",
       "      <td>Customers</td>\n",
       "      <td>Internal exploitation</td>\n",
       "      <td>7</td>\n",
       "      <td>8.Very well managed</td>\n",
       "      <td>7.Moderately successful</td>\n",
       "      <td>5</td>\n",
       "      <td>1</td>\n",
       "    </tr>\n",
       "    <tr>\n",
       "      <th>4</th>\n",
       "      <td>1</td>\n",
       "      <td>1.6</td>\n",
       "      <td>Complementary partners</td>\n",
       "      <td>Internal exploitation</td>\n",
       "      <td>4</td>\n",
       "      <td>7.Moderately well managed</td>\n",
       "      <td>7.Moderately successful</td>\n",
       "      <td>6</td>\n",
       "      <td>1</td>\n",
       "    </tr>\n",
       "    <tr>\n",
       "      <th>5</th>\n",
       "      <td>1</td>\n",
       "      <td>1.7</td>\n",
       "      <td>Complementary partners</td>\n",
       "      <td>Co-exploitation</td>\n",
       "      <td>5</td>\n",
       "      <td>7.Moderately well managed</td>\n",
       "      <td>7.Moderately successful</td>\n",
       "      <td>7</td>\n",
       "      <td>1</td>\n",
       "    </tr>\n",
       "  </tbody>\n",
       "</table>\n",
       "</div>"
      ],
      "text/plain": [
       "   Num of CS  OI Journey number         Innovating with  \\\n",
       "0          1                1.2   R&D service providers   \n",
       "1          1                1.3  Complementary partners   \n",
       "2          1                1.4               Customers   \n",
       "3          1                1.5               Customers   \n",
       "4          1                1.6  Complementary partners   \n",
       "5          1                1.7  Complementary partners   \n",
       "\n",
       "              leading to  No in typology           Management score  \\\n",
       "0  Internal exploitation               1  7.Moderately well managed   \n",
       "1  Internal exploitation               4        8.Very well managed   \n",
       "2  Internal exploitation               7  7.Moderately well managed   \n",
       "3  Internal exploitation               7        8.Very well managed   \n",
       "4  Internal exploitation               4  7.Moderately well managed   \n",
       "5        Co-exploitation               5  7.Moderately well managed   \n",
       "\n",
       "             Success score oi_journey_number oi_case_num  \n",
       "0        8.Very Successful                 2           1  \n",
       "1        8.Very Successful                 3           1  \n",
       "2  7.Moderately successful                 4           1  \n",
       "3  7.Moderately successful                 5           1  \n",
       "4  7.Moderately successful                 6           1  \n",
       "5  7.Moderately successful                 7           1  "
      ]
     },
     "execution_count": 10,
     "metadata": {},
     "output_type": "execute_result"
    }
   ],
   "source": [
    "iomoves_thin_df[iomoves_thin_df['oi_case_num'] == '1']"
   ]
  },
  {
   "cell_type": "code",
   "execution_count": 11,
   "metadata": {
    "slideshow": {
     "slide_type": "skip"
    }
   },
   "outputs": [
    {
     "data": {
      "text/plain": [
       "False"
      ]
     },
     "execution_count": 11,
     "metadata": {},
     "output_type": "execute_result"
    }
   ],
   "source": [
    "any(iomoves_thin_df.groupby('oi_case_num')['Num of CS'].nunique() != 1)"
   ]
  },
  {
   "cell_type": "code",
   "execution_count": 12,
   "metadata": {
    "slideshow": {
     "slide_type": "skip"
    }
   },
   "outputs": [],
   "source": [
    "iomoves_thin_path_df = iomoves_thin_df[['Num of CS','oi_journey_number','Innovating with']]"
   ]
  },
  {
   "cell_type": "code",
   "execution_count": 13,
   "metadata": {},
   "outputs": [
    {
     "name": "stderr",
     "output_type": "stream",
     "text": [
      "C:\\Users\\GrigoropoulosS\\AppData\\Local\\Continuum\\anaconda3\\envs\\oimoves\\lib\\site-packages\\pandas\\core\\indexing.py:966: SettingWithCopyWarning: \n",
      "A value is trying to be set on a copy of a slice from a DataFrame.\n",
      "Try using .loc[row_indexer,col_indexer] = value instead\n",
      "\n",
      "See the caveats in the documentation: https://pandas.pydata.org/pandas-docs/stable/user_guide/indexing.html#returning-a-view-versus-a-copy\n",
      "  self.obj[item] = s\n"
     ]
    }
   ],
   "source": [
    "iomoves_thin_path_df.loc[:,'oi_journey_number'] = iomoves_thin_path_df.loc[:,'oi_journey_number'].astype(int)"
   ]
  },
  {
   "cell_type": "code",
   "execution_count": 14,
   "metadata": {
    "scrolled": true,
    "slideshow": {
     "slide_type": "skip"
    }
   },
   "outputs": [
    {
     "data": {
      "text/html": [
       "<div>\n",
       "<style scoped>\n",
       "    .dataframe tbody tr th:only-of-type {\n",
       "        vertical-align: middle;\n",
       "    }\n",
       "\n",
       "    .dataframe tbody tr th {\n",
       "        vertical-align: top;\n",
       "    }\n",
       "\n",
       "    .dataframe thead th {\n",
       "        text-align: right;\n",
       "    }\n",
       "</style>\n",
       "<table border=\"1\" class=\"dataframe\">\n",
       "  <thead>\n",
       "    <tr style=\"text-align: right;\">\n",
       "      <th></th>\n",
       "      <th>Num of CS</th>\n",
       "      <th>oi_journey_number</th>\n",
       "      <th>Innovating with</th>\n",
       "    </tr>\n",
       "  </thead>\n",
       "  <tbody>\n",
       "    <tr>\n",
       "      <th>0</th>\n",
       "      <td>1</td>\n",
       "      <td>2</td>\n",
       "      <td>R&amp;D service providers</td>\n",
       "    </tr>\n",
       "    <tr>\n",
       "      <th>1</th>\n",
       "      <td>1</td>\n",
       "      <td>3</td>\n",
       "      <td>Complementary partners</td>\n",
       "    </tr>\n",
       "    <tr>\n",
       "      <th>2</th>\n",
       "      <td>1</td>\n",
       "      <td>4</td>\n",
       "      <td>Customers</td>\n",
       "    </tr>\n",
       "    <tr>\n",
       "      <th>3</th>\n",
       "      <td>1</td>\n",
       "      <td>5</td>\n",
       "      <td>Customers</td>\n",
       "    </tr>\n",
       "    <tr>\n",
       "      <th>4</th>\n",
       "      <td>1</td>\n",
       "      <td>6</td>\n",
       "      <td>Complementary partners</td>\n",
       "    </tr>\n",
       "  </tbody>\n",
       "</table>\n",
       "</div>"
      ],
      "text/plain": [
       "   Num of CS  oi_journey_number         Innovating with\n",
       "0          1                  2   R&D service providers\n",
       "1          1                  3  Complementary partners\n",
       "2          1                  4               Customers\n",
       "3          1                  5               Customers\n",
       "4          1                  6  Complementary partners"
      ]
     },
     "execution_count": 14,
     "metadata": {},
     "output_type": "execute_result"
    }
   ],
   "source": [
    "iomoves_thin_path_df.head()"
   ]
  },
  {
   "cell_type": "code",
   "execution_count": 15,
   "metadata": {},
   "outputs": [],
   "source": [
    "def reset_io_journey_number(gr):\n",
    "    gr = gr.sort_values('oi_journey_number',ignore_index=True)\n",
    "    if gr.loc[0,'oi_journey_number'] !=1:\n",
    "        dist = gr.loc[0,'oi_journey_number'] - 1\n",
    "        gr['oi_journey_number'] = gr['oi_journey_number'] - dist\n",
    "    return gr    "
   ]
  },
  {
   "cell_type": "code",
   "execution_count": null,
   "metadata": {},
   "outputs": [],
   "source": []
  },
  {
   "cell_type": "code",
   "execution_count": 16,
   "metadata": {},
   "outputs": [],
   "source": [
    "io_journey_count_df = iomoves_thin_path_df.groupby('Num of CS').count()[['oi_journey_number']].reset_index()\n",
    "cases_list = io_journey_count_df[io_journey_count_df['oi_journey_number'] > 1]['Num of CS'].to_list()"
   ]
  },
  {
   "cell_type": "code",
   "execution_count": 17,
   "metadata": {},
   "outputs": [],
   "source": [
    "iomoves_thin_path_df = iomoves_thin_path_df[iomoves_thin_path_df['Num of CS'].isin(cases_list)]\n",
    "iomoves_thin_path_df = iomoves_thin_path_df.groupby('Num of CS')[['oi_journey_number','Innovating with']].apply(reset_io_journey_number).reset_index().drop(columns='level_1')"
   ]
  },
  {
   "cell_type": "code",
   "execution_count": 18,
   "metadata": {
    "slideshow": {
     "slide_type": "skip"
    }
   },
   "outputs": [
    {
     "data": {
      "text/html": [
       "<div>\n",
       "<style scoped>\n",
       "    .dataframe tbody tr th:only-of-type {\n",
       "        vertical-align: middle;\n",
       "    }\n",
       "\n",
       "    .dataframe tbody tr th {\n",
       "        vertical-align: top;\n",
       "    }\n",
       "\n",
       "    .dataframe thead th {\n",
       "        text-align: right;\n",
       "    }\n",
       "</style>\n",
       "<table border=\"1\" class=\"dataframe\">\n",
       "  <thead>\n",
       "    <tr style=\"text-align: right;\">\n",
       "      <th></th>\n",
       "      <th>Num of CS</th>\n",
       "      <th>oi_journey_number</th>\n",
       "      <th>Innovating with</th>\n",
       "    </tr>\n",
       "  </thead>\n",
       "  <tbody>\n",
       "    <tr>\n",
       "      <th>0</th>\n",
       "      <td>1</td>\n",
       "      <td>1</td>\n",
       "      <td>R&amp;D service providers</td>\n",
       "    </tr>\n",
       "    <tr>\n",
       "      <th>1</th>\n",
       "      <td>1</td>\n",
       "      <td>2</td>\n",
       "      <td>Complementary partners</td>\n",
       "    </tr>\n",
       "    <tr>\n",
       "      <th>2</th>\n",
       "      <td>1</td>\n",
       "      <td>3</td>\n",
       "      <td>Customers</td>\n",
       "    </tr>\n",
       "    <tr>\n",
       "      <th>3</th>\n",
       "      <td>1</td>\n",
       "      <td>4</td>\n",
       "      <td>Customers</td>\n",
       "    </tr>\n",
       "    <tr>\n",
       "      <th>4</th>\n",
       "      <td>1</td>\n",
       "      <td>5</td>\n",
       "      <td>Complementary partners</td>\n",
       "    </tr>\n",
       "    <tr>\n",
       "      <th>5</th>\n",
       "      <td>1</td>\n",
       "      <td>6</td>\n",
       "      <td>Complementary partners</td>\n",
       "    </tr>\n",
       "  </tbody>\n",
       "</table>\n",
       "</div>"
      ],
      "text/plain": [
       "   Num of CS  oi_journey_number         Innovating with\n",
       "0          1                  1   R&D service providers\n",
       "1          1                  2  Complementary partners\n",
       "2          1                  3               Customers\n",
       "3          1                  4               Customers\n",
       "4          1                  5  Complementary partners\n",
       "5          1                  6  Complementary partners"
      ]
     },
     "execution_count": 18,
     "metadata": {},
     "output_type": "execute_result"
    }
   ],
   "source": [
    "iomoves_thin_path_df[iomoves_thin_path_df['Num of CS'] == 1]"
   ]
  },
  {
   "cell_type": "code",
   "execution_count": 19,
   "metadata": {
    "slideshow": {
     "slide_type": "skip"
    }
   },
   "outputs": [
    {
     "data": {
      "text/plain": [
       "100"
      ]
     },
     "execution_count": 19,
     "metadata": {},
     "output_type": "execute_result"
    }
   ],
   "source": [
    "iomoves_thin_path_df['Num of CS'].nunique()"
   ]
  },
  {
   "cell_type": "code",
   "execution_count": 20,
   "metadata": {
    "slideshow": {
     "slide_type": "skip"
    }
   },
   "outputs": [],
   "source": [
    "def make_pairs(row,stride=1,column_name='Innovating with'):\n",
    "    ret = []\n",
    "    if row.shape[0] == 1:\n",
    "        return ret\n",
    "    else:\n",
    "        s = row['oi_journey_number'].to_list()\n",
    "        l = row[column_name].to_list()\n",
    "        for i,v in enumerate(l[:-1]):\n",
    "#             print(l[i+stride])\n",
    "            if (i+stride) > len(l[:-1]):\n",
    "                return ret\n",
    "            else:\n",
    "                if (s[i] + stride) == s[i+stride]: \n",
    "                    t = (v,l[i+stride])\n",
    "                    ret.append(t)\n",
    "        return ret"
   ]
  },
  {
   "cell_type": "code",
   "execution_count": 21,
   "metadata": {
    "slideshow": {
     "slide_type": "skip"
    }
   },
   "outputs": [
    {
     "data": {
      "text/html": [
       "<div>\n",
       "<style scoped>\n",
       "    .dataframe tbody tr th:only-of-type {\n",
       "        vertical-align: middle;\n",
       "    }\n",
       "\n",
       "    .dataframe tbody tr th {\n",
       "        vertical-align: top;\n",
       "    }\n",
       "\n",
       "    .dataframe thead th {\n",
       "        text-align: right;\n",
       "    }\n",
       "</style>\n",
       "<table border=\"1\" class=\"dataframe\">\n",
       "  <thead>\n",
       "    <tr style=\"text-align: right;\">\n",
       "      <th></th>\n",
       "      <th>Num of CS</th>\n",
       "      <th>oi_moves</th>\n",
       "    </tr>\n",
       "  </thead>\n",
       "  <tbody>\n",
       "    <tr>\n",
       "      <th>0</th>\n",
       "      <td>1</td>\n",
       "      <td>[(R&amp;D service providers, Complementary partner...</td>\n",
       "    </tr>\n",
       "    <tr>\n",
       "      <th>1</th>\n",
       "      <td>2</td>\n",
       "      <td>[(R&amp;D service providers, R&amp;D service providers...</td>\n",
       "    </tr>\n",
       "    <tr>\n",
       "      <th>2</th>\n",
       "      <td>3</td>\n",
       "      <td>[(R&amp;D service providers, Complementary partner...</td>\n",
       "    </tr>\n",
       "    <tr>\n",
       "      <th>3</th>\n",
       "      <td>4</td>\n",
       "      <td>[(R&amp;D service providers, Customers), (Customer...</td>\n",
       "    </tr>\n",
       "    <tr>\n",
       "      <th>4</th>\n",
       "      <td>5</td>\n",
       "      <td>[(Customers, R&amp;D service providers), (R&amp;D serv...</td>\n",
       "    </tr>\n",
       "    <tr>\n",
       "      <th>...</th>\n",
       "      <td>...</td>\n",
       "      <td>...</td>\n",
       "    </tr>\n",
       "    <tr>\n",
       "      <th>95</th>\n",
       "      <td>101</td>\n",
       "      <td>[(R&amp;D service providers, Complementary partner...</td>\n",
       "    </tr>\n",
       "    <tr>\n",
       "      <th>96</th>\n",
       "      <td>102</td>\n",
       "      <td>[(R&amp;D service providers, Complementary partner...</td>\n",
       "    </tr>\n",
       "    <tr>\n",
       "      <th>97</th>\n",
       "      <td>103</td>\n",
       "      <td>[(Complementary partners, Complementary partne...</td>\n",
       "    </tr>\n",
       "    <tr>\n",
       "      <th>98</th>\n",
       "      <td>104</td>\n",
       "      <td>[(Suppliers, Complementary partners), (Complem...</td>\n",
       "    </tr>\n",
       "    <tr>\n",
       "      <th>99</th>\n",
       "      <td>105</td>\n",
       "      <td>[(R&amp;D service providers, R&amp;D service providers...</td>\n",
       "    </tr>\n",
       "  </tbody>\n",
       "</table>\n",
       "<p>100 rows × 2 columns</p>\n",
       "</div>"
      ],
      "text/plain": [
       "    Num of CS                                           oi_moves\n",
       "0           1  [(R&D service providers, Complementary partner...\n",
       "1           2  [(R&D service providers, R&D service providers...\n",
       "2           3  [(R&D service providers, Complementary partner...\n",
       "3           4  [(R&D service providers, Customers), (Customer...\n",
       "4           5  [(Customers, R&D service providers), (R&D serv...\n",
       "..        ...                                                ...\n",
       "95        101  [(R&D service providers, Complementary partner...\n",
       "96        102  [(R&D service providers, Complementary partner...\n",
       "97        103  [(Complementary partners, Complementary partne...\n",
       "98        104  [(Suppliers, Complementary partners), (Complem...\n",
       "99        105  [(R&D service providers, R&D service providers...\n",
       "\n",
       "[100 rows x 2 columns]"
      ]
     },
     "execution_count": 21,
     "metadata": {},
     "output_type": "execute_result"
    }
   ],
   "source": [
    "oi_tuples = iomoves_thin_path_df.sort_values(['Num of CS','oi_journey_number']).groupby('Num of CS').apply(make_pairs)\n",
    "oi_tuples_df = pd.DataFrame(oi_tuples).reset_index().rename({0:'oi_moves'},axis=1)\n",
    "oi_tuples_df"
   ]
  },
  {
   "cell_type": "code",
   "execution_count": 22,
   "metadata": {
    "slideshow": {
     "slide_type": "skip"
    }
   },
   "outputs": [
    {
     "data": {
      "text/html": [
       "<div>\n",
       "<style scoped>\n",
       "    .dataframe tbody tr th:only-of-type {\n",
       "        vertical-align: middle;\n",
       "    }\n",
       "\n",
       "    .dataframe tbody tr th {\n",
       "        vertical-align: top;\n",
       "    }\n",
       "\n",
       "    .dataframe thead th {\n",
       "        text-align: right;\n",
       "    }\n",
       "</style>\n",
       "<table border=\"1\" class=\"dataframe\">\n",
       "  <thead>\n",
       "    <tr style=\"text-align: right;\">\n",
       "      <th></th>\n",
       "      <th>oi_moves_in</th>\n",
       "      <th>oi_moves_out</th>\n",
       "    </tr>\n",
       "  </thead>\n",
       "  <tbody>\n",
       "    <tr>\n",
       "      <th>0</th>\n",
       "      <td>R&amp;D service providers</td>\n",
       "      <td>Complementary partners</td>\n",
       "    </tr>\n",
       "    <tr>\n",
       "      <th>1</th>\n",
       "      <td>Complementary partners</td>\n",
       "      <td>Customers</td>\n",
       "    </tr>\n",
       "    <tr>\n",
       "      <th>2</th>\n",
       "      <td>Customers</td>\n",
       "      <td>Customers</td>\n",
       "    </tr>\n",
       "    <tr>\n",
       "      <th>3</th>\n",
       "      <td>Customers</td>\n",
       "      <td>Complementary partners</td>\n",
       "    </tr>\n",
       "    <tr>\n",
       "      <th>4</th>\n",
       "      <td>Complementary partners</td>\n",
       "      <td>Complementary partners</td>\n",
       "    </tr>\n",
       "    <tr>\n",
       "      <th>...</th>\n",
       "      <td>...</td>\n",
       "      <td>...</td>\n",
       "    </tr>\n",
       "    <tr>\n",
       "      <th>362</th>\n",
       "      <td>R&amp;D service providers</td>\n",
       "      <td>R&amp;D service providers</td>\n",
       "    </tr>\n",
       "    <tr>\n",
       "      <th>363</th>\n",
       "      <td>Complementary partners</td>\n",
       "      <td>R&amp;D service providers</td>\n",
       "    </tr>\n",
       "    <tr>\n",
       "      <th>364</th>\n",
       "      <td>R&amp;D service providers</td>\n",
       "      <td>R&amp;D service providers</td>\n",
       "    </tr>\n",
       "    <tr>\n",
       "      <th>365</th>\n",
       "      <td>R&amp;D service providers</td>\n",
       "      <td>Suppliers</td>\n",
       "    </tr>\n",
       "    <tr>\n",
       "      <th>366</th>\n",
       "      <td>Suppliers</td>\n",
       "      <td>Suppliers</td>\n",
       "    </tr>\n",
       "  </tbody>\n",
       "</table>\n",
       "<p>367 rows × 2 columns</p>\n",
       "</div>"
      ],
      "text/plain": [
       "                oi_moves_in            oi_moves_out\n",
       "0     R&D service providers  Complementary partners\n",
       "1    Complementary partners               Customers\n",
       "2                 Customers               Customers\n",
       "3                 Customers  Complementary partners\n",
       "4    Complementary partners  Complementary partners\n",
       "..                      ...                     ...\n",
       "362   R&D service providers   R&D service providers\n",
       "363  Complementary partners   R&D service providers\n",
       "364   R&D service providers   R&D service providers\n",
       "365   R&D service providers               Suppliers\n",
       "366               Suppliers               Suppliers\n",
       "\n",
       "[367 rows x 2 columns]"
      ]
     },
     "execution_count": 22,
     "metadata": {},
     "output_type": "execute_result"
    }
   ],
   "source": [
    "flat_oi_moves_l = [item for sublist in oi_tuples_df['oi_moves'].values for item in sublist]\n",
    "flat_oi_moves_df = pd.DataFrame(flat_oi_moves_l).rename({0:'oi_moves_in',1:'oi_moves_out'},axis=1)\n",
    "flat_oi_moves_df"
   ]
  },
  {
   "cell_type": "code",
   "execution_count": 23,
   "metadata": {
    "slideshow": {
     "slide_type": "skip"
    }
   },
   "outputs": [],
   "source": [
    "from sklearn.metrics import confusion_matrix\n",
    "labels = iomoves_thin_path_df['Innovating with'].unique()\n",
    "conf_m = confusion_matrix(flat_oi_moves_df['oi_moves_in'], flat_oi_moves_df['oi_moves_out'],labels=labels)"
   ]
  },
  {
   "cell_type": "code",
   "execution_count": 24,
   "metadata": {
    "slideshow": {
     "slide_type": "skip"
    }
   },
   "outputs": [],
   "source": [
    "conf_m_df = pd.DataFrame(conf_m, index=labels, columns=labels)"
   ]
  },
  {
   "cell_type": "markdown",
   "metadata": {
    "slideshow": {
     "slide_type": "slide"
    }
   },
   "source": [
    "### Counts per move in the dataset"
   ]
  },
  {
   "cell_type": "code",
   "execution_count": 25,
   "metadata": {
    "slideshow": {
     "slide_type": "slide"
    }
   },
   "outputs": [
    {
     "data": {
      "image/png": "[encoded data removed]",
      "text/plain": [
       "<Figure size 1000x500 with 2 Axes>"
      ]
     },
     "metadata": {
      "needs_background": "light"
     },
     "output_type": "display_data"
    }
   ],
   "source": [
    "import seaborn as sns\n",
    "plt.figure(figsize=(10,5))\n",
    "chart = sns.heatmap(conf_m_df, annot=True)\n",
    "chart.xaxis.tick_top()\n",
    "c_plot = plt.xticks(rotation=90, horizontalalignment='right', fontweight='light')"
   ]
  },
  {
   "cell_type": "code",
   "execution_count": 26,
   "metadata": {
    "scrolled": true,
    "slideshow": {
     "slide_type": "skip"
    }
   },
   "outputs": [
    {
     "data": {
      "text/html": [
       "<div>\n",
       "<style scoped>\n",
       "    .dataframe tbody tr th:only-of-type {\n",
       "        vertical-align: middle;\n",
       "    }\n",
       "\n",
       "    .dataframe tbody tr th {\n",
       "        vertical-align: top;\n",
       "    }\n",
       "\n",
       "    .dataframe thead th {\n",
       "        text-align: right;\n",
       "    }\n",
       "</style>\n",
       "<table border=\"1\" class=\"dataframe\">\n",
       "  <thead>\n",
       "    <tr style=\"text-align: right;\">\n",
       "      <th></th>\n",
       "      <th>R&amp;D service providers</th>\n",
       "      <th>Complementary partners</th>\n",
       "      <th>Customers</th>\n",
       "      <th>Competitors</th>\n",
       "      <th>Suppliers</th>\n",
       "      <th>Users</th>\n",
       "      <th>Crowd</th>\n",
       "      <th>Community</th>\n",
       "    </tr>\n",
       "  </thead>\n",
       "  <tbody>\n",
       "    <tr>\n",
       "      <th>R&amp;D service providers</th>\n",
       "      <td>0.448819</td>\n",
       "      <td>0.307087</td>\n",
       "      <td>0.110236</td>\n",
       "      <td>0.031496</td>\n",
       "      <td>0.055118</td>\n",
       "      <td>0.007874</td>\n",
       "      <td>0.015748</td>\n",
       "      <td>0.023622</td>\n",
       "    </tr>\n",
       "    <tr>\n",
       "      <th>Complementary partners</th>\n",
       "      <td>0.260163</td>\n",
       "      <td>0.471545</td>\n",
       "      <td>0.130081</td>\n",
       "      <td>0.024390</td>\n",
       "      <td>0.048780</td>\n",
       "      <td>0.048780</td>\n",
       "      <td>0.008130</td>\n",
       "      <td>0.008130</td>\n",
       "    </tr>\n",
       "    <tr>\n",
       "      <th>Customers</th>\n",
       "      <td>0.203125</td>\n",
       "      <td>0.296875</td>\n",
       "      <td>0.406250</td>\n",
       "      <td>0.000000</td>\n",
       "      <td>0.062500</td>\n",
       "      <td>0.015625</td>\n",
       "      <td>0.015625</td>\n",
       "      <td>0.000000</td>\n",
       "    </tr>\n",
       "    <tr>\n",
       "      <th>Competitors</th>\n",
       "      <td>0.125000</td>\n",
       "      <td>0.625000</td>\n",
       "      <td>0.000000</td>\n",
       "      <td>0.250000</td>\n",
       "      <td>0.000000</td>\n",
       "      <td>0.000000</td>\n",
       "      <td>0.000000</td>\n",
       "      <td>0.000000</td>\n",
       "    </tr>\n",
       "    <tr>\n",
       "      <th>Suppliers</th>\n",
       "      <td>0.333333</td>\n",
       "      <td>0.285714</td>\n",
       "      <td>0.238095</td>\n",
       "      <td>0.000000</td>\n",
       "      <td>0.047619</td>\n",
       "      <td>0.047619</td>\n",
       "      <td>0.000000</td>\n",
       "      <td>0.047619</td>\n",
       "    </tr>\n",
       "    <tr>\n",
       "      <th>Users</th>\n",
       "      <td>0.181818</td>\n",
       "      <td>0.454545</td>\n",
       "      <td>0.000000</td>\n",
       "      <td>0.000000</td>\n",
       "      <td>0.000000</td>\n",
       "      <td>0.363636</td>\n",
       "      <td>0.000000</td>\n",
       "      <td>0.000000</td>\n",
       "    </tr>\n",
       "    <tr>\n",
       "      <th>Crowd</th>\n",
       "      <td>0.200000</td>\n",
       "      <td>0.000000</td>\n",
       "      <td>0.200000</td>\n",
       "      <td>0.000000</td>\n",
       "      <td>0.200000</td>\n",
       "      <td>0.000000</td>\n",
       "      <td>0.200000</td>\n",
       "      <td>0.200000</td>\n",
       "    </tr>\n",
       "    <tr>\n",
       "      <th>Community</th>\n",
       "      <td>0.250000</td>\n",
       "      <td>0.000000</td>\n",
       "      <td>0.375000</td>\n",
       "      <td>0.000000</td>\n",
       "      <td>0.125000</td>\n",
       "      <td>0.000000</td>\n",
       "      <td>0.125000</td>\n",
       "      <td>0.125000</td>\n",
       "    </tr>\n",
       "  </tbody>\n",
       "</table>\n",
       "</div>"
      ],
      "text/plain": [
       "                        R&D service providers  Complementary partners  \\\n",
       "R&D service providers                0.448819                0.307087   \n",
       "Complementary partners               0.260163                0.471545   \n",
       "Customers                            0.203125                0.296875   \n",
       "Competitors                          0.125000                0.625000   \n",
       "Suppliers                            0.333333                0.285714   \n",
       "Users                                0.181818                0.454545   \n",
       "Crowd                                0.200000                0.000000   \n",
       "Community                            0.250000                0.000000   \n",
       "\n",
       "                        Customers  Competitors  Suppliers     Users     Crowd  \\\n",
       "R&D service providers    0.110236     0.031496   0.055118  0.007874  0.015748   \n",
       "Complementary partners   0.130081     0.024390   0.048780  0.048780  0.008130   \n",
       "Customers                0.406250     0.000000   0.062500  0.015625  0.015625   \n",
       "Competitors              0.000000     0.250000   0.000000  0.000000  0.000000   \n",
       "Suppliers                0.238095     0.000000   0.047619  0.047619  0.000000   \n",
       "Users                    0.000000     0.000000   0.000000  0.363636  0.000000   \n",
       "Crowd                    0.200000     0.000000   0.200000  0.000000  0.200000   \n",
       "Community                0.375000     0.000000   0.125000  0.000000  0.125000   \n",
       "\n",
       "                        Community  \n",
       "R&D service providers    0.023622  \n",
       "Complementary partners   0.008130  \n",
       "Customers                0.000000  \n",
       "Competitors              0.000000  \n",
       "Suppliers                0.047619  \n",
       "Users                    0.000000  \n",
       "Crowd                    0.200000  \n",
       "Community                0.125000  "
      ]
     },
     "execution_count": 26,
     "metadata": {},
     "output_type": "execute_result"
    }
   ],
   "source": [
    "conf_mp_df = (conf_m_df.T /conf_m_df.T.sum()).T\n",
    "conf_mp_df"
   ]
  },
  {
   "cell_type": "code",
   "execution_count": 27,
   "metadata": {},
   "outputs": [],
   "source": [
    "conf_mp_df.to_csv('step_one_stochastic_probabilites.csv')"
   ]
  },
  {
   "cell_type": "markdown",
   "metadata": {
    "slideshow": {
     "slide_type": "slide"
    }
   },
   "source": [
    "### The Stochastic matrix\n",
    "#### What are the probabilities of the next move/step of open innovation"
   ]
  },
  {
   "cell_type": "code",
   "execution_count": 28,
   "metadata": {
    "slideshow": {
     "slide_type": "slide"
    }
   },
   "outputs": [
    {
     "data": {
      "image/png": "[encoded data removed]",
      "text/plain": [
       "<Figure size 1200x800 with 2 Axes>"
      ]
     },
     "metadata": {
      "needs_background": "light"
     },
     "output_type": "display_data"
    }
   ],
   "source": [
    "# plt.figure(figsize=(10,5))\n",
    "chart =sns.heatmap(conf_mp_df, annot=True)\n",
    "chart.xaxis.tick_top()\n",
    "c_plot = plt.xticks(rotation=90, horizontalalignment='right', fontweight='light')"
   ]
  },
  {
   "cell_type": "code",
   "execution_count": 29,
   "metadata": {
    "slideshow": {
     "slide_type": "skip"
    }
   },
   "outputs": [],
   "source": [
    "from numpy.linalg import matrix_power"
   ]
  },
  {
   "cell_type": "markdown",
   "metadata": {},
   "source": [
    "### What are the probabilities of the second move.\n",
    "#### Example : Given my stochastic matrix what is the probability a Customer to become a Competitor in TWO moves? "
   ]
  },
  {
   "cell_type": "markdown",
   "metadata": {},
   "source": [
    "#### What are the probabilities of the next move of open innovation (in 2 steps from now)"
   ]
  },
  {
   "cell_type": "code",
   "execution_count": 30,
   "metadata": {
    "slideshow": {
     "slide_type": "skip"
    }
   },
   "outputs": [
    {
     "data": {
      "text/html": [
       "<div>\n",
       "<style scoped>\n",
       "    .dataframe tbody tr th:only-of-type {\n",
       "        vertical-align: middle;\n",
       "    }\n",
       "\n",
       "    .dataframe tbody tr th {\n",
       "        vertical-align: top;\n",
       "    }\n",
       "\n",
       "    .dataframe thead th {\n",
       "        text-align: right;\n",
       "    }\n",
       "</style>\n",
       "<table border=\"1\" class=\"dataframe\">\n",
       "  <thead>\n",
       "    <tr style=\"text-align: right;\">\n",
       "      <th></th>\n",
       "      <th>R&amp;D service providers</th>\n",
       "      <th>Complementary partners</th>\n",
       "      <th>Customers</th>\n",
       "      <th>Competitors</th>\n",
       "      <th>Suppliers</th>\n",
       "      <th>Users</th>\n",
       "      <th>Crowd</th>\n",
       "      <th>Community</th>\n",
       "    </tr>\n",
       "  </thead>\n",
       "  <tbody>\n",
       "    <tr>\n",
       "      <th>R&amp;D service providers</th>\n",
       "      <td>0.336519</td>\n",
       "      <td>0.354370</td>\n",
       "      <td>0.159337</td>\n",
       "      <td>0.029500</td>\n",
       "      <td>0.055335</td>\n",
       "      <td>0.025724</td>\n",
       "      <td>0.017389</td>\n",
       "      <td>0.021826</td>\n",
       "    </tr>\n",
       "    <tr>\n",
       "      <th>Complementary partners</th>\n",
       "      <td>0.297704</td>\n",
       "      <td>0.392219</td>\n",
       "      <td>0.159153</td>\n",
       "      <td>0.025793</td>\n",
       "      <td>0.050437</td>\n",
       "      <td>0.047144</td>\n",
       "      <td>0.012606</td>\n",
       "      <td>0.014944</td>\n",
       "    </tr>\n",
       "    <tr>\n",
       "      <th>Customers</th>\n",
       "      <td>0.277721</td>\n",
       "      <td>0.347932</td>\n",
       "      <td>0.244055</td>\n",
       "      <td>0.013638</td>\n",
       "      <td>0.057169</td>\n",
       "      <td>0.031087</td>\n",
       "      <td>0.015085</td>\n",
       "      <td>0.013313</td>\n",
       "    </tr>\n",
       "    <tr>\n",
       "      <th>Competitors</th>\n",
       "      <td>0.249954</td>\n",
       "      <td>0.489351</td>\n",
       "      <td>0.095080</td>\n",
       "      <td>0.081681</td>\n",
       "      <td>0.037378</td>\n",
       "      <td>0.031472</td>\n",
       "      <td>0.007050</td>\n",
       "      <td>0.008034</td>\n",
       "    </tr>\n",
       "    <tr>\n",
       "      <th>Suppliers</th>\n",
       "      <td>0.308737</td>\n",
       "      <td>0.343024</td>\n",
       "      <td>0.199833</td>\n",
       "      <td>0.017467</td>\n",
       "      <td>0.055411</td>\n",
       "      <td>0.039866</td>\n",
       "      <td>0.017245</td>\n",
       "      <td>0.018417</td>\n",
       "    </tr>\n",
       "    <tr>\n",
       "      <th>Users</th>\n",
       "      <td>0.265975</td>\n",
       "      <td>0.435462</td>\n",
       "      <td>0.079171</td>\n",
       "      <td>0.016813</td>\n",
       "      <td>0.032194</td>\n",
       "      <td>0.155836</td>\n",
       "      <td>0.006559</td>\n",
       "      <td>0.007990</td>\n",
       "    </tr>\n",
       "    <tr>\n",
       "      <th>Crowd</th>\n",
       "      <td>0.287055</td>\n",
       "      <td>0.177935</td>\n",
       "      <td>0.265916</td>\n",
       "      <td>0.006299</td>\n",
       "      <td>0.098047</td>\n",
       "      <td>0.014224</td>\n",
       "      <td>0.071275</td>\n",
       "      <td>0.079248</td>\n",
       "    </tr>\n",
       "    <tr>\n",
       "      <th>Community</th>\n",
       "      <td>0.286293</td>\n",
       "      <td>0.223814</td>\n",
       "      <td>0.281540</td>\n",
       "      <td>0.007874</td>\n",
       "      <td>0.083794</td>\n",
       "      <td>0.013780</td>\n",
       "      <td>0.050421</td>\n",
       "      <td>0.052483</td>\n",
       "    </tr>\n",
       "  </tbody>\n",
       "</table>\n",
       "</div>"
      ],
      "text/plain": [
       "                        R&D service providers  Complementary partners  \\\n",
       "R&D service providers                0.336519                0.354370   \n",
       "Complementary partners               0.297704                0.392219   \n",
       "Customers                            0.277721                0.347932   \n",
       "Competitors                          0.249954                0.489351   \n",
       "Suppliers                            0.308737                0.343024   \n",
       "Users                                0.265975                0.435462   \n",
       "Crowd                                0.287055                0.177935   \n",
       "Community                            0.286293                0.223814   \n",
       "\n",
       "                        Customers  Competitors  Suppliers     Users     Crowd  \\\n",
       "R&D service providers    0.159337     0.029500   0.055335  0.025724  0.017389   \n",
       "Complementary partners   0.159153     0.025793   0.050437  0.047144  0.012606   \n",
       "Customers                0.244055     0.013638   0.057169  0.031087  0.015085   \n",
       "Competitors              0.095080     0.081681   0.037378  0.031472  0.007050   \n",
       "Suppliers                0.199833     0.017467   0.055411  0.039866  0.017245   \n",
       "Users                    0.079171     0.016813   0.032194  0.155836  0.006559   \n",
       "Crowd                    0.265916     0.006299   0.098047  0.014224  0.071275   \n",
       "Community                0.281540     0.007874   0.083794  0.013780  0.050421   \n",
       "\n",
       "                        Community  \n",
       "R&D service providers    0.021826  \n",
       "Complementary partners   0.014944  \n",
       "Customers                0.013313  \n",
       "Competitors              0.008034  \n",
       "Suppliers                0.018417  \n",
       "Users                    0.007990  \n",
       "Crowd                    0.079248  \n",
       "Community                0.052483  "
      ]
     },
     "execution_count": 30,
     "metadata": {},
     "output_type": "execute_result"
    }
   ],
   "source": [
    "pd.DataFrame(matrix_power(conf_mp_df.to_numpy(), 2),index=labels, columns=labels)"
   ]
  },
  {
   "cell_type": "code",
   "execution_count": 31,
   "metadata": {},
   "outputs": [],
   "source": [
    "pd.DataFrame(matrix_power(conf_mp_df.to_numpy(), 2),index=labels, columns=labels).to_csv('step_two_stochastic_probabilites.csv')"
   ]
  },
  {
   "cell_type": "markdown",
   "metadata": {},
   "source": [
    "#### What are the probabilities of the next move of open innovation (in 3 steps from now)"
   ]
  },
  {
   "cell_type": "code",
   "execution_count": 32,
   "metadata": {},
   "outputs": [
    {
     "data": {
      "text/html": [
       "<div>\n",
       "<style scoped>\n",
       "    .dataframe tbody tr th:only-of-type {\n",
       "        vertical-align: middle;\n",
       "    }\n",
       "\n",
       "    .dataframe tbody tr th {\n",
       "        vertical-align: top;\n",
       "    }\n",
       "\n",
       "    .dataframe thead th {\n",
       "        text-align: right;\n",
       "    }\n",
       "</style>\n",
       "<table border=\"1\" class=\"dataframe\">\n",
       "  <thead>\n",
       "    <tr style=\"text-align: right;\">\n",
       "      <th></th>\n",
       "      <th>R&amp;D service providers</th>\n",
       "      <th>Complementary partners</th>\n",
       "      <th>Customers</th>\n",
       "      <th>Competitors</th>\n",
       "      <th>Suppliers</th>\n",
       "      <th>Users</th>\n",
       "      <th>Crowd</th>\n",
       "      <th>Community</th>\n",
       "    </tr>\n",
       "  </thead>\n",
       "  <tbody>\n",
       "    <tr>\n",
       "      <th>R&amp;D service providers</th>\n",
       "      <td>0.311339</td>\n",
       "      <td>0.363685</td>\n",
       "      <td>0.172762</td>\n",
       "      <td>0.026617</td>\n",
       "      <td>0.054634</td>\n",
       "      <td>0.034415</td>\n",
       "      <td>0.016876</td>\n",
       "      <td>0.019671</td>\n",
       "    </tr>\n",
       "    <tr>\n",
       "      <th>Complementary partners</th>\n",
       "      <td>0.302849</td>\n",
       "      <td>0.375579</td>\n",
       "      <td>0.168628</td>\n",
       "      <td>0.025391</td>\n",
       "      <td>0.052279</td>\n",
       "      <td>0.043509</td>\n",
       "      <td>0.014753</td>\n",
       "      <td>0.017012</td>\n",
       "    </tr>\n",
       "    <tr>\n",
       "      <th>Customers</th>\n",
       "      <td>0.297497</td>\n",
       "      <td>0.360792</td>\n",
       "      <td>0.196643</td>\n",
       "      <td>0.020643</td>\n",
       "      <td>0.054937</td>\n",
       "      <td>0.036999</td>\n",
       "      <td>0.015697</td>\n",
       "      <td>0.016793</td>\n",
       "    </tr>\n",
       "    <tr>\n",
       "      <th>Competitors</th>\n",
       "      <td>0.290618</td>\n",
       "      <td>0.411771</td>\n",
       "      <td>0.143158</td>\n",
       "      <td>0.040228</td>\n",
       "      <td>0.047784</td>\n",
       "      <td>0.040549</td>\n",
       "      <td>0.011815</td>\n",
       "      <td>0.014077</td>\n",
       "    </tr>\n",
       "    <tr>\n",
       "      <th>Suppliers</th>\n",
       "      <td>0.304355</td>\n",
       "      <td>0.360755</td>\n",
       "      <td>0.183385</td>\n",
       "      <td>0.022457</td>\n",
       "      <td>0.054629</td>\n",
       "      <td>0.039422</td>\n",
       "      <td>0.016524</td>\n",
       "      <td>0.018472</td>\n",
       "    </tr>\n",
       "    <tr>\n",
       "      <th>Users</th>\n",
       "      <td>0.293223</td>\n",
       "      <td>0.401062</td>\n",
       "      <td>0.130102</td>\n",
       "      <td>0.023201</td>\n",
       "      <td>0.044694</td>\n",
       "      <td>0.082774</td>\n",
       "      <td>0.011277</td>\n",
       "      <td>0.013667</td>\n",
       "    </tr>\n",
       "    <tr>\n",
       "      <th>Crowd</th>\n",
       "      <td>0.299265</td>\n",
       "      <td>0.289415</td>\n",
       "      <td>0.230136</td>\n",
       "      <td>0.014956</td>\n",
       "      <td>0.069951</td>\n",
       "      <td>0.024936</td>\n",
       "      <td>0.034283</td>\n",
       "      <td>0.037057</td>\n",
       "    </tr>\n",
       "    <tr>\n",
       "      <th>Community</th>\n",
       "      <td>0.298536</td>\n",
       "      <td>0.312164</td>\n",
       "      <td>0.224766</td>\n",
       "      <td>0.016444</td>\n",
       "      <td>0.064929</td>\n",
       "      <td>0.026572</td>\n",
       "      <td>0.027372</td>\n",
       "      <td>0.029217</td>\n",
       "    </tr>\n",
       "  </tbody>\n",
       "</table>\n",
       "</div>"
      ],
      "text/plain": [
       "                        R&D service providers  Complementary partners  \\\n",
       "R&D service providers                0.311339                0.363685   \n",
       "Complementary partners               0.302849                0.375579   \n",
       "Customers                            0.297497                0.360792   \n",
       "Competitors                          0.290618                0.411771   \n",
       "Suppliers                            0.304355                0.360755   \n",
       "Users                                0.293223                0.401062   \n",
       "Crowd                                0.299265                0.289415   \n",
       "Community                            0.298536                0.312164   \n",
       "\n",
       "                        Customers  Competitors  Suppliers     Users     Crowd  \\\n",
       "R&D service providers    0.172762     0.026617   0.054634  0.034415  0.016876   \n",
       "Complementary partners   0.168628     0.025391   0.052279  0.043509  0.014753   \n",
       "Customers                0.196643     0.020643   0.054937  0.036999  0.015697   \n",
       "Competitors              0.143158     0.040228   0.047784  0.040549  0.011815   \n",
       "Suppliers                0.183385     0.022457   0.054629  0.039422  0.016524   \n",
       "Users                    0.130102     0.023201   0.044694  0.082774  0.011277   \n",
       "Crowd                    0.230136     0.014956   0.069951  0.024936  0.034283   \n",
       "Community                0.224766     0.016444   0.064929  0.026572  0.027372   \n",
       "\n",
       "                        Community  \n",
       "R&D service providers    0.019671  \n",
       "Complementary partners   0.017012  \n",
       "Customers                0.016793  \n",
       "Competitors              0.014077  \n",
       "Suppliers                0.018472  \n",
       "Users                    0.013667  \n",
       "Crowd                    0.037057  \n",
       "Community                0.029217  "
      ]
     },
     "execution_count": 32,
     "metadata": {},
     "output_type": "execute_result"
    }
   ],
   "source": [
    "pd.DataFrame(matrix_power(conf_mp_df.to_numpy(), 3),index=labels, columns=labels)"
   ]
  },
  {
   "cell_type": "code",
   "execution_count": 33,
   "metadata": {},
   "outputs": [],
   "source": [
    "pd.DataFrame(matrix_power(conf_mp_df.to_numpy(), 3),index=labels, columns=labels).to_csv('step_three_stochastic_probabilites.csv')"
   ]
  },
  {
   "cell_type": "markdown",
   "metadata": {},
   "source": [
    "#### What are the probabilities of the next move of open innovation (in 4 steps from now)"
   ]
  },
  {
   "cell_type": "code",
   "execution_count": 34,
   "metadata": {},
   "outputs": [
    {
     "data": {
      "text/html": [
       "<div>\n",
       "<style scoped>\n",
       "    .dataframe tbody tr th:only-of-type {\n",
       "        vertical-align: middle;\n",
       "    }\n",
       "\n",
       "    .dataframe tbody tr th {\n",
       "        vertical-align: top;\n",
       "    }\n",
       "\n",
       "    .dataframe thead th {\n",
       "        text-align: right;\n",
       "    }\n",
       "</style>\n",
       "<table border=\"1\" class=\"dataframe\">\n",
       "  <thead>\n",
       "    <tr style=\"text-align: right;\">\n",
       "      <th></th>\n",
       "      <th>R&amp;D service providers</th>\n",
       "      <th>Complementary partners</th>\n",
       "      <th>Customers</th>\n",
       "      <th>Competitors</th>\n",
       "      <th>Suppliers</th>\n",
       "      <th>Users</th>\n",
       "      <th>Crowd</th>\n",
       "      <th>Community</th>\n",
       "    </tr>\n",
       "  </thead>\n",
       "  <tbody>\n",
       "    <tr>\n",
       "      <th>R&amp;D service providers</th>\n",
       "      <td>0.305533</td>\n",
       "      <td>0.366279</td>\n",
       "      <td>0.175574</td>\n",
       "      <td>0.025331</td>\n",
       "      <td>0.054135</td>\n",
       "      <td>0.038008</td>\n",
       "      <td>0.016393</td>\n",
       "      <td>0.018747</td>\n",
       "    </tr>\n",
       "    <tr>\n",
       "      <th>Complementary partners</th>\n",
       "      <td>0.303603</td>\n",
       "      <td>0.370748</td>\n",
       "      <td>0.172523</td>\n",
       "      <td>0.025047</td>\n",
       "      <td>0.053119</td>\n",
       "      <td>0.041651</td>\n",
       "      <td>0.015535</td>\n",
       "      <td>0.017774</td>\n",
       "    </tr>\n",
       "    <tr>\n",
       "      <th>Customers</th>\n",
       "      <td>0.302287</td>\n",
       "      <td>0.365281</td>\n",
       "      <td>0.182130</td>\n",
       "      <td>0.023331</td>\n",
       "      <td>0.054142</td>\n",
       "      <td>0.039085</td>\n",
       "      <td>0.015929</td>\n",
       "      <td>0.017815</td>\n",
       "    </tr>\n",
       "    <tr>\n",
       "      <th>Competitors</th>\n",
       "      <td>0.300853</td>\n",
       "      <td>0.383140</td>\n",
       "      <td>0.162777</td>\n",
       "      <td>0.029254</td>\n",
       "      <td>0.051450</td>\n",
       "      <td>0.041632</td>\n",
       "      <td>0.014284</td>\n",
       "      <td>0.016611</td>\n",
       "    </tr>\n",
       "    <tr>\n",
       "      <th>Suppliers</th>\n",
       "      <td>0.303813</td>\n",
       "      <td>0.365581</td>\n",
       "      <td>0.178217</td>\n",
       "      <td>0.023999</td>\n",
       "      <td>0.054050</td>\n",
       "      <td>0.039796</td>\n",
       "      <td>0.016205</td>\n",
       "      <td>0.018338</td>\n",
       "    </tr>\n",
       "    <tr>\n",
       "      <th>Users</th>\n",
       "      <td>0.300892</td>\n",
       "      <td>0.382683</td>\n",
       "      <td>0.155370</td>\n",
       "      <td>0.024818</td>\n",
       "      <td>0.049949</td>\n",
       "      <td>0.056134</td>\n",
       "      <td>0.013875</td>\n",
       "      <td>0.016279</td>\n",
       "    </tr>\n",
       "    <tr>\n",
       "      <th>Crowd</th>\n",
       "      <td>0.302199</td>\n",
       "      <td>0.337362</td>\n",
       "      <td>0.201538</td>\n",
       "      <td>0.020224</td>\n",
       "      <td>0.059816</td>\n",
       "      <td>0.032469</td>\n",
       "      <td>0.022150</td>\n",
       "      <td>0.024242</td>\n",
       "    </tr>\n",
       "    <tr>\n",
       "      <th>Community</th>\n",
       "      <td>0.302166</td>\n",
       "      <td>0.346510</td>\n",
       "      <td>0.196717</td>\n",
       "      <td>0.021128</td>\n",
       "      <td>0.057948</td>\n",
       "      <td>0.033845</td>\n",
       "      <td>0.019878</td>\n",
       "      <td>0.021808</td>\n",
       "    </tr>\n",
       "  </tbody>\n",
       "</table>\n",
       "</div>"
      ],
      "text/plain": [
       "                        R&D service providers  Complementary partners  \\\n",
       "R&D service providers                0.305533                0.366279   \n",
       "Complementary partners               0.303603                0.370748   \n",
       "Customers                            0.302287                0.365281   \n",
       "Competitors                          0.300853                0.383140   \n",
       "Suppliers                            0.303813                0.365581   \n",
       "Users                                0.300892                0.382683   \n",
       "Crowd                                0.302199                0.337362   \n",
       "Community                            0.302166                0.346510   \n",
       "\n",
       "                        Customers  Competitors  Suppliers     Users     Crowd  \\\n",
       "R&D service providers    0.175574     0.025331   0.054135  0.038008  0.016393   \n",
       "Complementary partners   0.172523     0.025047   0.053119  0.041651  0.015535   \n",
       "Customers                0.182130     0.023331   0.054142  0.039085  0.015929   \n",
       "Competitors              0.162777     0.029254   0.051450  0.041632  0.014284   \n",
       "Suppliers                0.178217     0.023999   0.054050  0.039796  0.016205   \n",
       "Users                    0.155370     0.024818   0.049949  0.056134  0.013875   \n",
       "Crowd                    0.201538     0.020224   0.059816  0.032469  0.022150   \n",
       "Community                0.196717     0.021128   0.057948  0.033845  0.019878   \n",
       "\n",
       "                        Community  \n",
       "R&D service providers    0.018747  \n",
       "Complementary partners   0.017774  \n",
       "Customers                0.017815  \n",
       "Competitors              0.016611  \n",
       "Suppliers                0.018338  \n",
       "Users                    0.016279  \n",
       "Crowd                    0.024242  \n",
       "Community                0.021808  "
      ]
     },
     "execution_count": 34,
     "metadata": {},
     "output_type": "execute_result"
    }
   ],
   "source": [
    "pd.DataFrame(matrix_power(conf_mp_df.to_numpy(), 4),index=labels, columns=labels)"
   ]
  },
  {
   "cell_type": "code",
   "execution_count": 35,
   "metadata": {},
   "outputs": [],
   "source": [
    "pd.DataFrame(matrix_power(conf_mp_df.to_numpy(), 4),index=labels, columns=labels).to_csv('step_four_stochastic_probabilites.csv')"
   ]
  },
  {
   "cell_type": "markdown",
   "metadata": {
    "slideshow": {
     "slide_type": "slide"
    }
   },
   "source": [
    "### In  ~5 moves the probabilities already converge (remain the same after that...)"
   ]
  },
  {
   "cell_type": "code",
   "execution_count": 36,
   "metadata": {},
   "outputs": [
    {
     "data": {
      "text/html": [
       "<div>\n",
       "<style scoped>\n",
       "    .dataframe tbody tr th:only-of-type {\n",
       "        vertical-align: middle;\n",
       "    }\n",
       "\n",
       "    .dataframe tbody tr th {\n",
       "        vertical-align: top;\n",
       "    }\n",
       "\n",
       "    .dataframe thead th {\n",
       "        text-align: right;\n",
       "    }\n",
       "</style>\n",
       "<table border=\"1\" class=\"dataframe\">\n",
       "  <thead>\n",
       "    <tr style=\"text-align: right;\">\n",
       "      <th></th>\n",
       "      <th>R&amp;D service providers</th>\n",
       "      <th>Complementary partners</th>\n",
       "      <th>Customers</th>\n",
       "      <th>Competitors</th>\n",
       "      <th>Suppliers</th>\n",
       "      <th>Users</th>\n",
       "      <th>Crowd</th>\n",
       "      <th>Community</th>\n",
       "    </tr>\n",
       "  </thead>\n",
       "  <tbody>\n",
       "    <tr>\n",
       "      <th>R&amp;D service providers</th>\n",
       "      <td>0.304172</td>\n",
       "      <td>0.367241</td>\n",
       "      <td>0.175852</td>\n",
       "      <td>0.024889</td>\n",
       "      <td>0.053881</td>\n",
       "      <td>0.039415</td>\n",
       "      <td>0.016155</td>\n",
       "      <td>0.018395</td>\n",
       "    </tr>\n",
       "    <tr>\n",
       "      <th>Complementary partners</th>\n",
       "      <td>0.303722</td>\n",
       "      <td>0.369038</td>\n",
       "      <td>0.174203</td>\n",
       "      <td>0.024867</td>\n",
       "      <td>0.053460</td>\n",
       "      <td>0.040847</td>\n",
       "      <td>0.015820</td>\n",
       "      <td>0.018044</td>\n",
       "    </tr>\n",
       "    <tr>\n",
       "      <th>Customers</th>\n",
       "      <td>0.303409</td>\n",
       "      <td>0.366961</td>\n",
       "      <td>0.177587</td>\n",
       "      <td>0.024263</td>\n",
       "      <td>0.053854</td>\n",
       "      <td>0.039835</td>\n",
       "      <td>0.015989</td>\n",
       "      <td>0.018101</td>\n",
       "    </tr>\n",
       "    <tr>\n",
       "      <th>Competitors</th>\n",
       "      <td>0.303157</td>\n",
       "      <td>0.373287</td>\n",
       "      <td>0.170468</td>\n",
       "      <td>0.026134</td>\n",
       "      <td>0.052829</td>\n",
       "      <td>0.041191</td>\n",
       "      <td>0.015329</td>\n",
       "      <td>0.017605</td>\n",
       "    </tr>\n",
       "    <tr>\n",
       "      <th>Suppliers</th>\n",
       "      <td>0.303746</td>\n",
       "      <td>0.367125</td>\n",
       "      <td>0.176434</td>\n",
       "      <td>0.024485</td>\n",
       "      <td>0.053824</td>\n",
       "      <td>0.040055</td>\n",
       "      <td>0.016075</td>\n",
       "      <td>0.018256</td>\n",
       "    </tr>\n",
       "    <tr>\n",
       "      <th>Users</th>\n",
       "      <td>0.302968</td>\n",
       "      <td>0.374275</td>\n",
       "      <td>0.166841</td>\n",
       "      <td>0.025015</td>\n",
       "      <td>0.052151</td>\n",
       "      <td>0.046255</td>\n",
       "      <td>0.015087</td>\n",
       "      <td>0.017407</td>\n",
       "    </tr>\n",
       "    <tr>\n",
       "      <th>Crowd</th>\n",
       "      <td>0.303200</td>\n",
       "      <td>0.356203</td>\n",
       "      <td>0.186835</td>\n",
       "      <td>0.022802</td>\n",
       "      <td>0.056018</td>\n",
       "      <td>0.036640</td>\n",
       "      <td>0.018111</td>\n",
       "      <td>0.020190</td>\n",
       "    </tr>\n",
       "    <tr>\n",
       "      <th>Community</th>\n",
       "      <td>0.303263</td>\n",
       "      <td>0.359732</td>\n",
       "      <td>0.184251</td>\n",
       "      <td>0.023250</td>\n",
       "      <td>0.055314</td>\n",
       "      <td>0.037422</td>\n",
       "      <td>0.017351</td>\n",
       "      <td>0.019416</td>\n",
       "    </tr>\n",
       "  </tbody>\n",
       "</table>\n",
       "</div>"
      ],
      "text/plain": [
       "                        R&D service providers  Complementary partners  \\\n",
       "R&D service providers                0.304172                0.367241   \n",
       "Complementary partners               0.303722                0.369038   \n",
       "Customers                            0.303409                0.366961   \n",
       "Competitors                          0.303157                0.373287   \n",
       "Suppliers                            0.303746                0.367125   \n",
       "Users                                0.302968                0.374275   \n",
       "Crowd                                0.303200                0.356203   \n",
       "Community                            0.303263                0.359732   \n",
       "\n",
       "                        Customers  Competitors  Suppliers     Users     Crowd  \\\n",
       "R&D service providers    0.175852     0.024889   0.053881  0.039415  0.016155   \n",
       "Complementary partners   0.174203     0.024867   0.053460  0.040847  0.015820   \n",
       "Customers                0.177587     0.024263   0.053854  0.039835  0.015989   \n",
       "Competitors              0.170468     0.026134   0.052829  0.041191  0.015329   \n",
       "Suppliers                0.176434     0.024485   0.053824  0.040055  0.016075   \n",
       "Users                    0.166841     0.025015   0.052151  0.046255  0.015087   \n",
       "Crowd                    0.186835     0.022802   0.056018  0.036640  0.018111   \n",
       "Community                0.184251     0.023250   0.055314  0.037422  0.017351   \n",
       "\n",
       "                        Community  \n",
       "R&D service providers    0.018395  \n",
       "Complementary partners   0.018044  \n",
       "Customers                0.018101  \n",
       "Competitors              0.017605  \n",
       "Suppliers                0.018256  \n",
       "Users                    0.017407  \n",
       "Crowd                    0.020190  \n",
       "Community                0.019416  "
      ]
     },
     "execution_count": 36,
     "metadata": {},
     "output_type": "execute_result"
    }
   ],
   "source": [
    "pd.DataFrame(matrix_power(conf_mp_df.to_numpy(), 5),index=labels, columns=labels)"
   ]
  },
  {
   "cell_type": "code",
   "execution_count": 37,
   "metadata": {},
   "outputs": [],
   "source": [
    "pd.DataFrame(matrix_power(conf_mp_df.to_numpy(), 5),index=labels, columns=labels).to_csv('step_five_stochastic_probabilites.csv')"
   ]
  },
  {
   "cell_type": "code",
   "execution_count": 38,
   "metadata": {
    "slideshow": {
     "slide_type": "slide"
    }
   },
   "outputs": [
    {
     "data": {
      "image/png": "[encoded data removed]",
      "text/plain": [
       "<Figure size 1000x500 with 2 Axes>"
      ]
     },
     "metadata": {
      "needs_background": "light"
     },
     "output_type": "display_data"
    }
   ],
   "source": [
    "plt.figure(figsize=(10,5))\n",
    "chart =sns.heatmap(pd.DataFrame(matrix_power(conf_mp_df.to_numpy(), 5), index=labels, columns=labels), annot=True)\n",
    "chart.xaxis.tick_top()\n",
    "c_plot = plt.xticks(rotation=90, horizontalalignment='right', fontweight='light')"
   ]
  },
  {
   "cell_type": "markdown",
   "metadata": {
    "slideshow": {
     "slide_type": "slide"
    }
   },
   "source": [
    "### Surprise : the probalities of convergence are the dataset's distribution of (innovating with) cases"
   ]
  },
  {
   "cell_type": "code",
   "execution_count": 39,
   "metadata": {
    "scrolled": true,
    "slideshow": {
     "slide_type": "slide"
    }
   },
   "outputs": [
    {
     "data": {
      "text/plain": [
       "Complementary partners    0.340081\n",
       "R&D service providers     0.338057\n",
       "Customers                 0.176113\n",
       "Suppliers                 0.054656\n",
       "Users                     0.036437\n",
       "Competitors               0.022267\n",
       "Community                 0.018219\n",
       "Crowd                     0.014170\n",
       "Name: Innovating with, dtype: float64"
      ]
     },
     "execution_count": 39,
     "metadata": {},
     "output_type": "execute_result"
    }
   ],
   "source": [
    "iomoves_thin_path_df['Innovating with'].value_counts(normalize=True)"
   ]
  },
  {
   "cell_type": "code",
   "execution_count": 40,
   "metadata": {},
   "outputs": [],
   "source": [
    "oi_tuples = iomoves_thin_path_df.sort_values(['Num of CS','oi_journey_number']).groupby('Num of CS').apply(func=make_pairs,stride=5)\n",
    "oi_tuples_df = pd.DataFrame(oi_tuples).reset_index().rename({0:'oi_moves'},axis=1)\n",
    "flat_oi_moves_l = [item for sublist in oi_tuples_df['oi_moves'].values for item in sublist]\n",
    "flat_oi_moves_df = pd.DataFrame(flat_oi_moves_l).rename({0:'oi_moves_in',1:'oi_moves_out'},axis=1)"
   ]
  },
  {
   "cell_type": "code",
   "execution_count": 41,
   "metadata": {},
   "outputs": [
    {
     "data": {
      "text/html": [
       "<div>\n",
       "<style scoped>\n",
       "    .dataframe tbody tr th:only-of-type {\n",
       "        vertical-align: middle;\n",
       "    }\n",
       "\n",
       "    .dataframe tbody tr th {\n",
       "        vertical-align: top;\n",
       "    }\n",
       "\n",
       "    .dataframe thead th {\n",
       "        text-align: right;\n",
       "    }\n",
       "</style>\n",
       "<table border=\"1\" class=\"dataframe\">\n",
       "  <thead>\n",
       "    <tr style=\"text-align: right;\">\n",
       "      <th></th>\n",
       "      <th>R&amp;D service providers</th>\n",
       "      <th>Complementary partners</th>\n",
       "      <th>Customers</th>\n",
       "      <th>Competitors</th>\n",
       "      <th>Suppliers</th>\n",
       "      <th>Users</th>\n",
       "      <th>Crowd</th>\n",
       "      <th>Community</th>\n",
       "    </tr>\n",
       "  </thead>\n",
       "  <tbody>\n",
       "    <tr>\n",
       "      <th>R&amp;D service providers</th>\n",
       "      <td>0.407407</td>\n",
       "      <td>0.296296</td>\n",
       "      <td>0.111111</td>\n",
       "      <td>0.0</td>\n",
       "      <td>0.000000</td>\n",
       "      <td>0.111111</td>\n",
       "      <td>0.037037</td>\n",
       "      <td>0.037037</td>\n",
       "    </tr>\n",
       "    <tr>\n",
       "      <th>Complementary partners</th>\n",
       "      <td>0.315789</td>\n",
       "      <td>0.368421</td>\n",
       "      <td>0.105263</td>\n",
       "      <td>0.0</td>\n",
       "      <td>0.052632</td>\n",
       "      <td>0.105263</td>\n",
       "      <td>0.000000</td>\n",
       "      <td>0.052632</td>\n",
       "    </tr>\n",
       "    <tr>\n",
       "      <th>Customers</th>\n",
       "      <td>0.500000</td>\n",
       "      <td>0.250000</td>\n",
       "      <td>0.083333</td>\n",
       "      <td>0.0</td>\n",
       "      <td>0.083333</td>\n",
       "      <td>0.000000</td>\n",
       "      <td>0.000000</td>\n",
       "      <td>0.083333</td>\n",
       "    </tr>\n",
       "    <tr>\n",
       "      <th>Competitors</th>\n",
       "      <td>1.000000</td>\n",
       "      <td>0.000000</td>\n",
       "      <td>0.000000</td>\n",
       "      <td>0.0</td>\n",
       "      <td>0.000000</td>\n",
       "      <td>0.000000</td>\n",
       "      <td>0.000000</td>\n",
       "      <td>0.000000</td>\n",
       "    </tr>\n",
       "    <tr>\n",
       "      <th>Suppliers</th>\n",
       "      <td>1.000000</td>\n",
       "      <td>0.000000</td>\n",
       "      <td>0.000000</td>\n",
       "      <td>0.0</td>\n",
       "      <td>0.000000</td>\n",
       "      <td>0.000000</td>\n",
       "      <td>0.000000</td>\n",
       "      <td>0.000000</td>\n",
       "    </tr>\n",
       "    <tr>\n",
       "      <th>Users</th>\n",
       "      <td>0.333333</td>\n",
       "      <td>0.666667</td>\n",
       "      <td>0.000000</td>\n",
       "      <td>0.0</td>\n",
       "      <td>0.000000</td>\n",
       "      <td>0.000000</td>\n",
       "      <td>0.000000</td>\n",
       "      <td>0.000000</td>\n",
       "    </tr>\n",
       "    <tr>\n",
       "      <th>Crowd</th>\n",
       "      <td>0.000000</td>\n",
       "      <td>1.000000</td>\n",
       "      <td>0.000000</td>\n",
       "      <td>0.0</td>\n",
       "      <td>0.000000</td>\n",
       "      <td>0.000000</td>\n",
       "      <td>0.000000</td>\n",
       "      <td>0.000000</td>\n",
       "    </tr>\n",
       "    <tr>\n",
       "      <th>Community</th>\n",
       "      <td>0.000000</td>\n",
       "      <td>1.000000</td>\n",
       "      <td>0.000000</td>\n",
       "      <td>0.0</td>\n",
       "      <td>0.000000</td>\n",
       "      <td>0.000000</td>\n",
       "      <td>0.000000</td>\n",
       "      <td>0.000000</td>\n",
       "    </tr>\n",
       "  </tbody>\n",
       "</table>\n",
       "</div>"
      ],
      "text/plain": [
       "                        R&D service providers  Complementary partners  \\\n",
       "R&D service providers                0.407407                0.296296   \n",
       "Complementary partners               0.315789                0.368421   \n",
       "Customers                            0.500000                0.250000   \n",
       "Competitors                          1.000000                0.000000   \n",
       "Suppliers                            1.000000                0.000000   \n",
       "Users                                0.333333                0.666667   \n",
       "Crowd                                0.000000                1.000000   \n",
       "Community                            0.000000                1.000000   \n",
       "\n",
       "                        Customers  Competitors  Suppliers     Users     Crowd  \\\n",
       "R&D service providers    0.111111          0.0   0.000000  0.111111  0.037037   \n",
       "Complementary partners   0.105263          0.0   0.052632  0.105263  0.000000   \n",
       "Customers                0.083333          0.0   0.083333  0.000000  0.000000   \n",
       "Competitors              0.000000          0.0   0.000000  0.000000  0.000000   \n",
       "Suppliers                0.000000          0.0   0.000000  0.000000  0.000000   \n",
       "Users                    0.000000          0.0   0.000000  0.000000  0.000000   \n",
       "Crowd                    0.000000          0.0   0.000000  0.000000  0.000000   \n",
       "Community                0.000000          0.0   0.000000  0.000000  0.000000   \n",
       "\n",
       "                        Community  \n",
       "R&D service providers    0.037037  \n",
       "Complementary partners   0.052632  \n",
       "Customers                0.083333  \n",
       "Competitors              0.000000  \n",
       "Suppliers                0.000000  \n",
       "Users                    0.000000  \n",
       "Crowd                    0.000000  \n",
       "Community                0.000000  "
      ]
     },
     "execution_count": 41,
     "metadata": {},
     "output_type": "execute_result"
    }
   ],
   "source": [
    "conf_m2 = confusion_matrix(flat_oi_moves_df['oi_moves_in'], flat_oi_moves_df['oi_moves_out'],labels=labels)\n",
    "conf_m2_df = pd.DataFrame(conf_m2, index=labels, columns=labels)\n",
    "conf_mp2_df = (conf_m2_df.T /conf_m2_df.T.sum()).T\n",
    "conf_mp2_df"
   ]
  },
  {
   "cell_type": "code",
   "execution_count": 42,
   "metadata": {},
   "outputs": [],
   "source": [
    "conf_mp2_df.to_csv('data verification in (5) Steps.csv')"
   ]
  },
  {
   "cell_type": "code",
   "execution_count": 43,
   "metadata": {},
   "outputs": [
    {
     "data": {
      "text/html": [
       "<div>\n",
       "<style scoped>\n",
       "    .dataframe tbody tr th:only-of-type {\n",
       "        vertical-align: middle;\n",
       "    }\n",
       "\n",
       "    .dataframe tbody tr th {\n",
       "        vertical-align: top;\n",
       "    }\n",
       "\n",
       "    .dataframe thead th {\n",
       "        text-align: right;\n",
       "    }\n",
       "</style>\n",
       "<table border=\"1\" class=\"dataframe\">\n",
       "  <thead>\n",
       "    <tr style=\"text-align: right;\">\n",
       "      <th></th>\n",
       "      <th>0</th>\n",
       "      <th>1</th>\n",
       "      <th>2</th>\n",
       "      <th>3</th>\n",
       "      <th>4</th>\n",
       "      <th>5</th>\n",
       "      <th>6</th>\n",
       "      <th>7</th>\n",
       "    </tr>\n",
       "  </thead>\n",
       "  <tbody>\n",
       "    <tr>\n",
       "      <th>0</th>\n",
       "      <td>0.311339</td>\n",
       "      <td>0.363685</td>\n",
       "      <td>0.172762</td>\n",
       "      <td>0.026617</td>\n",
       "      <td>0.054634</td>\n",
       "      <td>0.034415</td>\n",
       "      <td>0.016876</td>\n",
       "      <td>0.019671</td>\n",
       "    </tr>\n",
       "    <tr>\n",
       "      <th>1</th>\n",
       "      <td>0.302849</td>\n",
       "      <td>0.375579</td>\n",
       "      <td>0.168628</td>\n",
       "      <td>0.025391</td>\n",
       "      <td>0.052279</td>\n",
       "      <td>0.043509</td>\n",
       "      <td>0.014753</td>\n",
       "      <td>0.017012</td>\n",
       "    </tr>\n",
       "    <tr>\n",
       "      <th>2</th>\n",
       "      <td>0.297497</td>\n",
       "      <td>0.360792</td>\n",
       "      <td>0.196643</td>\n",
       "      <td>0.020643</td>\n",
       "      <td>0.054937</td>\n",
       "      <td>0.036999</td>\n",
       "      <td>0.015697</td>\n",
       "      <td>0.016793</td>\n",
       "    </tr>\n",
       "    <tr>\n",
       "      <th>3</th>\n",
       "      <td>0.290618</td>\n",
       "      <td>0.411771</td>\n",
       "      <td>0.143158</td>\n",
       "      <td>0.040228</td>\n",
       "      <td>0.047784</td>\n",
       "      <td>0.040549</td>\n",
       "      <td>0.011815</td>\n",
       "      <td>0.014077</td>\n",
       "    </tr>\n",
       "    <tr>\n",
       "      <th>4</th>\n",
       "      <td>0.304355</td>\n",
       "      <td>0.360755</td>\n",
       "      <td>0.183385</td>\n",
       "      <td>0.022457</td>\n",
       "      <td>0.054629</td>\n",
       "      <td>0.039422</td>\n",
       "      <td>0.016524</td>\n",
       "      <td>0.018472</td>\n",
       "    </tr>\n",
       "    <tr>\n",
       "      <th>5</th>\n",
       "      <td>0.293223</td>\n",
       "      <td>0.401062</td>\n",
       "      <td>0.130102</td>\n",
       "      <td>0.023201</td>\n",
       "      <td>0.044694</td>\n",
       "      <td>0.082774</td>\n",
       "      <td>0.011277</td>\n",
       "      <td>0.013667</td>\n",
       "    </tr>\n",
       "    <tr>\n",
       "      <th>6</th>\n",
       "      <td>0.299265</td>\n",
       "      <td>0.289415</td>\n",
       "      <td>0.230136</td>\n",
       "      <td>0.014956</td>\n",
       "      <td>0.069951</td>\n",
       "      <td>0.024936</td>\n",
       "      <td>0.034283</td>\n",
       "      <td>0.037057</td>\n",
       "    </tr>\n",
       "    <tr>\n",
       "      <th>7</th>\n",
       "      <td>0.298536</td>\n",
       "      <td>0.312164</td>\n",
       "      <td>0.224766</td>\n",
       "      <td>0.016444</td>\n",
       "      <td>0.064929</td>\n",
       "      <td>0.026572</td>\n",
       "      <td>0.027372</td>\n",
       "      <td>0.029217</td>\n",
       "    </tr>\n",
       "  </tbody>\n",
       "</table>\n",
       "</div>"
      ],
      "text/plain": [
       "          0         1         2         3         4         5         6  \\\n",
       "0  0.311339  0.363685  0.172762  0.026617  0.054634  0.034415  0.016876   \n",
       "1  0.302849  0.375579  0.168628  0.025391  0.052279  0.043509  0.014753   \n",
       "2  0.297497  0.360792  0.196643  0.020643  0.054937  0.036999  0.015697   \n",
       "3  0.290618  0.411771  0.143158  0.040228  0.047784  0.040549  0.011815   \n",
       "4  0.304355  0.360755  0.183385  0.022457  0.054629  0.039422  0.016524   \n",
       "5  0.293223  0.401062  0.130102  0.023201  0.044694  0.082774  0.011277   \n",
       "6  0.299265  0.289415  0.230136  0.014956  0.069951  0.024936  0.034283   \n",
       "7  0.298536  0.312164  0.224766  0.016444  0.064929  0.026572  0.027372   \n",
       "\n",
       "          7  \n",
       "0  0.019671  \n",
       "1  0.017012  \n",
       "2  0.016793  \n",
       "3  0.014077  \n",
       "4  0.018472  \n",
       "5  0.013667  \n",
       "6  0.037057  \n",
       "7  0.029217  "
      ]
     },
     "execution_count": 43,
     "metadata": {},
     "output_type": "execute_result"
    }
   ],
   "source": [
    "pd.DataFrame(matrix_power(conf_mp_df.to_numpy(), 3))"
   ]
  },
  {
   "cell_type": "code",
   "execution_count": 44,
   "metadata": {},
   "outputs": [
    {
     "data": {
      "text/html": [
       "<div>\n",
       "<style scoped>\n",
       "    .dataframe tbody tr th:only-of-type {\n",
       "        vertical-align: middle;\n",
       "    }\n",
       "\n",
       "    .dataframe tbody tr th {\n",
       "        vertical-align: top;\n",
       "    }\n",
       "\n",
       "    .dataframe thead th {\n",
       "        text-align: right;\n",
       "    }\n",
       "</style>\n",
       "<table border=\"1\" class=\"dataframe\">\n",
       "  <thead>\n",
       "    <tr style=\"text-align: right;\">\n",
       "      <th></th>\n",
       "      <th>Num of CS</th>\n",
       "      <th>OI Journey number</th>\n",
       "      <th>Innovating with</th>\n",
       "      <th>leading to</th>\n",
       "      <th>No in typology</th>\n",
       "      <th>Management score</th>\n",
       "      <th>Success score</th>\n",
       "      <th>oi_journey_number</th>\n",
       "      <th>oi_case_num</th>\n",
       "    </tr>\n",
       "  </thead>\n",
       "  <tbody>\n",
       "    <tr>\n",
       "      <th>0</th>\n",
       "      <td>1</td>\n",
       "      <td>1.2</td>\n",
       "      <td>R&amp;D service providers</td>\n",
       "      <td>Internal exploitation</td>\n",
       "      <td>1</td>\n",
       "      <td>7.Moderately well managed</td>\n",
       "      <td>8.Very Successful</td>\n",
       "      <td>2</td>\n",
       "      <td>1</td>\n",
       "    </tr>\n",
       "    <tr>\n",
       "      <th>1</th>\n",
       "      <td>1</td>\n",
       "      <td>1.3</td>\n",
       "      <td>Complementary partners</td>\n",
       "      <td>Internal exploitation</td>\n",
       "      <td>4</td>\n",
       "      <td>8.Very well managed</td>\n",
       "      <td>8.Very Successful</td>\n",
       "      <td>3</td>\n",
       "      <td>1</td>\n",
       "    </tr>\n",
       "    <tr>\n",
       "      <th>2</th>\n",
       "      <td>1</td>\n",
       "      <td>1.4</td>\n",
       "      <td>Customers</td>\n",
       "      <td>Internal exploitation</td>\n",
       "      <td>7</td>\n",
       "      <td>7.Moderately well managed</td>\n",
       "      <td>7.Moderately successful</td>\n",
       "      <td>4</td>\n",
       "      <td>1</td>\n",
       "    </tr>\n",
       "    <tr>\n",
       "      <th>3</th>\n",
       "      <td>1</td>\n",
       "      <td>1.5</td>\n",
       "      <td>Customers</td>\n",
       "      <td>Internal exploitation</td>\n",
       "      <td>7</td>\n",
       "      <td>8.Very well managed</td>\n",
       "      <td>7.Moderately successful</td>\n",
       "      <td>5</td>\n",
       "      <td>1</td>\n",
       "    </tr>\n",
       "    <tr>\n",
       "      <th>4</th>\n",
       "      <td>1</td>\n",
       "      <td>1.6</td>\n",
       "      <td>Complementary partners</td>\n",
       "      <td>Internal exploitation</td>\n",
       "      <td>4</td>\n",
       "      <td>7.Moderately well managed</td>\n",
       "      <td>7.Moderately successful</td>\n",
       "      <td>6</td>\n",
       "      <td>1</td>\n",
       "    </tr>\n",
       "    <tr>\n",
       "      <th>...</th>\n",
       "      <td>...</td>\n",
       "      <td>...</td>\n",
       "      <td>...</td>\n",
       "      <td>...</td>\n",
       "      <td>...</td>\n",
       "      <td>...</td>\n",
       "      <td>...</td>\n",
       "      <td>...</td>\n",
       "      <td>...</td>\n",
       "    </tr>\n",
       "    <tr>\n",
       "      <th>495</th>\n",
       "      <td>105</td>\n",
       "      <td>118.5</td>\n",
       "      <td>R&amp;D service providers</td>\n",
       "      <td>Internal exploitation</td>\n",
       "      <td>1</td>\n",
       "      <td>8.Very well managed</td>\n",
       "      <td>8.Very Successful</td>\n",
       "      <td>5</td>\n",
       "      <td>118</td>\n",
       "    </tr>\n",
       "    <tr>\n",
       "      <th>496</th>\n",
       "      <td>105</td>\n",
       "      <td>118.6</td>\n",
       "      <td>R&amp;D service providers</td>\n",
       "      <td>Internal exploitation</td>\n",
       "      <td>1</td>\n",
       "      <td>8.Very well managed</td>\n",
       "      <td>8.Very Successful</td>\n",
       "      <td>6</td>\n",
       "      <td>118</td>\n",
       "    </tr>\n",
       "    <tr>\n",
       "      <th>497</th>\n",
       "      <td>105</td>\n",
       "      <td>118.7</td>\n",
       "      <td>Suppliers</td>\n",
       "      <td>Internal exploitation</td>\n",
       "      <td>10</td>\n",
       "      <td>9.Extremely well managed</td>\n",
       "      <td>8.Very Successful</td>\n",
       "      <td>7</td>\n",
       "      <td>118</td>\n",
       "    </tr>\n",
       "    <tr>\n",
       "      <th>498</th>\n",
       "      <td>105</td>\n",
       "      <td>118.8</td>\n",
       "      <td>Suppliers</td>\n",
       "      <td>Internal exploitation</td>\n",
       "      <td>10</td>\n",
       "      <td>9.Extremely well managed</td>\n",
       "      <td>8.Very Successful</td>\n",
       "      <td>8</td>\n",
       "      <td>118</td>\n",
       "    </tr>\n",
       "    <tr>\n",
       "      <th>499</th>\n",
       "      <td>106</td>\n",
       "      <td>120.1</td>\n",
       "      <td>Customers</td>\n",
       "      <td>Internal exploitation</td>\n",
       "      <td>7</td>\n",
       "      <td>7.Moderately well managed</td>\n",
       "      <td>7.Moderately successful</td>\n",
       "      <td>1</td>\n",
       "      <td>120</td>\n",
       "    </tr>\n",
       "  </tbody>\n",
       "</table>\n",
       "<p>500 rows × 9 columns</p>\n",
       "</div>"
      ],
      "text/plain": [
       "     Num of CS  OI Journey number         Innovating with  \\\n",
       "0            1                1.2   R&D service providers   \n",
       "1            1                1.3  Complementary partners   \n",
       "2            1                1.4               Customers   \n",
       "3            1                1.5               Customers   \n",
       "4            1                1.6  Complementary partners   \n",
       "..         ...                ...                     ...   \n",
       "495        105              118.5   R&D service providers   \n",
       "496        105              118.6   R&D service providers   \n",
       "497        105              118.7               Suppliers   \n",
       "498        105              118.8               Suppliers   \n",
       "499        106              120.1               Customers   \n",
       "\n",
       "                leading to  No in typology           Management score  \\\n",
       "0    Internal exploitation               1  7.Moderately well managed   \n",
       "1    Internal exploitation               4        8.Very well managed   \n",
       "2    Internal exploitation               7  7.Moderately well managed   \n",
       "3    Internal exploitation               7        8.Very well managed   \n",
       "4    Internal exploitation               4  7.Moderately well managed   \n",
       "..                     ...             ...                        ...   \n",
       "495  Internal exploitation               1        8.Very well managed   \n",
       "496  Internal exploitation               1        8.Very well managed   \n",
       "497  Internal exploitation              10   9.Extremely well managed   \n",
       "498  Internal exploitation              10   9.Extremely well managed   \n",
       "499  Internal exploitation               7  7.Moderately well managed   \n",
       "\n",
       "               Success score oi_journey_number oi_case_num  \n",
       "0          8.Very Successful                 2           1  \n",
       "1          8.Very Successful                 3           1  \n",
       "2    7.Moderately successful                 4           1  \n",
       "3    7.Moderately successful                 5           1  \n",
       "4    7.Moderately successful                 6           1  \n",
       "..                       ...               ...         ...  \n",
       "495        8.Very Successful                 5         118  \n",
       "496        8.Very Successful                 6         118  \n",
       "497        8.Very Successful                 7         118  \n",
       "498        8.Very Successful                 8         118  \n",
       "499  7.Moderately successful                 1         120  \n",
       "\n",
       "[500 rows x 9 columns]"
      ]
     },
     "execution_count": 44,
     "metadata": {},
     "output_type": "execute_result"
    }
   ],
   "source": [
    "iomoves_thin_df"
   ]
  },
  {
   "cell_type": "code",
   "execution_count": 45,
   "metadata": {},
   "outputs": [
    {
     "name": "stderr",
     "output_type": "stream",
     "text": [
      "C:\\Users\\GrigoropoulosS\\AppData\\Local\\Continuum\\anaconda3\\envs\\oimoves\\lib\\site-packages\\pandas\\core\\indexing.py:966: SettingWithCopyWarning: \n",
      "A value is trying to be set on a copy of a slice from a DataFrame.\n",
      "Try using .loc[row_indexer,col_indexer] = value instead\n",
      "\n",
      "See the caveats in the documentation: https://pandas.pydata.org/pandas-docs/stable/user_guide/indexing.html#returning-a-view-versus-a-copy\n",
      "  self.obj[item] = s\n"
     ]
    }
   ],
   "source": [
    "iomoves_thin_success_df = iomoves_thin_df[['Num of CS','oi_journey_number','Success score']]\n",
    "iomoves_thin_success_df.loc[:,'oi_journey_number'] = iomoves_thin_success_df.loc[:,'oi_journey_number'].astype(int)"
   ]
  },
  {
   "cell_type": "code",
   "execution_count": 46,
   "metadata": {},
   "outputs": [
    {
     "data": {
      "text/html": [
       "<div>\n",
       "<style scoped>\n",
       "    .dataframe tbody tr th:only-of-type {\n",
       "        vertical-align: middle;\n",
       "    }\n",
       "\n",
       "    .dataframe tbody tr th {\n",
       "        vertical-align: top;\n",
       "    }\n",
       "\n",
       "    .dataframe thead th {\n",
       "        text-align: right;\n",
       "    }\n",
       "</style>\n",
       "<table border=\"1\" class=\"dataframe\">\n",
       "  <thead>\n",
       "    <tr style=\"text-align: right;\">\n",
       "      <th></th>\n",
       "      <th>Num of CS</th>\n",
       "      <th>oi_journey_number</th>\n",
       "      <th>Success score</th>\n",
       "    </tr>\n",
       "  </thead>\n",
       "  <tbody>\n",
       "    <tr>\n",
       "      <th>0</th>\n",
       "      <td>1</td>\n",
       "      <td>2</td>\n",
       "      <td>8.Very Successful</td>\n",
       "    </tr>\n",
       "    <tr>\n",
       "      <th>1</th>\n",
       "      <td>1</td>\n",
       "      <td>3</td>\n",
       "      <td>8.Very Successful</td>\n",
       "    </tr>\n",
       "    <tr>\n",
       "      <th>2</th>\n",
       "      <td>1</td>\n",
       "      <td>4</td>\n",
       "      <td>7.Moderately successful</td>\n",
       "    </tr>\n",
       "    <tr>\n",
       "      <th>3</th>\n",
       "      <td>1</td>\n",
       "      <td>5</td>\n",
       "      <td>7.Moderately successful</td>\n",
       "    </tr>\n",
       "    <tr>\n",
       "      <th>4</th>\n",
       "      <td>1</td>\n",
       "      <td>6</td>\n",
       "      <td>7.Moderately successful</td>\n",
       "    </tr>\n",
       "    <tr>\n",
       "      <th>...</th>\n",
       "      <td>...</td>\n",
       "      <td>...</td>\n",
       "      <td>...</td>\n",
       "    </tr>\n",
       "    <tr>\n",
       "      <th>495</th>\n",
       "      <td>105</td>\n",
       "      <td>5</td>\n",
       "      <td>8.Very Successful</td>\n",
       "    </tr>\n",
       "    <tr>\n",
       "      <th>496</th>\n",
       "      <td>105</td>\n",
       "      <td>6</td>\n",
       "      <td>8.Very Successful</td>\n",
       "    </tr>\n",
       "    <tr>\n",
       "      <th>497</th>\n",
       "      <td>105</td>\n",
       "      <td>7</td>\n",
       "      <td>8.Very Successful</td>\n",
       "    </tr>\n",
       "    <tr>\n",
       "      <th>498</th>\n",
       "      <td>105</td>\n",
       "      <td>8</td>\n",
       "      <td>8.Very Successful</td>\n",
       "    </tr>\n",
       "    <tr>\n",
       "      <th>499</th>\n",
       "      <td>106</td>\n",
       "      <td>1</td>\n",
       "      <td>7.Moderately successful</td>\n",
       "    </tr>\n",
       "  </tbody>\n",
       "</table>\n",
       "<p>500 rows × 3 columns</p>\n",
       "</div>"
      ],
      "text/plain": [
       "     Num of CS  oi_journey_number            Success score\n",
       "0            1                  2        8.Very Successful\n",
       "1            1                  3        8.Very Successful\n",
       "2            1                  4  7.Moderately successful\n",
       "3            1                  5  7.Moderately successful\n",
       "4            1                  6  7.Moderately successful\n",
       "..         ...                ...                      ...\n",
       "495        105                  5        8.Very Successful\n",
       "496        105                  6        8.Very Successful\n",
       "497        105                  7        8.Very Successful\n",
       "498        105                  8        8.Very Successful\n",
       "499        106                  1  7.Moderately successful\n",
       "\n",
       "[500 rows x 3 columns]"
      ]
     },
     "execution_count": 46,
     "metadata": {},
     "output_type": "execute_result"
    }
   ],
   "source": [
    "iomoves_thin_success_df"
   ]
  },
  {
   "cell_type": "code",
   "execution_count": 47,
   "metadata": {},
   "outputs": [],
   "source": [
    "iomoves_thin_success_df = iomoves_thin_success_df[iomoves_thin_success_df['Num of CS'].isin(cases_list)]\n",
    "iomoves_thin_success_df = iomoves_thin_success_df[iomoves_thin_success_df['Success score'] != 'I don\\x92t know - Not available']\n",
    "iomoves_thin_success_df = iomoves_thin_success_df.groupby('Num of CS')[['oi_journey_number','Success score']].apply(reset_io_journey_number).reset_index().drop(columns='level_1')\n",
    "iomoves_thin_success_df.loc[iomoves_thin_success_df['Success score'] == '9.Extremely successful','success_level'] = '4'\n",
    "iomoves_thin_success_df.loc[iomoves_thin_success_df['Success score'] == '8.Very Successful','success_level'] = '4'\n",
    "iomoves_thin_success_df.loc[iomoves_thin_success_df['Success score'] == '7.Moderately successful','success_level'] = '3'\n",
    "iomoves_thin_success_df.loc[iomoves_thin_success_df['Success score'] == '6.Slightly successful','success_level'] = '3'\n",
    "iomoves_thin_success_df.loc[iomoves_thin_success_df['Success score'] == '5.Neither successful, nor unsuccessful','success_level'] = '2'\n",
    "iomoves_thin_success_df.loc[iomoves_thin_success_df['Success score'] == '4. Slightly unsuccessful','success_level'] = '2'\n",
    "iomoves_thin_success_df.loc[iomoves_thin_success_df['Success score'] == '3. Moderately unsuccessful','success_level'] = '1'\n",
    "iomoves_thin_success_df.loc[iomoves_thin_success_df['Success score'] == '2. Very unsuccessful','success_level'] = '1'"
   ]
  },
  {
   "cell_type": "code",
   "execution_count": 70,
   "metadata": {},
   "outputs": [
    {
     "data": {
      "text/html": [
       "<div>\n",
       "<style scoped>\n",
       "    .dataframe tbody tr th:only-of-type {\n",
       "        vertical-align: middle;\n",
       "    }\n",
       "\n",
       "    .dataframe tbody tr th {\n",
       "        vertical-align: top;\n",
       "    }\n",
       "\n",
       "    .dataframe thead th {\n",
       "        text-align: right;\n",
       "    }\n",
       "</style>\n",
       "<table border=\"1\" class=\"dataframe\">\n",
       "  <thead>\n",
       "    <tr style=\"text-align: right;\">\n",
       "      <th></th>\n",
       "      <th>Num of CS</th>\n",
       "      <th>oi_journey_number</th>\n",
       "      <th>Success score</th>\n",
       "      <th>success_level</th>\n",
       "    </tr>\n",
       "  </thead>\n",
       "  <tbody>\n",
       "  </tbody>\n",
       "</table>\n",
       "</div>"
      ],
      "text/plain": [
       "Empty DataFrame\n",
       "Columns: [Num of CS, oi_journey_number, Success score, success_level]\n",
       "Index: []"
      ]
     },
     "execution_count": 70,
     "metadata": {},
     "output_type": "execute_result"
    }
   ],
   "source": [
    "iomoves_thin_success_df[iomoves_thin_success_df['success_level'].isna()]"
   ]
  },
  {
   "cell_type": "code",
   "execution_count": 78,
   "metadata": {},
   "outputs": [],
   "source": [
    "oi_tuples = iomoves_thin_success_df.sort_values(['Num of CS','oi_journey_number']).groupby('Num of CS').apply(make_pairs,column_name='success_level')\n",
    "oi_tuples_df = pd.DataFrame(oi_tuples).reset_index().rename({0:'oi_moves'},axis=1)\n",
    "flat_oi_moves_l = [item for sublist in oi_tuples_df['oi_moves'].values for item in sublist]\n",
    "flat_oi_moves_df = pd.DataFrame(flat_oi_moves_l).rename({0:'oi_moves_in',1:'oi_moves_out'},axis=1)"
   ]
  },
  {
   "cell_type": "code",
   "execution_count": 79,
   "metadata": {},
   "outputs": [
    {
     "data": {
      "text/html": [
       "<div>\n",
       "<style scoped>\n",
       "    .dataframe tbody tr th:only-of-type {\n",
       "        vertical-align: middle;\n",
       "    }\n",
       "\n",
       "    .dataframe tbody tr th {\n",
       "        vertical-align: top;\n",
       "    }\n",
       "\n",
       "    .dataframe thead th {\n",
       "        text-align: right;\n",
       "    }\n",
       "</style>\n",
       "<table border=\"1\" class=\"dataframe\">\n",
       "  <thead>\n",
       "    <tr style=\"text-align: right;\">\n",
       "      <th></th>\n",
       "      <th>4</th>\n",
       "      <th>3</th>\n",
       "      <th>2</th>\n",
       "      <th>1</th>\n",
       "    </tr>\n",
       "  </thead>\n",
       "  <tbody>\n",
       "    <tr>\n",
       "      <th>4</th>\n",
       "      <td>0.705202</td>\n",
       "      <td>0.225434</td>\n",
       "      <td>0.052023</td>\n",
       "      <td>0.017341</td>\n",
       "    </tr>\n",
       "    <tr>\n",
       "      <th>3</th>\n",
       "      <td>0.378641</td>\n",
       "      <td>0.553398</td>\n",
       "      <td>0.019417</td>\n",
       "      <td>0.048544</td>\n",
       "    </tr>\n",
       "    <tr>\n",
       "      <th>2</th>\n",
       "      <td>0.173913</td>\n",
       "      <td>0.434783</td>\n",
       "      <td>0.391304</td>\n",
       "      <td>0.000000</td>\n",
       "    </tr>\n",
       "    <tr>\n",
       "      <th>1</th>\n",
       "      <td>0.300000</td>\n",
       "      <td>0.200000</td>\n",
       "      <td>0.300000</td>\n",
       "      <td>0.200000</td>\n",
       "    </tr>\n",
       "  </tbody>\n",
       "</table>\n",
       "</div>"
      ],
      "text/plain": [
       "          4         3         2         1\n",
       "4  0.705202  0.225434  0.052023  0.017341\n",
       "3  0.378641  0.553398  0.019417  0.048544\n",
       "2  0.173913  0.434783  0.391304  0.000000\n",
       "1  0.300000  0.200000  0.300000  0.200000"
      ]
     },
     "execution_count": 79,
     "metadata": {},
     "output_type": "execute_result"
    }
   ],
   "source": [
    "labels = iomoves_thin_success_df['success_level'].unique()\n",
    "conf_m = confusion_matrix(flat_oi_moves_df['oi_moves_in'], flat_oi_moves_df['oi_moves_out'],labels=labels)\n",
    "conf_m_df = pd.DataFrame(conf_m, index=labels, columns=labels)\n",
    "conf_mp_df = (conf_m_df.T /conf_m_df.T.sum()).T\n",
    "conf_mp_df"
   ]
  },
  {
   "cell_type": "code",
   "execution_count": 84,
   "metadata": {},
   "outputs": [
    {
     "data": {
      "text/html": [
       "<div>\n",
       "<style scoped>\n",
       "    .dataframe tbody tr th:only-of-type {\n",
       "        vertical-align: middle;\n",
       "    }\n",
       "\n",
       "    .dataframe tbody tr th {\n",
       "        vertical-align: top;\n",
       "    }\n",
       "\n",
       "    .dataframe thead th {\n",
       "        text-align: right;\n",
       "    }\n",
       "</style>\n",
       "<table border=\"1\" class=\"dataframe\">\n",
       "  <thead>\n",
       "    <tr style=\"text-align: right;\">\n",
       "      <th></th>\n",
       "      <th>4</th>\n",
       "      <th>3</th>\n",
       "      <th>2</th>\n",
       "      <th>1</th>\n",
       "    </tr>\n",
       "  </thead>\n",
       "  <tbody>\n",
       "    <tr>\n",
       "      <th>4</th>\n",
       "      <td>0.535986</td>\n",
       "      <td>0.357119</td>\n",
       "      <td>0.073607</td>\n",
       "      <td>0.033288</td>\n",
       "    </tr>\n",
       "    <tr>\n",
       "      <th>3</th>\n",
       "      <td>0.535986</td>\n",
       "      <td>0.357119</td>\n",
       "      <td>0.073607</td>\n",
       "      <td>0.033288</td>\n",
       "    </tr>\n",
       "    <tr>\n",
       "      <th>2</th>\n",
       "      <td>0.535986</td>\n",
       "      <td>0.357119</td>\n",
       "      <td>0.073607</td>\n",
       "      <td>0.033288</td>\n",
       "    </tr>\n",
       "    <tr>\n",
       "      <th>1</th>\n",
       "      <td>0.535986</td>\n",
       "      <td>0.357119</td>\n",
       "      <td>0.073607</td>\n",
       "      <td>0.033288</td>\n",
       "    </tr>\n",
       "  </tbody>\n",
       "</table>\n",
       "</div>"
      ],
      "text/plain": [
       "          4         3         2         1\n",
       "4  0.535986  0.357119  0.073607  0.033288\n",
       "3  0.535986  0.357119  0.073607  0.033288\n",
       "2  0.535986  0.357119  0.073607  0.033288\n",
       "1  0.535986  0.357119  0.073607  0.033288"
      ]
     },
     "execution_count": 84,
     "metadata": {},
     "output_type": "execute_result"
    }
   ],
   "source": [
    "pd.DataFrame(matrix_power(conf_mp_df.to_numpy(), 100),index=labels, columns=labels)"
   ]
  },
  {
   "cell_type": "code",
   "execution_count": 80,
   "metadata": {},
   "outputs": [
    {
     "data": {
      "text/plain": [
       "array([[0.70520231, 0.22543353, 0.05202312, 0.01734104],\n",
       "       [0.37864078, 0.55339806, 0.01941748, 0.04854369],\n",
       "       [0.17391304, 0.43478261, 0.39130435, 0.        ],\n",
       "       [0.3       , 0.2       , 0.3       , 0.2       ]])"
      ]
     },
     "execution_count": 80,
     "metadata": {},
     "output_type": "execute_result"
    }
   ],
   "source": [
    "conf_mp_df.to_numpy()"
   ]
  },
  {
   "cell_type": "code",
   "execution_count": 74,
   "metadata": {},
   "outputs": [
    {
     "data": {
      "text/plain": [
       "array([[122,  39,   9,   3],\n",
       "       [ 39,  57,   2,   5],\n",
       "       [  4,  10,   9,   0],\n",
       "       [  3,   2,   3,   2]], dtype=int64)"
      ]
     },
     "execution_count": 74,
     "metadata": {},
     "output_type": "execute_result"
    }
   ],
   "source": [
    "conf_m"
   ]
  },
  {
   "cell_type": "code",
   "execution_count": 59,
   "metadata": {},
   "outputs": [
    {
     "data": {
      "text/html": [
       "<div>\n",
       "<style scoped>\n",
       "    .dataframe tbody tr th:only-of-type {\n",
       "        vertical-align: middle;\n",
       "    }\n",
       "\n",
       "    .dataframe tbody tr th {\n",
       "        vertical-align: top;\n",
       "    }\n",
       "\n",
       "    .dataframe thead th {\n",
       "        text-align: right;\n",
       "    }\n",
       "</style>\n",
       "<table border=\"1\" class=\"dataframe\">\n",
       "  <thead>\n",
       "    <tr style=\"text-align: right;\">\n",
       "      <th></th>\n",
       "      <th>4</th>\n",
       "      <th>3</th>\n",
       "      <th>2</th>\n",
       "      <th>1</th>\n",
       "    </tr>\n",
       "  </thead>\n",
       "  <tbody>\n",
       "    <tr>\n",
       "      <th>4</th>\n",
       "      <td>0.646341</td>\n",
       "      <td>0.268293</td>\n",
       "      <td>0.036585</td>\n",
       "      <td>0.048780</td>\n",
       "    </tr>\n",
       "    <tr>\n",
       "      <th>3</th>\n",
       "      <td>0.380952</td>\n",
       "      <td>0.523810</td>\n",
       "      <td>0.071429</td>\n",
       "      <td>0.023810</td>\n",
       "    </tr>\n",
       "    <tr>\n",
       "      <th>2</th>\n",
       "      <td>0.444444</td>\n",
       "      <td>0.333333</td>\n",
       "      <td>0.111111</td>\n",
       "      <td>0.111111</td>\n",
       "    </tr>\n",
       "    <tr>\n",
       "      <th>1</th>\n",
       "      <td>0.200000</td>\n",
       "      <td>0.600000</td>\n",
       "      <td>0.200000</td>\n",
       "      <td>0.000000</td>\n",
       "    </tr>\n",
       "  </tbody>\n",
       "</table>\n",
       "</div>"
      ],
      "text/plain": [
       "          4         3         2         1\n",
       "4  0.646341  0.268293  0.036585  0.048780\n",
       "3  0.380952  0.523810  0.071429  0.023810\n",
       "2  0.444444  0.333333  0.111111  0.111111\n",
       "1  0.200000  0.600000  0.200000  0.000000"
      ]
     },
     "execution_count": 59,
     "metadata": {},
     "output_type": "execute_result"
    }
   ],
   "source": [
    "oi_tuples = iomoves_thin_success_df.sort_values(['Num of CS','oi_journey_number']).groupby('Num of CS').apply(func=make_pairs,stride=3,column_name='success_level')\n",
    "oi_tuples_df = pd.DataFrame(oi_tuples).reset_index().rename({0:'oi_moves'},axis=1)\n",
    "flat_oi_moves_l = [item for sublist in oi_tuples_df['oi_moves'].values for item in sublist]\n",
    "flat_oi_moves_df = pd.DataFrame(flat_oi_moves_l).rename({0:'oi_moves_in',1:'oi_moves_out'},axis=1)\n",
    "conf_m2 = confusion_matrix(flat_oi_moves_df['oi_moves_in'], flat_oi_moves_df['oi_moves_out'],labels=labels)\n",
    "conf_m2_df = pd.DataFrame(conf_m2, index=labels, columns=labels)\n",
    "conf_mp2_df = (conf_m2_df.T /conf_m2_df.T.sum()).T\n",
    "conf_mp2_df"
   ]
  },
  {
   "cell_type": "code",
   "execution_count": 52,
   "metadata": {},
   "outputs": [
    {
     "data": {
      "text/plain": [
       "4    0.562780\n",
       "3    0.322870\n",
       "2    0.076233\n",
       "1    0.038117\n",
       "Name: success_level, dtype: float64"
      ]
     },
     "execution_count": 52,
     "metadata": {},
     "output_type": "execute_result"
    }
   ],
   "source": [
    "iomoves_thin_success_df['success_level'].value_counts(normalize=True)"
   ]
  },
  {
   "cell_type": "code",
   "execution_count": 72,
   "metadata": {},
   "outputs": [
    {
     "data": {
      "text/plain": [
       "4    251\n",
       "3    144\n",
       "2     34\n",
       "1     17\n",
       "Name: success_level, dtype: int64"
      ]
     },
     "execution_count": 72,
     "metadata": {},
     "output_type": "execute_result"
    }
   ],
   "source": [
    "iomoves_thin_success_df['success_level'].value_counts()"
   ]
  },
  {
   "cell_type": "code",
   "execution_count": 53,
   "metadata": {},
   "outputs": [],
   "source": [
    "conf_mp = conf_mp_df.to_numpy()"
   ]
  },
  {
   "cell_type": "code",
   "execution_count": 54,
   "metadata": {},
   "outputs": [],
   "source": [
    "conf_mp[2,2] = conf_mp[2,2] - 1"
   ]
  },
  {
   "cell_type": "code",
   "execution_count": 55,
   "metadata": {},
   "outputs": [
    {
     "data": {
      "text/plain": [
       "array([[ 0.70520231,  0.22543353,  0.05202312,  0.01734104],\n",
       "       [ 0.37864078,  0.55339806,  0.01941748,  0.04854369],\n",
       "       [ 0.17391304,  0.43478261, -0.60869565,  0.        ],\n",
       "       [ 0.3       ,  0.2       ,  0.3       ,  0.2       ]])"
      ]
     },
     "execution_count": 55,
     "metadata": {},
     "output_type": "execute_result"
    }
   ],
   "source": [
    "conf_mp"
   ]
  },
  {
   "cell_type": "code",
   "execution_count": 56,
   "metadata": {},
   "outputs": [],
   "source": [
    "B = np.array([-1, -1, -1])"
   ]
  },
  {
   "cell_type": "code",
   "execution_count": 57,
   "metadata": {},
   "outputs": [
    {
     "ename": "ValueError",
     "evalue": "shapes (4,4) and (3,) not aligned: 4 (dim 1) != 3 (dim 0)",
     "output_type": "error",
     "traceback": [
      "\u001b[1;31m---------------------------------------------------------------------------\u001b[0m",
      "\u001b[1;31mValueError\u001b[0m                                Traceback (most recent call last)",
      "\u001b[1;32m<ipython-input-57-a2fadbeabd94>\u001b[0m in \u001b[0;36m<module>\u001b[1;34m\u001b[0m\n\u001b[1;32m----> 1\u001b[1;33m \u001b[0mnp\u001b[0m\u001b[1;33m.\u001b[0m\u001b[0mlinalg\u001b[0m\u001b[1;33m.\u001b[0m\u001b[0minv\u001b[0m\u001b[1;33m(\u001b[0m\u001b[0mconf_mp\u001b[0m\u001b[1;33m)\u001b[0m\u001b[1;33m.\u001b[0m\u001b[0mdot\u001b[0m\u001b[1;33m(\u001b[0m\u001b[0mB\u001b[0m\u001b[1;33m)\u001b[0m\u001b[1;33m\u001b[0m\u001b[1;33m\u001b[0m\u001b[0m\n\u001b[0m",
      "\u001b[1;31mValueError\u001b[0m: shapes (4,4) and (3,) not aligned: 4 (dim 1) != 3 (dim 0)"
     ]
    }
   ],
   "source": [
    "np.linalg.inv(conf_mp).dot(B)"
   ]
  },
  {
   "cell_type": "code",
   "execution_count": null,
   "metadata": {},
   "outputs": [],
   "source": [
    "np.linalg.solve(conf_mp,B)"
   ]
  },
  {
   "cell_type": "code",
   "execution_count": null,
   "metadata": {},
   "outputs": [],
   "source": [
    "A = np.array([[-0.44, 0.06], [0.36, -0.5]])\n",
    "B = np.array([-1, -1])\n",
    "X = np.linalg.inv(A).dot(B)\n",
    "\n",
    "print(X)"
   ]
  },
  {
   "cell_type": "code",
   "execution_count": null,
   "metadata": {},
   "outputs": [],
   "source": []
  }
 ],
 "metadata": {
  "celltoolbar": "Slideshow",
  "kernelspec": {
   "display_name": "Python 3",
   "language": "python",
   "name": "python3"
  },
  "language_info": {
   "codemirror_mode": {
    "name": "ipython",
    "version": 3
   },
   "file_extension": ".py",
   "mimetype": "text/x-python",
   "name": "python",
   "nbconvert_exporter": "python",
   "pygments_lexer": "ipython3",
   "version": "3.7.6"
  }
 },
 "nbformat": 4,
 "nbformat_minor": 4
}
