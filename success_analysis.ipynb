{
 "cells": [
  {
   "cell_type": "code",
   "execution_count": 1,
   "metadata": {
    "slideshow": {
     "slide_type": "skip"
    }
   },
   "outputs": [],
   "source": [
    "import pandas as pd\n",
    "import numpy as np\n",
    "import matplotlib.pyplot as plt\n",
    "plt.rcParams['figure.figsize'] = [12, 8]\n",
    "plt.rcParams['figure.dpi'] = 100 # 200 e.g. is really fine, but slower"
   ]
  },
  {
   "cell_type": "code",
   "execution_count": 2,
   "metadata": {
    "slideshow": {
     "slide_type": "skip"
    }
   },
   "outputs": [],
   "source": [
    "iomoves_df = pd.read_csv(\"Dataset Paper A 500 OI Moves 7 Apr 2020 A_v4.csv\",encoding='latin1')"
   ]
  },
  {
   "cell_type": "markdown",
   "metadata": {
    "slideshow": {
     "slide_type": "slide"
    }
   },
   "source": [
    "### The dataset imported in python"
   ]
  },
  {
   "cell_type": "code",
   "execution_count": 3,
   "metadata": {
    "scrolled": true,
    "slideshow": {
     "slide_type": "slide"
    }
   },
   "outputs": [
    {
     "data": {
      "text/html": [
       "<div>\n",
       "<style scoped>\n",
       "    .dataframe tbody tr th:only-of-type {\n",
       "        vertical-align: middle;\n",
       "    }\n",
       "\n",
       "    .dataframe tbody tr th {\n",
       "        vertical-align: top;\n",
       "    }\n",
       "\n",
       "    .dataframe thead th {\n",
       "        text-align: right;\n",
       "    }\n",
       "</style>\n",
       "<table border=\"1\" class=\"dataframe\">\n",
       "  <thead>\n",
       "    <tr style=\"text-align: right;\">\n",
       "      <th></th>\n",
       "      <th>Num of CS</th>\n",
       "      <th>Name of Company</th>\n",
       "      <th>Website</th>\n",
       "      <th>INPIRE Code</th>\n",
       "      <th>Country</th>\n",
       "      <th>Region</th>\n",
       "      <th>Sector</th>\n",
       "      <th>Manufacturing/Service</th>\n",
       "      <th>Size</th>\n",
       "      <th>Tech Intensity</th>\n",
       "      <th>...</th>\n",
       "      <th>Author</th>\n",
       "      <th>Interview date</th>\n",
       "      <th>Reviewer</th>\n",
       "      <th>OI Journey number</th>\n",
       "      <th>Relevant text in the case study</th>\n",
       "      <th>Innovating with</th>\n",
       "      <th>leading to</th>\n",
       "      <th>No in typology</th>\n",
       "      <th>Management score</th>\n",
       "      <th>Success score</th>\n",
       "    </tr>\n",
       "  </thead>\n",
       "  <tbody>\n",
       "    <tr>\n",
       "      <th>0</th>\n",
       "      <td>1</td>\n",
       "      <td>Adamant Composites</td>\n",
       "      <td>www.adamant-composites.gr</td>\n",
       "      <td>SE24</td>\n",
       "      <td>Greece</td>\n",
       "      <td>Southern Europe</td>\n",
       "      <td>Nanotechnology</td>\n",
       "      <td>Manufacturing</td>\n",
       "      <td>Small</td>\n",
       "      <td>High-tech</td>\n",
       "      <td>...</td>\n",
       "      <td>Efi Bakogianni</td>\n",
       "      <td>11/2/2016</td>\n",
       "      <td>George Tsekouras</td>\n",
       "      <td>1.2</td>\n",
       "      <td>In close cooperation with the University of Pa...</td>\n",
       "      <td>R&amp;D service providers</td>\n",
       "      <td>Internal exploitation</td>\n",
       "      <td>1</td>\n",
       "      <td>7.Moderately well managed</td>\n",
       "      <td>8.Very Successful</td>\n",
       "    </tr>\n",
       "    <tr>\n",
       "      <th>1</th>\n",
       "      <td>1</td>\n",
       "      <td>Adamant Composites</td>\n",
       "      <td>www.adamant-composites.gr</td>\n",
       "      <td>SE24</td>\n",
       "      <td>Greece</td>\n",
       "      <td>Southern Europe</td>\n",
       "      <td>Nanotechnology</td>\n",
       "      <td>Manufacturing</td>\n",
       "      <td>Small</td>\n",
       "      <td>High-tech</td>\n",
       "      <td>...</td>\n",
       "      <td>Efi Bakogianni</td>\n",
       "      <td>11/2/2016</td>\n",
       "      <td>George Tsekouras</td>\n",
       "      <td>1.3</td>\n",
       "      <td>under technology development contracts in coll...</td>\n",
       "      <td>Complementary partners</td>\n",
       "      <td>Internal exploitation</td>\n",
       "      <td>4</td>\n",
       "      <td>8.Very well managed</td>\n",
       "      <td>8.Very Successful</td>\n",
       "    </tr>\n",
       "    <tr>\n",
       "      <th>2</th>\n",
       "      <td>1</td>\n",
       "      <td>Adamant Composites</td>\n",
       "      <td>www.adamant-composites.gr</td>\n",
       "      <td>SE24</td>\n",
       "      <td>Greece</td>\n",
       "      <td>Southern Europe</td>\n",
       "      <td>Nanotechnology</td>\n",
       "      <td>Manufacturing</td>\n",
       "      <td>Small</td>\n",
       "      <td>High-tech</td>\n",
       "      <td>...</td>\n",
       "      <td>Efi Bakogianni</td>\n",
       "      <td>11/2/2016</td>\n",
       "      <td>George Tsekouras</td>\n",
       "      <td>1.4</td>\n",
       "      <td>Thus, Adamant established strategic collaborat...</td>\n",
       "      <td>Customers</td>\n",
       "      <td>Internal exploitation</td>\n",
       "      <td>7</td>\n",
       "      <td>7.Moderately well managed</td>\n",
       "      <td>7.Moderately successful</td>\n",
       "    </tr>\n",
       "    <tr>\n",
       "      <th>3</th>\n",
       "      <td>1</td>\n",
       "      <td>Adamant Composites</td>\n",
       "      <td>www.adamant-composites.gr</td>\n",
       "      <td>SE24</td>\n",
       "      <td>Greece</td>\n",
       "      <td>Southern Europe</td>\n",
       "      <td>Nanotechnology</td>\n",
       "      <td>Manufacturing</td>\n",
       "      <td>Small</td>\n",
       "      <td>High-tech</td>\n",
       "      <td>...</td>\n",
       "      <td>Efi Bakogianni</td>\n",
       "      <td>11/2/2016</td>\n",
       "      <td>George Tsekouras</td>\n",
       "      <td>1.5</td>\n",
       "      <td>Thus, Adamant established strategic collaborat...</td>\n",
       "      <td>Customers</td>\n",
       "      <td>Internal exploitation</td>\n",
       "      <td>7</td>\n",
       "      <td>8.Very well managed</td>\n",
       "      <td>7.Moderately successful</td>\n",
       "    </tr>\n",
       "    <tr>\n",
       "      <th>4</th>\n",
       "      <td>1</td>\n",
       "      <td>Adamant Composites</td>\n",
       "      <td>www.adamant-composites.gr</td>\n",
       "      <td>SE24</td>\n",
       "      <td>Greece</td>\n",
       "      <td>Southern Europe</td>\n",
       "      <td>Nanotechnology</td>\n",
       "      <td>Manufacturing</td>\n",
       "      <td>Small</td>\n",
       "      <td>High-tech</td>\n",
       "      <td>...</td>\n",
       "      <td>Efi Bakogianni</td>\n",
       "      <td>11/2/2016</td>\n",
       "      <td>George Tsekouras</td>\n",
       "      <td>1.6</td>\n",
       "      <td>Adamants collaboration with Alchemy  a Greek...</td>\n",
       "      <td>Complementary partners</td>\n",
       "      <td>Internal exploitation</td>\n",
       "      <td>4</td>\n",
       "      <td>7.Moderately well managed</td>\n",
       "      <td>7.Moderately successful</td>\n",
       "    </tr>\n",
       "  </tbody>\n",
       "</table>\n",
       "<p>5 rows × 28 columns</p>\n",
       "</div>"
      ],
      "text/plain": [
       "   Num of CS     Name of Company                    Website INPIRE Code  \\\n",
       "0          1  Adamant Composites  www.adamant-composites.gr        SE24   \n",
       "1          1  Adamant Composites  www.adamant-composites.gr        SE24   \n",
       "2          1  Adamant Composites  www.adamant-composites.gr        SE24   \n",
       "3          1  Adamant Composites  www.adamant-composites.gr        SE24   \n",
       "4          1  Adamant Composites  www.adamant-composites.gr        SE24   \n",
       "\n",
       "  Country           Region          Sector Manufacturing/Service   Size  \\\n",
       "0  Greece  Southern Europe  Nanotechnology         Manufacturing  Small   \n",
       "1  Greece  Southern Europe  Nanotechnology         Manufacturing  Small   \n",
       "2  Greece  Southern Europe  Nanotechnology         Manufacturing  Small   \n",
       "3  Greece  Southern Europe  Nanotechnology         Manufacturing  Small   \n",
       "4  Greece  Southern Europe  Nanotechnology         Manufacturing  Small   \n",
       "\n",
       "  Tech Intensity  ...          Author Interview date          Reviewer  \\\n",
       "0      High-tech  ...  Efi Bakogianni      11/2/2016  George Tsekouras   \n",
       "1      High-tech  ...  Efi Bakogianni      11/2/2016  George Tsekouras   \n",
       "2      High-tech  ...  Efi Bakogianni      11/2/2016  George Tsekouras   \n",
       "3      High-tech  ...  Efi Bakogianni      11/2/2016  George Tsekouras   \n",
       "4      High-tech  ...  Efi Bakogianni      11/2/2016  George Tsekouras   \n",
       "\n",
       "  OI Journey number                    Relevant text in the case study  \\\n",
       "0               1.2  In close cooperation with the University of Pa...   \n",
       "1               1.3  under technology development contracts in coll...   \n",
       "2               1.4  Thus, Adamant established strategic collaborat...   \n",
       "3               1.5  Thus, Adamant established strategic collaborat...   \n",
       "4               1.6  Adamants collaboration with Alchemy  a Greek...   \n",
       "\n",
       "          Innovating with             leading to No in typology  \\\n",
       "0   R&D service providers  Internal exploitation              1   \n",
       "1  Complementary partners  Internal exploitation              4   \n",
       "2               Customers  Internal exploitation              7   \n",
       "3               Customers  Internal exploitation              7   \n",
       "4  Complementary partners  Internal exploitation              4   \n",
       "\n",
       "            Management score            Success score  \n",
       "0  7.Moderately well managed        8.Very Successful  \n",
       "1        8.Very well managed        8.Very Successful  \n",
       "2  7.Moderately well managed  7.Moderately successful  \n",
       "3        8.Very well managed  7.Moderately successful  \n",
       "4  7.Moderately well managed  7.Moderately successful  \n",
       "\n",
       "[5 rows x 28 columns]"
      ]
     },
     "execution_count": 3,
     "metadata": {},
     "output_type": "execute_result"
    }
   ],
   "source": [
    "iomoves_df.head()"
   ]
  },
  {
   "cell_type": "code",
   "execution_count": 4,
   "metadata": {
    "slideshow": {
     "slide_type": "skip"
    }
   },
   "outputs": [
    {
     "data": {
      "text/plain": [
       "Index(['Num of CS', 'Name of Company', 'Website', 'INPIRE Code', 'Country',\n",
       "       'Region', 'Sector', 'Manufacturing/Service', 'Size', 'Tech Intensity',\n",
       "       'Life-cycle stage', 'Strong/Not strong case', 'Product Innovation',\n",
       "       'Process Innovation', 'Service Innovation', 'Organizational Innovation',\n",
       "       'Customer and MKG Innovation', 'Distribution Channels', 'Author',\n",
       "       'Interview date', 'Reviewer', 'OI Journey number',\n",
       "       'Relevant text in the case study', 'Innovating with', 'leading to',\n",
       "       'No in typology', 'Management score', 'Success score'],\n",
       "      dtype='object')"
      ]
     },
     "execution_count": 4,
     "metadata": {},
     "output_type": "execute_result"
    }
   ],
   "source": [
    "iomoves_df.columns"
   ]
  },
  {
   "cell_type": "code",
   "execution_count": 5,
   "metadata": {
    "slideshow": {
     "slide_type": "skip"
    }
   },
   "outputs": [],
   "source": [
    "iomoves_df.loc[iomoves_df['Innovating with'] == 'Users (not paying the firm)','Innovating with'] = 'Users'"
   ]
  },
  {
   "cell_type": "code",
   "execution_count": 6,
   "metadata": {
    "slideshow": {
     "slide_type": "skip"
    }
   },
   "outputs": [],
   "source": [
    "iomoves_thin_df = iomoves_df[['Num of CS','OI Journey number','Innovating with', 'leading to','No in typology','Management score',\n",
    "       'Success score']].copy()"
   ]
  },
  {
   "cell_type": "markdown",
   "metadata": {
    "slideshow": {
     "slide_type": "slide"
    }
   },
   "source": [
    "### We care for these columns now"
   ]
  },
  {
   "cell_type": "code",
   "execution_count": 7,
   "metadata": {
    "slideshow": {
     "slide_type": "slide"
    }
   },
   "outputs": [
    {
     "data": {
      "text/html": [
       "<div>\n",
       "<style scoped>\n",
       "    .dataframe tbody tr th:only-of-type {\n",
       "        vertical-align: middle;\n",
       "    }\n",
       "\n",
       "    .dataframe tbody tr th {\n",
       "        vertical-align: top;\n",
       "    }\n",
       "\n",
       "    .dataframe thead th {\n",
       "        text-align: right;\n",
       "    }\n",
       "</style>\n",
       "<table border=\"1\" class=\"dataframe\">\n",
       "  <thead>\n",
       "    <tr style=\"text-align: right;\">\n",
       "      <th></th>\n",
       "      <th>Num of CS</th>\n",
       "      <th>OI Journey number</th>\n",
       "      <th>Innovating with</th>\n",
       "      <th>leading to</th>\n",
       "      <th>No in typology</th>\n",
       "      <th>Management score</th>\n",
       "      <th>Success score</th>\n",
       "    </tr>\n",
       "  </thead>\n",
       "  <tbody>\n",
       "    <tr>\n",
       "      <th>0</th>\n",
       "      <td>1</td>\n",
       "      <td>1.2</td>\n",
       "      <td>R&amp;D service providers</td>\n",
       "      <td>Internal exploitation</td>\n",
       "      <td>1</td>\n",
       "      <td>7.Moderately well managed</td>\n",
       "      <td>8.Very Successful</td>\n",
       "    </tr>\n",
       "    <tr>\n",
       "      <th>1</th>\n",
       "      <td>1</td>\n",
       "      <td>1.3</td>\n",
       "      <td>Complementary partners</td>\n",
       "      <td>Internal exploitation</td>\n",
       "      <td>4</td>\n",
       "      <td>8.Very well managed</td>\n",
       "      <td>8.Very Successful</td>\n",
       "    </tr>\n",
       "    <tr>\n",
       "      <th>2</th>\n",
       "      <td>1</td>\n",
       "      <td>1.4</td>\n",
       "      <td>Customers</td>\n",
       "      <td>Internal exploitation</td>\n",
       "      <td>7</td>\n",
       "      <td>7.Moderately well managed</td>\n",
       "      <td>7.Moderately successful</td>\n",
       "    </tr>\n",
       "    <tr>\n",
       "      <th>3</th>\n",
       "      <td>1</td>\n",
       "      <td>1.5</td>\n",
       "      <td>Customers</td>\n",
       "      <td>Internal exploitation</td>\n",
       "      <td>7</td>\n",
       "      <td>8.Very well managed</td>\n",
       "      <td>7.Moderately successful</td>\n",
       "    </tr>\n",
       "    <tr>\n",
       "      <th>4</th>\n",
       "      <td>1</td>\n",
       "      <td>1.6</td>\n",
       "      <td>Complementary partners</td>\n",
       "      <td>Internal exploitation</td>\n",
       "      <td>4</td>\n",
       "      <td>7.Moderately well managed</td>\n",
       "      <td>7.Moderately successful</td>\n",
       "    </tr>\n",
       "    <tr>\n",
       "      <th>...</th>\n",
       "      <td>...</td>\n",
       "      <td>...</td>\n",
       "      <td>...</td>\n",
       "      <td>...</td>\n",
       "      <td>...</td>\n",
       "      <td>...</td>\n",
       "      <td>...</td>\n",
       "    </tr>\n",
       "    <tr>\n",
       "      <th>495</th>\n",
       "      <td>105</td>\n",
       "      <td>118.5</td>\n",
       "      <td>R&amp;D service providers</td>\n",
       "      <td>Internal exploitation</td>\n",
       "      <td>1</td>\n",
       "      <td>8.Very well managed</td>\n",
       "      <td>8.Very Successful</td>\n",
       "    </tr>\n",
       "    <tr>\n",
       "      <th>496</th>\n",
       "      <td>105</td>\n",
       "      <td>118.6</td>\n",
       "      <td>R&amp;D service providers</td>\n",
       "      <td>Internal exploitation</td>\n",
       "      <td>1</td>\n",
       "      <td>8.Very well managed</td>\n",
       "      <td>8.Very Successful</td>\n",
       "    </tr>\n",
       "    <tr>\n",
       "      <th>497</th>\n",
       "      <td>105</td>\n",
       "      <td>118.7</td>\n",
       "      <td>Suppliers</td>\n",
       "      <td>Internal exploitation</td>\n",
       "      <td>10</td>\n",
       "      <td>9.Extremely well managed</td>\n",
       "      <td>8.Very Successful</td>\n",
       "    </tr>\n",
       "    <tr>\n",
       "      <th>498</th>\n",
       "      <td>105</td>\n",
       "      <td>118.8</td>\n",
       "      <td>Suppliers</td>\n",
       "      <td>Internal exploitation</td>\n",
       "      <td>10</td>\n",
       "      <td>9.Extremely well managed</td>\n",
       "      <td>8.Very Successful</td>\n",
       "    </tr>\n",
       "    <tr>\n",
       "      <th>499</th>\n",
       "      <td>106</td>\n",
       "      <td>120.1</td>\n",
       "      <td>Customers</td>\n",
       "      <td>Internal exploitation</td>\n",
       "      <td>7</td>\n",
       "      <td>7.Moderately well managed</td>\n",
       "      <td>7.Moderately successful</td>\n",
       "    </tr>\n",
       "  </tbody>\n",
       "</table>\n",
       "<p>500 rows × 7 columns</p>\n",
       "</div>"
      ],
      "text/plain": [
       "     Num of CS  OI Journey number         Innovating with  \\\n",
       "0            1                1.2   R&D service providers   \n",
       "1            1                1.3  Complementary partners   \n",
       "2            1                1.4               Customers   \n",
       "3            1                1.5               Customers   \n",
       "4            1                1.6  Complementary partners   \n",
       "..         ...                ...                     ...   \n",
       "495        105              118.5   R&D service providers   \n",
       "496        105              118.6   R&D service providers   \n",
       "497        105              118.7               Suppliers   \n",
       "498        105              118.8               Suppliers   \n",
       "499        106              120.1               Customers   \n",
       "\n",
       "                leading to  No in typology           Management score  \\\n",
       "0    Internal exploitation               1  7.Moderately well managed   \n",
       "1    Internal exploitation               4        8.Very well managed   \n",
       "2    Internal exploitation               7  7.Moderately well managed   \n",
       "3    Internal exploitation               7        8.Very well managed   \n",
       "4    Internal exploitation               4  7.Moderately well managed   \n",
       "..                     ...             ...                        ...   \n",
       "495  Internal exploitation               1        8.Very well managed   \n",
       "496  Internal exploitation               1        8.Very well managed   \n",
       "497  Internal exploitation              10   9.Extremely well managed   \n",
       "498  Internal exploitation              10   9.Extremely well managed   \n",
       "499  Internal exploitation               7  7.Moderately well managed   \n",
       "\n",
       "               Success score  \n",
       "0          8.Very Successful  \n",
       "1          8.Very Successful  \n",
       "2    7.Moderately successful  \n",
       "3    7.Moderately successful  \n",
       "4    7.Moderately successful  \n",
       "..                       ...  \n",
       "495        8.Very Successful  \n",
       "496        8.Very Successful  \n",
       "497        8.Very Successful  \n",
       "498        8.Very Successful  \n",
       "499  7.Moderately successful  \n",
       "\n",
       "[500 rows x 7 columns]"
      ]
     },
     "execution_count": 7,
     "metadata": {},
     "output_type": "execute_result"
    }
   ],
   "source": [
    "iomoves_thin_df"
   ]
  },
  {
   "cell_type": "code",
   "execution_count": 8,
   "metadata": {
    "slideshow": {
     "slide_type": "skip"
    }
   },
   "outputs": [
    {
     "data": {
      "text/plain": [
       "Num of CS              int64\n",
       "OI Journey number    float64\n",
       "dtype: object"
      ]
     },
     "execution_count": 8,
     "metadata": {},
     "output_type": "execute_result"
    }
   ],
   "source": [
    "iomoves_thin_df[['Num of CS','OI Journey number']].dtypes"
   ]
  },
  {
   "cell_type": "code",
   "execution_count": 9,
   "metadata": {
    "slideshow": {
     "slide_type": "skip"
    }
   },
   "outputs": [],
   "source": [
    "iomoves_thin_df.loc[:,'oi_journey_number'] = iomoves_thin_df.loc[:,'OI Journey number'].apply(lambda x: str(x).split('.')[1])\n",
    "iomoves_thin_df.loc[:,'oi_case_num'] = iomoves_thin_df.loc[:,'OI Journey number'].apply(lambda x: str(x).split('.')[0])"
   ]
  },
  {
   "cell_type": "code",
   "execution_count": 10,
   "metadata": {
    "slideshow": {
     "slide_type": "skip"
    }
   },
   "outputs": [
    {
     "data": {
      "text/html": [
       "<div>\n",
       "<style scoped>\n",
       "    .dataframe tbody tr th:only-of-type {\n",
       "        vertical-align: middle;\n",
       "    }\n",
       "\n",
       "    .dataframe tbody tr th {\n",
       "        vertical-align: top;\n",
       "    }\n",
       "\n",
       "    .dataframe thead th {\n",
       "        text-align: right;\n",
       "    }\n",
       "</style>\n",
       "<table border=\"1\" class=\"dataframe\">\n",
       "  <thead>\n",
       "    <tr style=\"text-align: right;\">\n",
       "      <th></th>\n",
       "      <th>Num of CS</th>\n",
       "      <th>OI Journey number</th>\n",
       "      <th>Innovating with</th>\n",
       "      <th>leading to</th>\n",
       "      <th>No in typology</th>\n",
       "      <th>Management score</th>\n",
       "      <th>Success score</th>\n",
       "      <th>oi_journey_number</th>\n",
       "      <th>oi_case_num</th>\n",
       "    </tr>\n",
       "  </thead>\n",
       "  <tbody>\n",
       "    <tr>\n",
       "      <th>0</th>\n",
       "      <td>1</td>\n",
       "      <td>1.2</td>\n",
       "      <td>R&amp;D service providers</td>\n",
       "      <td>Internal exploitation</td>\n",
       "      <td>1</td>\n",
       "      <td>7.Moderately well managed</td>\n",
       "      <td>8.Very Successful</td>\n",
       "      <td>2</td>\n",
       "      <td>1</td>\n",
       "    </tr>\n",
       "    <tr>\n",
       "      <th>1</th>\n",
       "      <td>1</td>\n",
       "      <td>1.3</td>\n",
       "      <td>Complementary partners</td>\n",
       "      <td>Internal exploitation</td>\n",
       "      <td>4</td>\n",
       "      <td>8.Very well managed</td>\n",
       "      <td>8.Very Successful</td>\n",
       "      <td>3</td>\n",
       "      <td>1</td>\n",
       "    </tr>\n",
       "    <tr>\n",
       "      <th>2</th>\n",
       "      <td>1</td>\n",
       "      <td>1.4</td>\n",
       "      <td>Customers</td>\n",
       "      <td>Internal exploitation</td>\n",
       "      <td>7</td>\n",
       "      <td>7.Moderately well managed</td>\n",
       "      <td>7.Moderately successful</td>\n",
       "      <td>4</td>\n",
       "      <td>1</td>\n",
       "    </tr>\n",
       "    <tr>\n",
       "      <th>3</th>\n",
       "      <td>1</td>\n",
       "      <td>1.5</td>\n",
       "      <td>Customers</td>\n",
       "      <td>Internal exploitation</td>\n",
       "      <td>7</td>\n",
       "      <td>8.Very well managed</td>\n",
       "      <td>7.Moderately successful</td>\n",
       "      <td>5</td>\n",
       "      <td>1</td>\n",
       "    </tr>\n",
       "    <tr>\n",
       "      <th>4</th>\n",
       "      <td>1</td>\n",
       "      <td>1.6</td>\n",
       "      <td>Complementary partners</td>\n",
       "      <td>Internal exploitation</td>\n",
       "      <td>4</td>\n",
       "      <td>7.Moderately well managed</td>\n",
       "      <td>7.Moderately successful</td>\n",
       "      <td>6</td>\n",
       "      <td>1</td>\n",
       "    </tr>\n",
       "    <tr>\n",
       "      <th>5</th>\n",
       "      <td>1</td>\n",
       "      <td>1.7</td>\n",
       "      <td>Complementary partners</td>\n",
       "      <td>Co-exploitation</td>\n",
       "      <td>5</td>\n",
       "      <td>7.Moderately well managed</td>\n",
       "      <td>7.Moderately successful</td>\n",
       "      <td>7</td>\n",
       "      <td>1</td>\n",
       "    </tr>\n",
       "  </tbody>\n",
       "</table>\n",
       "</div>"
      ],
      "text/plain": [
       "   Num of CS  OI Journey number         Innovating with  \\\n",
       "0          1                1.2   R&D service providers   \n",
       "1          1                1.3  Complementary partners   \n",
       "2          1                1.4               Customers   \n",
       "3          1                1.5               Customers   \n",
       "4          1                1.6  Complementary partners   \n",
       "5          1                1.7  Complementary partners   \n",
       "\n",
       "              leading to  No in typology           Management score  \\\n",
       "0  Internal exploitation               1  7.Moderately well managed   \n",
       "1  Internal exploitation               4        8.Very well managed   \n",
       "2  Internal exploitation               7  7.Moderately well managed   \n",
       "3  Internal exploitation               7        8.Very well managed   \n",
       "4  Internal exploitation               4  7.Moderately well managed   \n",
       "5        Co-exploitation               5  7.Moderately well managed   \n",
       "\n",
       "             Success score oi_journey_number oi_case_num  \n",
       "0        8.Very Successful                 2           1  \n",
       "1        8.Very Successful                 3           1  \n",
       "2  7.Moderately successful                 4           1  \n",
       "3  7.Moderately successful                 5           1  \n",
       "4  7.Moderately successful                 6           1  \n",
       "5  7.Moderately successful                 7           1  "
      ]
     },
     "execution_count": 10,
     "metadata": {},
     "output_type": "execute_result"
    }
   ],
   "source": [
    "iomoves_thin_df[iomoves_thin_df['oi_case_num'] == '1']"
   ]
  },
  {
   "cell_type": "code",
   "execution_count": 11,
   "metadata": {
    "slideshow": {
     "slide_type": "skip"
    }
   },
   "outputs": [
    {
     "data": {
      "text/plain": [
       "False"
      ]
     },
     "execution_count": 11,
     "metadata": {},
     "output_type": "execute_result"
    }
   ],
   "source": [
    "any(iomoves_thin_df.groupby('oi_case_num')['Num of CS'].nunique() != 1)"
   ]
  },
  {
   "cell_type": "code",
   "execution_count": 12,
   "metadata": {
    "slideshow": {
     "slide_type": "skip"
    }
   },
   "outputs": [],
   "source": [
    "def reset_io_journey_number(gr):\n",
    "    gr = gr.sort_values('oi_journey_number',ignore_index=True)\n",
    "    if gr.loc[0,'oi_journey_number'] !=1:\n",
    "        dist = gr.loc[0,'oi_journey_number'] - 1\n",
    "        gr['oi_journey_number'] = gr['oi_journey_number'] - dist\n",
    "    return gr    "
   ]
  },
  {
   "cell_type": "code",
   "execution_count": 13,
   "metadata": {
    "slideshow": {
     "slide_type": "skip"
    }
   },
   "outputs": [],
   "source": [
    "def make_pairs(row,stride=1,column_name='Innovating with'):\n",
    "    ret = []\n",
    "    if row.shape[0] == 1:\n",
    "        return ret\n",
    "    else:\n",
    "        s = row['oi_journey_number'].to_list()\n",
    "        l = row[column_name].to_list()\n",
    "        for i,v in enumerate(l[:-1]):\n",
    "#             print(l[i+stride])\n",
    "            if (i+stride) > len(l[:-1]):\n",
    "                return ret\n",
    "            else:\n",
    "                if (s[i] + stride) == s[i+stride]: \n",
    "                    t = (v,l[i+stride])\n",
    "                    ret.append(t)\n",
    "        return ret"
   ]
  },
  {
   "cell_type": "code",
   "execution_count": 14,
   "metadata": {
    "slideshow": {
     "slide_type": "skip"
    }
   },
   "outputs": [],
   "source": [
    "def count_pairs(row,stride=1,column_name='success_level',start='1', end='4'):\n",
    "    counts = []\n",
    "    if row.shape[0] == 1:\n",
    "        return counts\n",
    "    else:\n",
    "        s = row['oi_journey_number'].to_list()\n",
    "        l = row[column_name].to_list()\n",
    "        count = False\n",
    "        for i,v in enumerate(l):\n",
    "\n",
    "            if (v == start) and (not count):\n",
    "                st = s[i]\n",
    "                count = True\n",
    "            elif (v == end) and (count):\n",
    "                duration = s[i] - st\n",
    "                counts.append(duration)\n",
    "                count = False\n",
    "                                  \n",
    "    return counts"
   ]
  },
  {
   "cell_type": "code",
   "execution_count": 15,
   "metadata": {
    "slideshow": {
     "slide_type": "skip"
    }
   },
   "outputs": [],
   "source": [
    "from sklearn.metrics import confusion_matrix\n",
    "from numpy.linalg import matrix_power"
   ]
  },
  {
   "cell_type": "code",
   "execution_count": 16,
   "metadata": {},
   "outputs": [
    {
     "data": {
      "text/html": [
       "<div>\n",
       "<style scoped>\n",
       "    .dataframe tbody tr th:only-of-type {\n",
       "        vertical-align: middle;\n",
       "    }\n",
       "\n",
       "    .dataframe tbody tr th {\n",
       "        vertical-align: top;\n",
       "    }\n",
       "\n",
       "    .dataframe thead th {\n",
       "        text-align: right;\n",
       "    }\n",
       "</style>\n",
       "<table border=\"1\" class=\"dataframe\">\n",
       "  <thead>\n",
       "    <tr style=\"text-align: right;\">\n",
       "      <th></th>\n",
       "      <th>Num of CS</th>\n",
       "      <th>OI Journey number</th>\n",
       "      <th>Innovating with</th>\n",
       "      <th>leading to</th>\n",
       "      <th>No in typology</th>\n",
       "      <th>Management score</th>\n",
       "      <th>Success score</th>\n",
       "      <th>oi_journey_number</th>\n",
       "      <th>oi_case_num</th>\n",
       "    </tr>\n",
       "  </thead>\n",
       "  <tbody>\n",
       "    <tr>\n",
       "      <th>0</th>\n",
       "      <td>1</td>\n",
       "      <td>1.2</td>\n",
       "      <td>R&amp;D service providers</td>\n",
       "      <td>Internal exploitation</td>\n",
       "      <td>1</td>\n",
       "      <td>7.Moderately well managed</td>\n",
       "      <td>8.Very Successful</td>\n",
       "      <td>2</td>\n",
       "      <td>1</td>\n",
       "    </tr>\n",
       "    <tr>\n",
       "      <th>1</th>\n",
       "      <td>1</td>\n",
       "      <td>1.3</td>\n",
       "      <td>Complementary partners</td>\n",
       "      <td>Internal exploitation</td>\n",
       "      <td>4</td>\n",
       "      <td>8.Very well managed</td>\n",
       "      <td>8.Very Successful</td>\n",
       "      <td>3</td>\n",
       "      <td>1</td>\n",
       "    </tr>\n",
       "    <tr>\n",
       "      <th>2</th>\n",
       "      <td>1</td>\n",
       "      <td>1.4</td>\n",
       "      <td>Customers</td>\n",
       "      <td>Internal exploitation</td>\n",
       "      <td>7</td>\n",
       "      <td>7.Moderately well managed</td>\n",
       "      <td>7.Moderately successful</td>\n",
       "      <td>4</td>\n",
       "      <td>1</td>\n",
       "    </tr>\n",
       "    <tr>\n",
       "      <th>3</th>\n",
       "      <td>1</td>\n",
       "      <td>1.5</td>\n",
       "      <td>Customers</td>\n",
       "      <td>Internal exploitation</td>\n",
       "      <td>7</td>\n",
       "      <td>8.Very well managed</td>\n",
       "      <td>7.Moderately successful</td>\n",
       "      <td>5</td>\n",
       "      <td>1</td>\n",
       "    </tr>\n",
       "    <tr>\n",
       "      <th>4</th>\n",
       "      <td>1</td>\n",
       "      <td>1.6</td>\n",
       "      <td>Complementary partners</td>\n",
       "      <td>Internal exploitation</td>\n",
       "      <td>4</td>\n",
       "      <td>7.Moderately well managed</td>\n",
       "      <td>7.Moderately successful</td>\n",
       "      <td>6</td>\n",
       "      <td>1</td>\n",
       "    </tr>\n",
       "    <tr>\n",
       "      <th>...</th>\n",
       "      <td>...</td>\n",
       "      <td>...</td>\n",
       "      <td>...</td>\n",
       "      <td>...</td>\n",
       "      <td>...</td>\n",
       "      <td>...</td>\n",
       "      <td>...</td>\n",
       "      <td>...</td>\n",
       "      <td>...</td>\n",
       "    </tr>\n",
       "    <tr>\n",
       "      <th>495</th>\n",
       "      <td>105</td>\n",
       "      <td>118.5</td>\n",
       "      <td>R&amp;D service providers</td>\n",
       "      <td>Internal exploitation</td>\n",
       "      <td>1</td>\n",
       "      <td>8.Very well managed</td>\n",
       "      <td>8.Very Successful</td>\n",
       "      <td>5</td>\n",
       "      <td>118</td>\n",
       "    </tr>\n",
       "    <tr>\n",
       "      <th>496</th>\n",
       "      <td>105</td>\n",
       "      <td>118.6</td>\n",
       "      <td>R&amp;D service providers</td>\n",
       "      <td>Internal exploitation</td>\n",
       "      <td>1</td>\n",
       "      <td>8.Very well managed</td>\n",
       "      <td>8.Very Successful</td>\n",
       "      <td>6</td>\n",
       "      <td>118</td>\n",
       "    </tr>\n",
       "    <tr>\n",
       "      <th>497</th>\n",
       "      <td>105</td>\n",
       "      <td>118.7</td>\n",
       "      <td>Suppliers</td>\n",
       "      <td>Internal exploitation</td>\n",
       "      <td>10</td>\n",
       "      <td>9.Extremely well managed</td>\n",
       "      <td>8.Very Successful</td>\n",
       "      <td>7</td>\n",
       "      <td>118</td>\n",
       "    </tr>\n",
       "    <tr>\n",
       "      <th>498</th>\n",
       "      <td>105</td>\n",
       "      <td>118.8</td>\n",
       "      <td>Suppliers</td>\n",
       "      <td>Internal exploitation</td>\n",
       "      <td>10</td>\n",
       "      <td>9.Extremely well managed</td>\n",
       "      <td>8.Very Successful</td>\n",
       "      <td>8</td>\n",
       "      <td>118</td>\n",
       "    </tr>\n",
       "    <tr>\n",
       "      <th>499</th>\n",
       "      <td>106</td>\n",
       "      <td>120.1</td>\n",
       "      <td>Customers</td>\n",
       "      <td>Internal exploitation</td>\n",
       "      <td>7</td>\n",
       "      <td>7.Moderately well managed</td>\n",
       "      <td>7.Moderately successful</td>\n",
       "      <td>1</td>\n",
       "      <td>120</td>\n",
       "    </tr>\n",
       "  </tbody>\n",
       "</table>\n",
       "<p>500 rows × 9 columns</p>\n",
       "</div>"
      ],
      "text/plain": [
       "     Num of CS  OI Journey number         Innovating with  \\\n",
       "0            1                1.2   R&D service providers   \n",
       "1            1                1.3  Complementary partners   \n",
       "2            1                1.4               Customers   \n",
       "3            1                1.5               Customers   \n",
       "4            1                1.6  Complementary partners   \n",
       "..         ...                ...                     ...   \n",
       "495        105              118.5   R&D service providers   \n",
       "496        105              118.6   R&D service providers   \n",
       "497        105              118.7               Suppliers   \n",
       "498        105              118.8               Suppliers   \n",
       "499        106              120.1               Customers   \n",
       "\n",
       "                leading to  No in typology           Management score  \\\n",
       "0    Internal exploitation               1  7.Moderately well managed   \n",
       "1    Internal exploitation               4        8.Very well managed   \n",
       "2    Internal exploitation               7  7.Moderately well managed   \n",
       "3    Internal exploitation               7        8.Very well managed   \n",
       "4    Internal exploitation               4  7.Moderately well managed   \n",
       "..                     ...             ...                        ...   \n",
       "495  Internal exploitation               1        8.Very well managed   \n",
       "496  Internal exploitation               1        8.Very well managed   \n",
       "497  Internal exploitation              10   9.Extremely well managed   \n",
       "498  Internal exploitation              10   9.Extremely well managed   \n",
       "499  Internal exploitation               7  7.Moderately well managed   \n",
       "\n",
       "               Success score oi_journey_number oi_case_num  \n",
       "0          8.Very Successful                 2           1  \n",
       "1          8.Very Successful                 3           1  \n",
       "2    7.Moderately successful                 4           1  \n",
       "3    7.Moderately successful                 5           1  \n",
       "4    7.Moderately successful                 6           1  \n",
       "..                       ...               ...         ...  \n",
       "495        8.Very Successful                 5         118  \n",
       "496        8.Very Successful                 6         118  \n",
       "497        8.Very Successful                 7         118  \n",
       "498        8.Very Successful                 8         118  \n",
       "499  7.Moderately successful                 1         120  \n",
       "\n",
       "[500 rows x 9 columns]"
      ]
     },
     "execution_count": 16,
     "metadata": {},
     "output_type": "execute_result"
    }
   ],
   "source": [
    "iomoves_thin_df"
   ]
  },
  {
   "cell_type": "code",
   "execution_count": 17,
   "metadata": {
    "slideshow": {
     "slide_type": "skip"
    }
   },
   "outputs": [
    {
     "name": "stderr",
     "output_type": "stream",
     "text": [
      "C:\\Users\\GrigoropoulosS\\AppData\\Local\\Continuum\\anaconda3\\envs\\oimoves\\lib\\site-packages\\pandas\\core\\indexing.py:966: SettingWithCopyWarning: \n",
      "A value is trying to be set on a copy of a slice from a DataFrame.\n",
      "Try using .loc[row_indexer,col_indexer] = value instead\n",
      "\n",
      "See the caveats in the documentation: https://pandas.pydata.org/pandas-docs/stable/user_guide/indexing.html#returning-a-view-versus-a-copy\n",
      "  self.obj[item] = s\n"
     ]
    }
   ],
   "source": [
    "iomoves_thin_success_df = iomoves_thin_df[['Num of CS','oi_journey_number','Success score']]\n",
    "iomoves_thin_success_df.loc[:,'oi_journey_number'] = iomoves_thin_success_df.loc[:,'oi_journey_number'].astype(int)"
   ]
  },
  {
   "cell_type": "markdown",
   "metadata": {
    "slideshow": {
     "slide_type": "slide"
    }
   },
   "source": [
    "### Aggregated the successful score ranks into 4 groups\n",
    "\n",
    "1. : Very/Moderately unsuccessful (2-3)\n",
    "2. : Slightly unsuccessful/Neither successful, nor unsuccessful (4-5)\n",
    "3. : Sligltly/Moderately successful (6-7)\n",
    "4. : Very/Extremely successful (8-9)"
   ]
  },
  {
   "cell_type": "code",
   "execution_count": 18,
   "metadata": {
    "slideshow": {
     "slide_type": "skip"
    }
   },
   "outputs": [],
   "source": [
    "io_journey_count_df = iomoves_thin_success_df.groupby('Num of CS').count()[['oi_journey_number']].reset_index()\n",
    "cases_list = io_journey_count_df[io_journey_count_df['oi_journey_number'] > 1]['Num of CS'].to_list()\n",
    "iomoves_thin_success_df = iomoves_thin_success_df[iomoves_thin_success_df['Num of CS'].isin(cases_list)]"
   ]
  },
  {
   "cell_type": "code",
   "execution_count": 19,
   "metadata": {
    "slideshow": {
     "slide_type": "skip"
    }
   },
   "outputs": [],
   "source": [
    "iomoves_thin_success_df = iomoves_thin_success_df[iomoves_thin_success_df['Num of CS'].isin(cases_list)]\n",
    "iomoves_thin_success_df = iomoves_thin_success_df[iomoves_thin_success_df['Success score'] != 'I don\\x92t know - Not available']\n",
    "iomoves_thin_success_df = iomoves_thin_success_df.groupby('Num of CS')[['oi_journey_number','Success score']].apply(reset_io_journey_number).reset_index().drop(columns='level_1')\n",
    "iomoves_thin_success_df.loc[iomoves_thin_success_df['Success score'] == '9.Extremely successful','success_level'] = '4'\n",
    "iomoves_thin_success_df.loc[iomoves_thin_success_df['Success score'] == '8.Very Successful','success_level'] = '4'\n",
    "iomoves_thin_success_df.loc[iomoves_thin_success_df['Success score'] == '7.Moderately successful','success_level'] = '3'\n",
    "iomoves_thin_success_df.loc[iomoves_thin_success_df['Success score'] == '6.Slightly successful','success_level'] = '3'\n",
    "iomoves_thin_success_df.loc[iomoves_thin_success_df['Success score'] == '5.Neither successful, nor unsuccessful','success_level'] = '2'\n",
    "iomoves_thin_success_df.loc[iomoves_thin_success_df['Success score'] == '4. Slightly unsuccessful','success_level'] = '2'\n",
    "iomoves_thin_success_df.loc[iomoves_thin_success_df['Success score'] == '3. Moderately unsuccessful','success_level'] = '1'\n",
    "iomoves_thin_success_df.loc[iomoves_thin_success_df['Success score'] == '2. Very unsuccessful','success_level'] = '1'"
   ]
  },
  {
   "cell_type": "code",
   "execution_count": 20,
   "metadata": {
    "slideshow": {
     "slide_type": "skip"
    }
   },
   "outputs": [
    {
     "data": {
      "text/html": [
       "<div>\n",
       "<style scoped>\n",
       "    .dataframe tbody tr th:only-of-type {\n",
       "        vertical-align: middle;\n",
       "    }\n",
       "\n",
       "    .dataframe tbody tr th {\n",
       "        vertical-align: top;\n",
       "    }\n",
       "\n",
       "    .dataframe thead th {\n",
       "        text-align: right;\n",
       "    }\n",
       "</style>\n",
       "<table border=\"1\" class=\"dataframe\">\n",
       "  <thead>\n",
       "    <tr style=\"text-align: right;\">\n",
       "      <th></th>\n",
       "      <th>Num of CS</th>\n",
       "      <th>oi_journey_number</th>\n",
       "      <th>Success score</th>\n",
       "      <th>success_level</th>\n",
       "    </tr>\n",
       "  </thead>\n",
       "  <tbody>\n",
       "  </tbody>\n",
       "</table>\n",
       "</div>"
      ],
      "text/plain": [
       "Empty DataFrame\n",
       "Columns: [Num of CS, oi_journey_number, Success score, success_level]\n",
       "Index: []"
      ]
     },
     "execution_count": 20,
     "metadata": {},
     "output_type": "execute_result"
    }
   ],
   "source": [
    "iomoves_thin_success_df[iomoves_thin_success_df['success_level'].isna()]"
   ]
  },
  {
   "cell_type": "code",
   "execution_count": 21,
   "metadata": {
    "slideshow": {
     "slide_type": "slide"
    }
   },
   "outputs": [
    {
     "data": {
      "text/html": [
       "<div>\n",
       "<style scoped>\n",
       "    .dataframe tbody tr th:only-of-type {\n",
       "        vertical-align: middle;\n",
       "    }\n",
       "\n",
       "    .dataframe tbody tr th {\n",
       "        vertical-align: top;\n",
       "    }\n",
       "\n",
       "    .dataframe thead th {\n",
       "        text-align: right;\n",
       "    }\n",
       "</style>\n",
       "<table border=\"1\" class=\"dataframe\">\n",
       "  <thead>\n",
       "    <tr style=\"text-align: right;\">\n",
       "      <th></th>\n",
       "      <th>Num of CS</th>\n",
       "      <th>oi_journey_number</th>\n",
       "      <th>Success score</th>\n",
       "      <th>success_level</th>\n",
       "    </tr>\n",
       "  </thead>\n",
       "  <tbody>\n",
       "    <tr>\n",
       "      <th>0</th>\n",
       "      <td>1</td>\n",
       "      <td>1</td>\n",
       "      <td>8.Very Successful</td>\n",
       "      <td>4</td>\n",
       "    </tr>\n",
       "    <tr>\n",
       "      <th>1</th>\n",
       "      <td>1</td>\n",
       "      <td>2</td>\n",
       "      <td>8.Very Successful</td>\n",
       "      <td>4</td>\n",
       "    </tr>\n",
       "    <tr>\n",
       "      <th>2</th>\n",
       "      <td>1</td>\n",
       "      <td>3</td>\n",
       "      <td>7.Moderately successful</td>\n",
       "      <td>3</td>\n",
       "    </tr>\n",
       "    <tr>\n",
       "      <th>3</th>\n",
       "      <td>1</td>\n",
       "      <td>4</td>\n",
       "      <td>7.Moderately successful</td>\n",
       "      <td>3</td>\n",
       "    </tr>\n",
       "    <tr>\n",
       "      <th>4</th>\n",
       "      <td>1</td>\n",
       "      <td>5</td>\n",
       "      <td>7.Moderately successful</td>\n",
       "      <td>3</td>\n",
       "    </tr>\n",
       "    <tr>\n",
       "      <th>...</th>\n",
       "      <td>...</td>\n",
       "      <td>...</td>\n",
       "      <td>...</td>\n",
       "      <td>...</td>\n",
       "    </tr>\n",
       "    <tr>\n",
       "      <th>441</th>\n",
       "      <td>105</td>\n",
       "      <td>4</td>\n",
       "      <td>7.Moderately successful</td>\n",
       "      <td>3</td>\n",
       "    </tr>\n",
       "    <tr>\n",
       "      <th>442</th>\n",
       "      <td>105</td>\n",
       "      <td>5</td>\n",
       "      <td>8.Very Successful</td>\n",
       "      <td>4</td>\n",
       "    </tr>\n",
       "    <tr>\n",
       "      <th>443</th>\n",
       "      <td>105</td>\n",
       "      <td>6</td>\n",
       "      <td>8.Very Successful</td>\n",
       "      <td>4</td>\n",
       "    </tr>\n",
       "    <tr>\n",
       "      <th>444</th>\n",
       "      <td>105</td>\n",
       "      <td>7</td>\n",
       "      <td>8.Very Successful</td>\n",
       "      <td>4</td>\n",
       "    </tr>\n",
       "    <tr>\n",
       "      <th>445</th>\n",
       "      <td>105</td>\n",
       "      <td>8</td>\n",
       "      <td>8.Very Successful</td>\n",
       "      <td>4</td>\n",
       "    </tr>\n",
       "  </tbody>\n",
       "</table>\n",
       "<p>446 rows × 4 columns</p>\n",
       "</div>"
      ],
      "text/plain": [
       "     Num of CS  oi_journey_number            Success score success_level\n",
       "0            1                  1        8.Very Successful             4\n",
       "1            1                  2        8.Very Successful             4\n",
       "2            1                  3  7.Moderately successful             3\n",
       "3            1                  4  7.Moderately successful             3\n",
       "4            1                  5  7.Moderately successful             3\n",
       "..         ...                ...                      ...           ...\n",
       "441        105                  4  7.Moderately successful             3\n",
       "442        105                  5        8.Very Successful             4\n",
       "443        105                  6        8.Very Successful             4\n",
       "444        105                  7        8.Very Successful             4\n",
       "445        105                  8        8.Very Successful             4\n",
       "\n",
       "[446 rows x 4 columns]"
      ]
     },
     "execution_count": 21,
     "metadata": {},
     "output_type": "execute_result"
    }
   ],
   "source": [
    "iomoves_thin_success_df"
   ]
  },
  {
   "cell_type": "code",
   "execution_count": 22,
   "metadata": {
    "slideshow": {
     "slide_type": "skip"
    }
   },
   "outputs": [],
   "source": [
    "oi_tuples = iomoves_thin_success_df.sort_values(['Num of CS','oi_journey_number']).groupby('Num of CS').apply(make_pairs,column_name='success_level')\n",
    "oi_tuples_df = pd.DataFrame(oi_tuples).reset_index().rename({0:'oi_moves'},axis=1)\n",
    "flat_oi_moves_l = [item for sublist in oi_tuples_df['oi_moves'].values for item in sublist]\n",
    "flat_oi_moves_df = pd.DataFrame(flat_oi_moves_l).rename({0:'oi_moves_in',1:'oi_moves_out'},axis=1)"
   ]
  },
  {
   "cell_type": "code",
   "execution_count": 23,
   "metadata": {
    "slideshow": {
     "slide_type": "slide"
    }
   },
   "outputs": [
    {
     "data": {
      "text/html": [
       "<div>\n",
       "<style scoped>\n",
       "    .dataframe tbody tr th:only-of-type {\n",
       "        vertical-align: middle;\n",
       "    }\n",
       "\n",
       "    .dataframe tbody tr th {\n",
       "        vertical-align: top;\n",
       "    }\n",
       "\n",
       "    .dataframe thead th {\n",
       "        text-align: right;\n",
       "    }\n",
       "</style>\n",
       "<table border=\"1\" class=\"dataframe\">\n",
       "  <thead>\n",
       "    <tr style=\"text-align: right;\">\n",
       "      <th></th>\n",
       "      <th>4</th>\n",
       "      <th>3</th>\n",
       "      <th>2</th>\n",
       "      <th>1</th>\n",
       "    </tr>\n",
       "  </thead>\n",
       "  <tbody>\n",
       "    <tr>\n",
       "      <th>4</th>\n",
       "      <td>0.705202</td>\n",
       "      <td>0.225434</td>\n",
       "      <td>0.052023</td>\n",
       "      <td>0.017341</td>\n",
       "    </tr>\n",
       "    <tr>\n",
       "      <th>3</th>\n",
       "      <td>0.378641</td>\n",
       "      <td>0.553398</td>\n",
       "      <td>0.019417</td>\n",
       "      <td>0.048544</td>\n",
       "    </tr>\n",
       "    <tr>\n",
       "      <th>2</th>\n",
       "      <td>0.173913</td>\n",
       "      <td>0.434783</td>\n",
       "      <td>0.391304</td>\n",
       "      <td>0.000000</td>\n",
       "    </tr>\n",
       "    <tr>\n",
       "      <th>1</th>\n",
       "      <td>0.300000</td>\n",
       "      <td>0.200000</td>\n",
       "      <td>0.300000</td>\n",
       "      <td>0.200000</td>\n",
       "    </tr>\n",
       "  </tbody>\n",
       "</table>\n",
       "</div>"
      ],
      "text/plain": [
       "          4         3         2         1\n",
       "4  0.705202  0.225434  0.052023  0.017341\n",
       "3  0.378641  0.553398  0.019417  0.048544\n",
       "2  0.173913  0.434783  0.391304  0.000000\n",
       "1  0.300000  0.200000  0.300000  0.200000"
      ]
     },
     "execution_count": 23,
     "metadata": {},
     "output_type": "execute_result"
    }
   ],
   "source": [
    "labels = iomoves_thin_success_df['success_level'].unique()\n",
    "conf_m = confusion_matrix(flat_oi_moves_df['oi_moves_in'], flat_oi_moves_df['oi_moves_out'],labels=labels)\n",
    "conf_m_df = pd.DataFrame(conf_m, index=labels, columns=labels)\n",
    "conf_mp_df = (conf_m_df.T /conf_m_df.T.sum()).T\n",
    "conf_mp_df"
   ]
  },
  {
   "cell_type": "code",
   "execution_count": 24,
   "metadata": {
    "slideshow": {
     "slide_type": "slide"
    }
   },
   "outputs": [
    {
     "data": {
      "image/png": "[encoded data removed]",
      "text/plain": [
       "<Figure size 1000x500 with 2 Axes>"
      ]
     },
     "metadata": {
      "needs_background": "light"
     },
     "output_type": "display_data"
    }
   ],
   "source": [
    "import seaborn as sns\n",
    "plt.figure(figsize=(10,5))\n",
    "chart = sns.heatmap(conf_mp_df, annot=True)\n",
    "chart.xaxis.tick_top()\n",
    "c_plot = plt.xticks(rotation=360, horizontalalignment='right', fontweight='light')"
   ]
  },
  {
   "cell_type": "code",
   "execution_count": 25,
   "metadata": {
    "slideshow": {
     "slide_type": "skip"
    }
   },
   "outputs": [
    {
     "data": {
      "text/html": [
       "<div>\n",
       "<style scoped>\n",
       "    .dataframe tbody tr th:only-of-type {\n",
       "        vertical-align: middle;\n",
       "    }\n",
       "\n",
       "    .dataframe tbody tr th {\n",
       "        vertical-align: top;\n",
       "    }\n",
       "\n",
       "    .dataframe thead th {\n",
       "        text-align: right;\n",
       "    }\n",
       "</style>\n",
       "<table border=\"1\" class=\"dataframe\">\n",
       "  <thead>\n",
       "    <tr style=\"text-align: right;\">\n",
       "      <th></th>\n",
       "      <th>4</th>\n",
       "      <th>3</th>\n",
       "      <th>2</th>\n",
       "      <th>1</th>\n",
       "    </tr>\n",
       "  </thead>\n",
       "  <tbody>\n",
       "    <tr>\n",
       "      <th>4</th>\n",
       "      <td>0.652893</td>\n",
       "      <td>0.272727</td>\n",
       "      <td>0.049587</td>\n",
       "      <td>0.024793</td>\n",
       "    </tr>\n",
       "    <tr>\n",
       "      <th>3</th>\n",
       "      <td>0.417910</td>\n",
       "      <td>0.492537</td>\n",
       "      <td>0.044776</td>\n",
       "      <td>0.044776</td>\n",
       "    </tr>\n",
       "    <tr>\n",
       "      <th>2</th>\n",
       "      <td>0.357143</td>\n",
       "      <td>0.428571</td>\n",
       "      <td>0.142857</td>\n",
       "      <td>0.071429</td>\n",
       "    </tr>\n",
       "    <tr>\n",
       "      <th>1</th>\n",
       "      <td>0.285714</td>\n",
       "      <td>0.285714</td>\n",
       "      <td>0.428571</td>\n",
       "      <td>0.000000</td>\n",
       "    </tr>\n",
       "  </tbody>\n",
       "</table>\n",
       "</div>"
      ],
      "text/plain": [
       "          4         3         2         1\n",
       "4  0.652893  0.272727  0.049587  0.024793\n",
       "3  0.417910  0.492537  0.044776  0.044776\n",
       "2  0.357143  0.428571  0.142857  0.071429\n",
       "1  0.285714  0.285714  0.428571  0.000000"
      ]
     },
     "execution_count": 25,
     "metadata": {},
     "output_type": "execute_result"
    }
   ],
   "source": [
    "oi_tuples = iomoves_thin_success_df.sort_values(['Num of CS','oi_journey_number']).groupby('Num of CS').apply(func=make_pairs,stride=2,column_name='success_level')\n",
    "oi_tuples_df = pd.DataFrame(oi_tuples).reset_index().rename({0:'oi_moves'},axis=1)\n",
    "flat_oi_moves_l = [item for sublist in oi_tuples_df['oi_moves'].values for item in sublist]\n",
    "flat_oi_moves_df = pd.DataFrame(flat_oi_moves_l).rename({0:'oi_moves_in',1:'oi_moves_out'},axis=1)\n",
    "conf_m2 = confusion_matrix(flat_oi_moves_df['oi_moves_in'], flat_oi_moves_df['oi_moves_out'],labels=labels)\n",
    "conf_m2_df = pd.DataFrame(conf_m2, index=labels, columns=labels)\n",
    "conf_mp2_df = (conf_m2_df.T /conf_m2_df.T.sum()).T\n",
    "conf_mp2_df"
   ]
  },
  {
   "cell_type": "code",
   "execution_count": 26,
   "metadata": {
    "slideshow": {
     "slide_type": "slide"
    }
   },
   "outputs": [
    {
     "data": {
      "text/plain": [
       "4    56.278027\n",
       "3    32.286996\n",
       "2     7.623318\n",
       "1     3.811659\n",
       "Name: success_level, dtype: float64"
      ]
     },
     "execution_count": 26,
     "metadata": {},
     "output_type": "execute_result"
    }
   ],
   "source": [
    "iomoves_thin_success_df['success_level'].value_counts(normalize=True)*100"
   ]
  },
  {
   "cell_type": "code",
   "execution_count": 27,
   "metadata": {
    "slideshow": {
     "slide_type": "slide"
    }
   },
   "outputs": [
    {
     "data": {
      "text/plain": [
       "4    251\n",
       "3    144\n",
       "2     34\n",
       "1     17\n",
       "Name: success_level, dtype: int64"
      ]
     },
     "execution_count": 27,
     "metadata": {},
     "output_type": "execute_result"
    }
   ],
   "source": [
    "iomoves_thin_success_df['success_level'].value_counts()"
   ]
  },
  {
   "cell_type": "code",
   "execution_count": 28,
   "metadata": {
    "slideshow": {
     "slide_type": "skip"
    }
   },
   "outputs": [],
   "source": [
    "t14 = iomoves_thin_success_df.sort_values(['Num of CS','oi_journey_number']).groupby('Num of CS').apply(count_pairs,column_name='success_level').to_numpy()\n",
    "t13 = iomoves_thin_success_df.sort_values(['Num of CS','oi_journey_number']).groupby('Num of CS').apply(count_pairs,column_name='success_level',end='3').to_numpy()\n",
    "t24 = iomoves_thin_success_df.sort_values(['Num of CS','oi_journey_number']).groupby('Num of CS').apply(count_pairs,column_name='success_level',start='2').to_numpy()\n",
    "t23 = iomoves_thin_success_df.sort_values(['Num of CS','oi_journey_number']).groupby('Num of CS').apply(count_pairs,column_name='success_level',start='2', end='3').to_numpy()"
   ]
  },
  {
   "cell_type": "code",
   "execution_count": 29,
   "metadata": {
    "slideshow": {
     "slide_type": "skip"
    }
   },
   "outputs": [],
   "source": [
    "t_14 = [c for t in t14 for c in t]\n",
    "t_13 = [c for t in t13 for c in t]\n",
    "t_24 = [c for t in t24 for c in t]\n",
    "t_23 = [c for t in t23 for c in t]"
   ]
  },
  {
   "cell_type": "code",
   "execution_count": 30,
   "metadata": {
    "slideshow": {
     "slide_type": "skip"
    }
   },
   "outputs": [
    {
     "name": "stdout",
     "output_type": "stream",
     "text": [
      "[3, 4, 1, 1, 1, 3] [3, 3, 1, 1, 2] [2, 3, 1, 3, 2, 2, 2, 4, 1, 2, 1] [1, 4, 1, 2, 1, 1, 1, 2, 1, 4, 1]\n"
     ]
    }
   ],
   "source": [
    "print(t_14,t_13,t_24,t_23)"
   ]
  },
  {
   "cell_type": "code",
   "execution_count": 31,
   "metadata": {
    "slideshow": {
     "slide_type": "skip"
    }
   },
   "outputs": [
    {
     "name": "stdout",
     "output_type": "stream",
     "text": [
      "2.1666666666666665\n",
      "2.0\n",
      "2.090909090909091\n",
      "1.7272727272727273\n"
     ]
    }
   ],
   "source": [
    "for t in [t_14,t_13,t_24,t_23]:\n",
    "    print(np.mean(t))"
   ]
  },
  {
   "cell_type": "code",
   "execution_count": 32,
   "metadata": {
    "slideshow": {
     "slide_type": "skip"
    }
   },
   "outputs": [],
   "source": [
    "from scipy import stats"
   ]
  },
  {
   "cell_type": "code",
   "execution_count": 33,
   "metadata": {
    "slideshow": {
     "slide_type": "skip"
    }
   },
   "outputs": [
    {
     "data": {
      "text/plain": [
       "(array([3., 0., 0., 0., 0., 0., 2., 0., 0., 1.]),\n",
       " array([1. , 1.3, 1.6, 1.9, 2.2, 2.5, 2.8, 3.1, 3.4, 3.7, 4. ]),\n",
       " <a list of 10 Patch objects>)"
      ]
     },
     "execution_count": 33,
     "metadata": {},
     "output_type": "execute_result"
    },
    {
     "data": {
      "image/png": "[encoded data removed]",
      "text/plain": [
       "<Figure size 1200x800 with 1 Axes>"
      ]
     },
     "metadata": {
      "needs_background": "light"
     },
     "output_type": "display_data"
    }
   ],
   "source": [
    "plt.hist(t_14, bins=10)"
   ]
  },
  {
   "cell_type": "code",
   "execution_count": 34,
   "metadata": {
    "slideshow": {
     "slide_type": "skip"
    }
   },
   "outputs": [
    {
     "name": "stdout",
     "output_type": "stream",
     "text": [
      "(0.2003132613544416, 0.9999999999999999, 0.24523431446124155)\n"
     ]
    }
   ],
   "source": [
    "dist = getattr(stats, 'fisk')\n",
    "parameters = dist.fit(t_14)\n",
    "print(parameters)"
   ]
  },
  {
   "cell_type": "code",
   "execution_count": 35,
   "metadata": {
    "slideshow": {
     "slide_type": "skip"
    }
   },
   "outputs": [
    {
     "data": {
      "text/plain": [
       "KstestResult(statistic=0.49915667949832326, pvalue=0.06634592109080599)"
      ]
     },
     "execution_count": 35,
     "metadata": {},
     "output_type": "execute_result"
    }
   ],
   "source": [
    "stats.kstest(t_14, 'fisk',parameters)"
   ]
  },
  {
   "cell_type": "markdown",
   "metadata": {
    "slideshow": {
     "slide_type": "slide"
    }
   },
   "source": [
    "### What are the probabilities of the second move.\n",
    "\n",
    "#### Example : Given my stochastic matrix what is the probability an (Very/Moderate) unsuccessful  to become (Very/Extreme) successfull  in TWO moves? "
   ]
  },
  {
   "cell_type": "code",
   "execution_count": 36,
   "metadata": {
    "scrolled": true,
    "slideshow": {
     "slide_type": "slide"
    }
   },
   "outputs": [
    {
     "data": {
      "text/html": [
       "<div>\n",
       "<style scoped>\n",
       "    .dataframe tbody tr th:only-of-type {\n",
       "        vertical-align: middle;\n",
       "    }\n",
       "\n",
       "    .dataframe tbody tr th {\n",
       "        vertical-align: top;\n",
       "    }\n",
       "\n",
       "    .dataframe thead th {\n",
       "        text-align: right;\n",
       "    }\n",
       "</style>\n",
       "<table border=\"1\" class=\"dataframe\">\n",
       "  <thead>\n",
       "    <tr style=\"text-align: right;\">\n",
       "      <th></th>\n",
       "      <th>4</th>\n",
       "      <th>3</th>\n",
       "      <th>2</th>\n",
       "      <th>1</th>\n",
       "    </tr>\n",
       "  </thead>\n",
       "  <tbody>\n",
       "    <tr>\n",
       "      <th>4</th>\n",
       "      <td>0.596918</td>\n",
       "      <td>0.309818</td>\n",
       "      <td>0.066623</td>\n",
       "      <td>0.026641</td>\n",
       "    </tr>\n",
       "    <tr>\n",
       "      <th>3</th>\n",
       "      <td>0.494497</td>\n",
       "      <td>0.409759</td>\n",
       "      <td>0.052605</td>\n",
       "      <td>0.043139</td>\n",
       "    </tr>\n",
       "    <tr>\n",
       "      <th>2</th>\n",
       "      <td>0.355323</td>\n",
       "      <td>0.449946</td>\n",
       "      <td>0.170609</td>\n",
       "      <td>0.024122</td>\n",
       "    </tr>\n",
       "    <tr>\n",
       "      <th>1</th>\n",
       "      <td>0.399463</td>\n",
       "      <td>0.348744</td>\n",
       "      <td>0.196882</td>\n",
       "      <td>0.054911</td>\n",
       "    </tr>\n",
       "  </tbody>\n",
       "</table>\n",
       "</div>"
      ],
      "text/plain": [
       "          4         3         2         1\n",
       "4  0.596918  0.309818  0.066623  0.026641\n",
       "3  0.494497  0.409759  0.052605  0.043139\n",
       "2  0.355323  0.449946  0.170609  0.024122\n",
       "1  0.399463  0.348744  0.196882  0.054911"
      ]
     },
     "execution_count": 36,
     "metadata": {},
     "output_type": "execute_result"
    }
   ],
   "source": [
    "pd.DataFrame(matrix_power(conf_mp_df.to_numpy(), 2),index=labels, columns=labels)"
   ]
  },
  {
   "cell_type": "markdown",
   "metadata": {
    "slideshow": {
     "slide_type": "slide"
    }
   },
   "source": [
    "### What are the probabilities of the third move."
   ]
  },
  {
   "cell_type": "code",
   "execution_count": 37,
   "metadata": {
    "slideshow": {
     "slide_type": "slide"
    }
   },
   "outputs": [
    {
     "data": {
      "text/html": [
       "<div>\n",
       "<style scoped>\n",
       "    .dataframe tbody tr th:only-of-type {\n",
       "        vertical-align: middle;\n",
       "    }\n",
       "\n",
       "    .dataframe tbody tr th {\n",
       "        vertical-align: top;\n",
       "    }\n",
       "\n",
       "    .dataframe thead th {\n",
       "        text-align: right;\n",
       "    }\n",
       "</style>\n",
       "<table border=\"1\" class=\"dataframe\">\n",
       "  <thead>\n",
       "    <tr style=\"text-align: right;\">\n",
       "      <th></th>\n",
       "      <th>4</th>\n",
       "      <th>3</th>\n",
       "      <th>2</th>\n",
       "      <th>1</th>\n",
       "    </tr>\n",
       "  </thead>\n",
       "  <tbody>\n",
       "    <tr>\n",
       "      <th>4</th>\n",
       "      <td>0.557837</td>\n",
       "      <td>0.340313</td>\n",
       "      <td>0.071132</td>\n",
       "      <td>0.030719</td>\n",
       "    </tr>\n",
       "    <tr>\n",
       "      <th>3</th>\n",
       "      <td>0.525962</td>\n",
       "      <td>0.369736</td>\n",
       "      <td>0.067208</td>\n",
       "      <td>0.037094</td>\n",
       "    </tr>\n",
       "    <tr>\n",
       "      <th>2</th>\n",
       "      <td>0.457850</td>\n",
       "      <td>0.408103</td>\n",
       "      <td>0.101218</td>\n",
       "      <td>0.032828</td>\n",
       "    </tr>\n",
       "    <tr>\n",
       "      <th>1</th>\n",
       "      <td>0.464465</td>\n",
       "      <td>0.379630</td>\n",
       "      <td>0.121067</td>\n",
       "      <td>0.034839</td>\n",
       "    </tr>\n",
       "  </tbody>\n",
       "</table>\n",
       "</div>"
      ],
      "text/plain": [
       "          4         3         2         1\n",
       "4  0.557837  0.340313  0.071132  0.030719\n",
       "3  0.525962  0.369736  0.067208  0.037094\n",
       "2  0.457850  0.408103  0.101218  0.032828\n",
       "1  0.464465  0.379630  0.121067  0.034839"
      ]
     },
     "execution_count": 37,
     "metadata": {},
     "output_type": "execute_result"
    }
   ],
   "source": [
    "pd.DataFrame(matrix_power(conf_mp_df.to_numpy(), 3),index=labels, columns=labels)"
   ]
  },
  {
   "cell_type": "markdown",
   "metadata": {
    "slideshow": {
     "slide_type": "slide"
    }
   },
   "source": [
    "### What are the probabilities of the fourth move."
   ]
  },
  {
   "cell_type": "code",
   "execution_count": 38,
   "metadata": {
    "slideshow": {
     "slide_type": "slide"
    }
   },
   "outputs": [
    {
     "data": {
      "text/html": [
       "<div>\n",
       "<style scoped>\n",
       "    .dataframe tbody tr th:only-of-type {\n",
       "        vertical-align: middle;\n",
       "    }\n",
       "\n",
       "    .dataframe tbody tr th {\n",
       "        vertical-align: top;\n",
       "    }\n",
       "\n",
       "    .dataframe thead th {\n",
       "        text-align: right;\n",
       "    }\n",
       "</style>\n",
       "<table border=\"1\" class=\"dataframe\">\n",
       "  <thead>\n",
       "    <tr style=\"text-align: right;\">\n",
       "      <th></th>\n",
       "      <th>4</th>\n",
       "      <th>3</th>\n",
       "      <th>2</th>\n",
       "      <th>1</th>\n",
       "    </tr>\n",
       "  </thead>\n",
       "  <tbody>\n",
       "    <tr>\n",
       "      <th>4</th>\n",
       "      <td>0.543830</td>\n",
       "      <td>0.351154</td>\n",
       "      <td>0.072678</td>\n",
       "      <td>0.032337</td>\n",
       "    </tr>\n",
       "    <tr>\n",
       "      <th>3</th>\n",
       "      <td>0.533723</td>\n",
       "      <td>0.359820</td>\n",
       "      <td>0.071969</td>\n",
       "      <td>0.034488</td>\n",
       "    </tr>\n",
       "    <tr>\n",
       "      <th>2</th>\n",
       "      <td>0.504853</td>\n",
       "      <td>0.379632</td>\n",
       "      <td>0.081199</td>\n",
       "      <td>0.034316</td>\n",
       "    </tr>\n",
       "    <tr>\n",
       "      <th>1</th>\n",
       "      <td>0.502792</td>\n",
       "      <td>0.374398</td>\n",
       "      <td>0.089360</td>\n",
       "      <td>0.033451</td>\n",
       "    </tr>\n",
       "  </tbody>\n",
       "</table>\n",
       "</div>"
      ],
      "text/plain": [
       "          4         3         2         1\n",
       "4  0.543830  0.351154  0.072678  0.032337\n",
       "3  0.533723  0.359820  0.071969  0.034488\n",
       "2  0.504853  0.379632  0.081199  0.034316\n",
       "1  0.502792  0.374398  0.089360  0.033451"
      ]
     },
     "execution_count": 38,
     "metadata": {},
     "output_type": "execute_result"
    }
   ],
   "source": [
    "pd.DataFrame(matrix_power(conf_mp_df.to_numpy(), 4),index=labels, columns=labels)"
   ]
  },
  {
   "cell_type": "markdown",
   "metadata": {
    "slideshow": {
     "slide_type": "slide"
    }
   },
   "source": [
    "### What are the probabilities of the fifth (converge) move."
   ]
  },
  {
   "cell_type": "code",
   "execution_count": 39,
   "metadata": {
    "slideshow": {
     "slide_type": "slide"
    }
   },
   "outputs": [
    {
     "data": {
      "text/html": [
       "<div>\n",
       "<style scoped>\n",
       "    .dataframe tbody tr th:only-of-type {\n",
       "        vertical-align: middle;\n",
       "    }\n",
       "\n",
       "    .dataframe tbody tr th {\n",
       "        vertical-align: top;\n",
       "    }\n",
       "\n",
       "    .dataframe thead th {\n",
       "        text-align: right;\n",
       "    }\n",
       "</style>\n",
       "<table border=\"1\" class=\"dataframe\">\n",
       "  <thead>\n",
       "    <tr style=\"text-align: right;\">\n",
       "      <th></th>\n",
       "      <th>4</th>\n",
       "      <th>3</th>\n",
       "      <th>2</th>\n",
       "      <th>1</th>\n",
       "    </tr>\n",
       "  </thead>\n",
       "  <tbody>\n",
       "    <tr>\n",
       "      <th>4</th>\n",
       "      <td>0.538813</td>\n",
       "      <td>0.354992</td>\n",
       "      <td>0.073251</td>\n",
       "      <td>0.032944</td>\n",
       "    </tr>\n",
       "    <tr>\n",
       "      <th>3</th>\n",
       "      <td>0.535488</td>\n",
       "      <td>0.357631</td>\n",
       "      <td>0.073261</td>\n",
       "      <td>0.033620</td>\n",
       "    </tr>\n",
       "    <tr>\n",
       "      <th>2</th>\n",
       "      <td>0.524184</td>\n",
       "      <td>0.366065</td>\n",
       "      <td>0.075704</td>\n",
       "      <td>0.034047</td>\n",
       "    </tr>\n",
       "    <tr>\n",
       "      <th>1</th>\n",
       "      <td>0.521908</td>\n",
       "      <td>0.366079</td>\n",
       "      <td>0.078429</td>\n",
       "      <td>0.033584</td>\n",
       "    </tr>\n",
       "  </tbody>\n",
       "</table>\n",
       "</div>"
      ],
      "text/plain": [
       "          4         3         2         1\n",
       "4  0.538813  0.354992  0.073251  0.032944\n",
       "3  0.535488  0.357631  0.073261  0.033620\n",
       "2  0.524184  0.366065  0.075704  0.034047\n",
       "1  0.521908  0.366079  0.078429  0.033584"
      ]
     },
     "execution_count": 39,
     "metadata": {},
     "output_type": "execute_result"
    }
   ],
   "source": [
    "pd.DataFrame(matrix_power(conf_mp_df.to_numpy(), 5),index=labels, columns=labels)"
   ]
  },
  {
   "cell_type": "markdown",
   "metadata": {
    "slideshow": {
     "slide_type": "slide"
    }
   },
   "source": [
    "### Expected steps needed to reach from one state to another.\n",
    "\n",
    "#### Example : How many expected steps we need to get from 1 to 4?"
   ]
  },
  {
   "cell_type": "code",
   "execution_count": 40,
   "metadata": {
    "slideshow": {
     "slide_type": "slide"
    }
   },
   "outputs": [
    {
     "data": {
      "text/html": [
       "<div>\n",
       "<style scoped>\n",
       "    .dataframe tbody tr th:only-of-type {\n",
       "        vertical-align: middle;\n",
       "    }\n",
       "\n",
       "    .dataframe tbody tr th {\n",
       "        vertical-align: top;\n",
       "    }\n",
       "\n",
       "    .dataframe thead th {\n",
       "        text-align: right;\n",
       "    }\n",
       "</style>\n",
       "<table border=\"1\" class=\"dataframe\">\n",
       "  <thead>\n",
       "    <tr style=\"text-align: right;\">\n",
       "      <th></th>\n",
       "      <th>4</th>\n",
       "      <th>3</th>\n",
       "      <th>2</th>\n",
       "      <th>1</th>\n",
       "    </tr>\n",
       "  </thead>\n",
       "  <tbody>\n",
       "    <tr>\n",
       "      <th>4</th>\n",
       "      <td>1.42</td>\n",
       "      <td>4.44</td>\n",
       "      <td>19.22</td>\n",
       "      <td>57.67</td>\n",
       "    </tr>\n",
       "    <tr>\n",
       "      <th>3</th>\n",
       "      <td>2.64</td>\n",
       "      <td>1.81</td>\n",
       "      <td>51.50</td>\n",
       "      <td>20.60</td>\n",
       "    </tr>\n",
       "    <tr>\n",
       "      <th>2</th>\n",
       "      <td>5.75</td>\n",
       "      <td>2.30</td>\n",
       "      <td>2.56</td>\n",
       "      <td>0.00</td>\n",
       "    </tr>\n",
       "    <tr>\n",
       "      <th>1</th>\n",
       "      <td>3.33</td>\n",
       "      <td>5.00</td>\n",
       "      <td>3.33</td>\n",
       "      <td>5.00</td>\n",
       "    </tr>\n",
       "  </tbody>\n",
       "</table>\n",
       "</div>"
      ],
      "text/plain": [
       "      4     3      2      1\n",
       "4  1.42  4.44  19.22  57.67\n",
       "3  2.64  1.81  51.50  20.60\n",
       "2  5.75  2.30   2.56   0.00\n",
       "1  3.33  5.00   3.33   5.00"
      ]
     },
     "execution_count": 40,
     "metadata": {},
     "output_type": "execute_result"
    }
   ],
   "source": [
    "conf_esteps_dt = (1/conf_mp_df)\n",
    "conf_esteps_dt.iloc[2,3] = 0\n",
    "conf_esteps_dt.round(2)"
   ]
  },
  {
   "cell_type": "code",
   "execution_count": 41,
   "metadata": {
    "slideshow": {
     "slide_type": "slide"
    }
   },
   "outputs": [
    {
     "name": "stdout",
     "output_type": "stream",
     "text": [
      "\n",
      "DISCRETE-TIME MARKOV CHAIN\n",
      " SIZE:           4\n",
      " CLASSES:        1\n",
      "  > RECURRENT:   1\n",
      "  > TRANSIENT:   0\n",
      " ERGODIC:        YES\n",
      "  > APERIODIC:   YES\n",
      "  > IRREDUCIBLE: YES\n",
      " ABSORBING:      NO\n",
      " REGULAR:        NO\n",
      " REVERSIBLE:     NO\n",
      " SYMMETRIC:      NO\n",
      "\n"
     ]
    }
   ],
   "source": [
    "import pydtmc as dtmc\n",
    "conf_mp_df.to_numpy()\n",
    "mc = dtmc.MarkovChain(conf_mp_df.to_numpy(), labels)\n",
    "print(mc)"
   ]
  },
  {
   "cell_type": "code",
   "execution_count": 42,
   "metadata": {
    "slideshow": {
     "slide_type": "slide"
    }
   },
   "outputs": [
    {
     "data": {
      "image/png": "[encoded data removed]",
      "text/plain": [
       "<Figure size 1200x800 with 1 Axes>"
      ]
     },
     "metadata": {},
     "output_type": "display_data"
    }
   ],
   "source": [
    "dtmc.plot_graph(mc)"
   ]
  },
  {
   "cell_type": "code",
   "execution_count": null,
   "metadata": {},
   "outputs": [],
   "source": []
  }
 ],
 "metadata": {
  "celltoolbar": "Slideshow",
  "kernelspec": {
   "display_name": "Python 3",
   "language": "python",
   "name": "python3"
  },
  "language_info": {
   "codemirror_mode": {
    "name": "ipython",
    "version": 3
   },
   "file_extension": ".py",
   "mimetype": "text/x-python",
   "name": "python",
   "nbconvert_exporter": "python",
   "pygments_lexer": "ipython3",
   "version": "3.7.9"
  }
 },
 "nbformat": 4,
 "nbformat_minor": 4
}
